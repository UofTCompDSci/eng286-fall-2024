{
 "cells": [
  {
   "cell_type": "markdown",
   "id": "f1bd5e7f",
   "metadata": {},
   "source": [
    "# Week 9 Lab\n",
    "\n",
    "\n",
    "## Instructions\n",
    "\n",
    "For each item, write your code in the first cell below the comment. To check that it works as intended, run the second cell. You can run the tests as many times as you like to get things working.\n",
    "\n",
    "\n",
    "## Due date\n",
    "Labs are due each week on Wednesday at 10pm "
   ]
  },
  {
   "cell_type": "markdown",
   "id": "4afa930b",
   "metadata": {},
   "source": [
    "# Assignment"
   ]
  },
  {
   "cell_type": "markdown",
   "id": "a93977f6",
   "metadata": {},
   "source": [
    "## Task 1: Creating a `gender_signal` column for the CSAL metadata\n",
    "\n",
    "Run the below code (repurposed from the Week 8 Lecture Supplement) to add a `gender_signal` column to the CSAL metadata and store this newly-augmented DataFrame in a variable named `csal_meta_gender_signal_df`.\n",
    "\n",
    "The below code uses the same `name_gender_dataset.csv` file we used to generate gender signals for the NYT Best Seller List. Although Indian first names are relatively well-represented in the list (the six names not covered here were also not in any of the datasets we looked at that are focused specifically on Indian first names), the code below manuallu adds one count for each of the six names in the CSAL dataset that are not represented in the `name_gender_dataset.csv` file. We have based these gender signal counts on the pronouns used in the corresponding writer's Wikipedia page.\n",
    "\n",
    "Note also that this code also generates a file called `csal_meta_gender_signal.csv` with the `gender_signal` column, which you can use for your Project if you're interested in doing so... :)"
   ]
  },
  {
   "cell_type": "code",
   "execution_count": null,
   "id": "83673cfd",
   "metadata": {},
   "outputs": [],
   "source": [
    "# Run this code cell\n",
    "\n",
    "import pandas as pd\n",
    "\n",
    "n2g_df = pd.read_csv('name_gender_dataset.csv')\n",
    "\n",
    "name2counts = {}  \n",
    "for i, row in n2g_df.iterrows(): \n",
    "    nme = row['Name'] \n",
    "    if nme not in name2counts: \n",
    "        name2counts[nme] = {'F':0, 'M': 0}  \n",
    "    name2counts[nme][row['Gender']] = row['Count'] \n",
    "    \n",
    "# Manually adding counts for missing names \n",
    "name2counts['Bankim'] = {'F': 0, 'M': 1}\n",
    "name2counts['Krupabai'] = {'F': 1, 'M': 0}    \n",
    "name2counts['Pandita'] = {'F': 1, 'M': 0}    \n",
    "name2counts['Rabindranath'] = {'F': 0, 'M': 1}\n",
    "name2counts['Saratchandra'] = {'F': 0, 'M': 1}\n",
    "\n",
    "name2genders = {}  \n",
    "for name, counts in name2counts.items():\n",
    "    \n",
    "    f_count = counts['F']  \n",
    "    m_count = counts['M']  \n",
    "    \n",
    "    if m_count == 0 or f_count/(m_count+f_count) >= 0.9: \n",
    "        name2genders[name] = 'F'\n",
    "    elif f_count == 0 or m_count/(f_count+m_count) >= 0.9: \n",
    "        name2genders[name] = 'M'\n",
    "    else:\n",
    "        name2genders[name] = 'A'  \n",
    "\n",
    "def get_gender_signal(first_name):\n",
    "    gender = 'U'\n",
    "    if first_name in name2genders:\n",
    "        gender = name2genders[first_name]\n",
    "    return gender\n",
    "\n",
    "csal_meta_gender_signal_df = pd.read_csv('csal.csv')\n",
    "\n",
    "def get_first_name(name):\n",
    "    first_name = name.split(\" \")[0]\n",
    "    return first_name\n",
    "    \n",
    "csal_meta_gender_signal_df['first_name'] = csal_meta_gender_signal_df['Author'].apply(get_first_name)\n",
    "\n",
    "def get_gender_signal(name):\n",
    "    gender = 'U'\n",
    "    if name in name2genders:\n",
    "        gender = name2genders[name]\n",
    "    if len(name) == 1 or name[1] == '.': \n",
    "        gender = 'I'\n",
    "    return gender\n",
    "\n",
    "csal_meta_gender_signal_df['gender_signal'] = csal_meta_gender_signal_df['first_name'].apply(get_gender_signal)\n",
    "\n",
    "csal_meta_gender_signal_df.to_csv(\"csal_meta_gender_signal.csv\", encoding='utf-8', index=False)"
   ]
  },
  {
   "cell_type": "code",
   "execution_count": null,
   "id": "fafe0bc8",
   "metadata": {},
   "outputs": [],
   "source": [
    "# Run this cell to confirm that the above step worked\n",
    "\n",
    "print(csal_meta_gender_signal_df['gender_signal'].value_counts())\n",
    "\n",
    "csal_meta_gender_signal_df['gender_signal'].value_counts().plot(kind='pie', figsize=(7, 7), autopct='%1.0f%%')"
   ]
  },
  {
   "cell_type": "markdown",
   "id": "7e4146e3",
   "metadata": {},
   "source": [
    "## Task 2: Investigating gender signal representation by genre\n",
    "\n",
    "Using techniques from the Week 9 lecture notebook, generate a DataFrame that shows genre representation by gender signal category. \n",
    "\n",
    "Use the `df.groupby()` function to group `csal_meta_gender_signal_df` *first* by the `Genre` column and *then* by the `gender_signal` column — applying the same `.size()` and `.unstack(fill_value=0)` methods as in the lecture code to properly format the results. Store this DataFrame in a variable named `csal_genre_by_gender_signal_df`.\n",
    "\n",
    "Display the resulting DataFrame by calling its variable name."
   ]
  },
  {
   "cell_type": "code",
   "execution_count": null,
   "id": "c2c8af6a",
   "metadata": {},
   "outputs": [],
   "source": [
    "# Write your code here\n"
   ]
  },
  {
   "cell_type": "markdown",
   "id": "9f068851",
   "metadata": {},
   "source": [
    "## Task 3: Reflecting on gender representation by genre\n",
    "\n",
    "Based on the results obtained in the previous step, answer the below questions in the MarkDown cell below:\n",
    "\n",
    "Is any gender signal category over- or under-represented in a particular genre in the CSAL dataset? How did you determine your answer to that question? What Pandas methods did you use to answer it — and which methods did you want to use, but didn't know how to use, or how to interpret? "
   ]
  },
  {
   "cell_type": "markdown",
   "id": "cfb8597b",
   "metadata": {},
   "source": [
    "**(Delete this text and enter your answers here.)**"
   ]
  },
  {
   "cell_type": "markdown",
   "id": "36c6ede5",
   "metadata": {},
   "source": [
    "## Task 4: Research questions for the CSAL dataset\n",
    "\n",
    "In the MarkDown cell below, write out what you consider to be the three most interesting research questions we could ask of the CSAL dataset (with or without the `gender_signal` column) in a Data Science context. These don't need to be research questions you've thought of yourself — they can be research questions we discussed in class — but they definitely *can* be original :) For each of the research questions, very briefly explain (one-two sentences) why you think they're interesting."
   ]
  },
  {
   "cell_type": "markdown",
   "id": "c221be3e",
   "metadata": {},
   "source": [
    "**(Delete this text and enter your answers here.)**"
   ]
  },
  {
   "cell_type": "markdown",
   "id": "56db26bb",
   "metadata": {},
   "source": [
    "## Task 5: Project proposal in a few sentences\n",
    "\n",
    "Very briefly: what are you thinking of doing for your Project? Just write a couple of sentences about what you're planning to pitch in the Project Proposal due on the 21st."
   ]
  },
  {
   "cell_type": "markdown",
   "id": "2ff4925f",
   "metadata": {},
   "source": [
    "**(Delete this text and enter your answers here.)**"
   ]
  },
  {
   "cell_type": "markdown",
   "id": "e6a4167b",
   "metadata": {},
   "source": [
    "## How to Submit\n",
    "1. Download this notebook to your local computer and save it as `W09-lab.ipynb`.\n",
    "\n",
    "2. Log into MarkUs using the link on Quercus.\n",
    "\n",
    "3. Submit your homework to `lab9: Lab 9`."
   ]
  }
 ],
 "metadata": {
  "kernelspec": {
   "display_name": "Python 3 (ipykernel)",
   "language": "python",
   "name": "python3"
  },
  "language_info": {
   "codemirror_mode": {
    "name": "ipython",
    "version": 3
   },
   "file_extension": ".py",
   "mimetype": "text/x-python",
   "name": "python",
   "nbconvert_exporter": "python",
   "pygments_lexer": "ipython3",
   "version": "3.9.7"
  }
 },
 "nbformat": 4,
 "nbformat_minor": 5
}
