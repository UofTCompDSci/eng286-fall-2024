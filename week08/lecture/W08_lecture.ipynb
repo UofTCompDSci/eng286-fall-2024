{
 "cells": [
  {
   "cell_type": "markdown",
   "id": "4a4c67df",
   "metadata": {
    "id": "7a7614d2"
   },
   "source": [
    "# Week 8: Analyzing Gender Signals in the NYT Best Seller List\n",
    "\n",
    "\n",
    "In this lecture, we begin with by loading a TSV file that adds `first_name` and `gender_signal` column to the NYT Best Seller list dataset discussed last week. The values in this `gender_signal` column were generated using the methods in a separate supplementary notebook. For the purpose of the final exam, **you are only expected to be familiar with material in this main lecture notebook, not the material in the supplementary notebook.** \n",
    "\n",
    "As described in the PDF lecture slides for this week, the approximated gender signals in the \"gender_signal\" column are by no means meant to be objective or definitive. We introduce the process — based on baby name data — explicitly so that you can be informed and critical about the way that gender is routinely discussed and described in Data Science research.\n",
    "\n",
    "In this notebook, we\n",
    "* Load the version of the NYT Best Seller List with the added `first_name_` and `gender_signal` columns, `nyt_full_gender_signal.tsv` as a Pandas DataFrame\n",
    "* Use the `.groupby()` method to group the data by year and gender signal, which gives us counts for the various gender categories in each year of the NYT Best Seller List dataset\n",
    "* Use the `.sum()` method to get counts of the total number of entries in each year of the Best Seller List dataset, so that we can record the relative proportion of each gender category for each year\n",
    "* Plot these results in a variety of manners\n",
    "* Investigate years of particular interest\n",
    "\n",
    "## Links\n",
    "\n",
    "All decisions involved in the creation of the `first_name` and `gender_signal` columns of `nyt_full_gender_signal.tsv` are explained in this week's Lecture Slides (PDF) and in the Week 8 Lecture Supplement (Jupyter Notebook), both linked from the syllabus.\n",
    "\n",
    "This work draws on the [Gender By Name Data Set](https://archive.ics.uci.edu/ml/datasets/Gender+by+Name)\n",
    "\n",
    "This lecture draws on Melanie Walsh's discussion of the `.groupby()` method found in her chapter [Pandas Basics II](https://melaniewalsh.github.io/Intro-Cultural-Analytics/03-Data-Analysis/02-Pandas-Basics-Part2.html#groupby-columns)"
   ]
  },
  {
   "cell_type": "markdown",
   "id": "066dd707",
   "metadata": {
    "id": "430a1ff8"
   },
   "source": [
    "# Loading `nyt_full_gender_signal.tsv` with Pandas\n",
    "\n",
    "Let's begin by importing Pandas and loading `nyt_full_gender_signal.tsv`, the file created in the Supplementary Notebook. This will load a DataFrame with two additional columns: `first_name`, the first word in the existing `author` column, and `gender_signal`, which seeks to approximate the **gender signal** carried by that name. `gender_signal` can take one of five values:\n",
    "- `F` **Female**: first names given to children of female sex in the Gender By Name dataset 90% or more of the time\n",
    "- `M` **Male**: first names given to children of male sex in the Gender By Name dataset 90% or more of the time\n",
    "- `A` **Ambiguous**: first names that do not meet either of the 90% thresholds listed above\n",
    "- `U` **Unknown**: first names that do not appear in the Gender By Name dataset\n",
    "- `I` **Initials**: authors whose gender is masked by names given only as initials"
   ]
  },
  {
   "cell_type": "code",
   "execution_count": 6,
   "id": "11339bcf",
   "metadata": {
    "scrolled": true
   },
   "outputs": [],
   "source": [
    "import pandas as pd\n",
    "\n",
    "nytg_df = pd.read_csv('nyt_full_gender_signal.tsv', sep=\"\\t\")"
   ]
  },
  {
   "cell_type": "code",
   "execution_count": null,
   "id": "8a908858",
   "metadata": {},
   "outputs": [],
   "source": [
    "nytg_df"
   ]
  },
  {
   "cell_type": "markdown",
   "id": "4b8eac99",
   "metadata": {},
   "source": [
    "Now, using a technique introduced last class, let's get the value counts for each of these categories in the `gender_signal` column."
   ]
  },
  {
   "cell_type": "code",
   "execution_count": null,
   "id": "75868ac8",
   "metadata": {
    "scrolled": false
   },
   "outputs": [],
   "source": [
    "nytg_df['gender_signal'].value_counts()"
   ]
  },
  {
   "cell_type": "markdown",
   "id": "e1afa649",
   "metadata": {},
   "source": [
    "Again, using a technique introduced last class, let's produce a pie chart that demonstrates the relative proprtion of each gender signal category in the dataset."
   ]
  },
  {
   "cell_type": "code",
   "execution_count": null,
   "id": "08c9d86f",
   "metadata": {
    "scrolled": true
   },
   "outputs": [],
   "source": [
    "plot = nytg_df['gender_signal'].value_counts().plot(kind=\"barh\", figsize=(10, 10))\n",
    "print(plot)"
   ]
  },
  {
   "cell_type": "markdown",
   "id": "02614c19",
   "metadata": {},
   "source": [
    "Let's now take a look at the actual names that the `\"gender_signal\"` column is identifying according to various categories. First let's have a look at the `A` or \"ambiguous\" category: names that are in the list but don't cross the 90% threshold. \n",
    "\n",
    "Using a technique introduced last class, we'll create `gender_filter` variable (a boolean Series) that has a true/false value for whether each row has a `\"gender_signal\"` value equal to `\"A\"` — then use that to pull out only the rows of the DataFrame where `\"gender_signal\"` is `\"A\"`."
   ]
  },
  {
   "cell_type": "code",
   "execution_count": null,
   "id": "9e46eb77",
   "metadata": {},
   "outputs": [],
   "source": [
    "gender_filter = nytg_df['gender_signal']=='A'\n",
    "type(gender_filter)"
   ]
  },
  {
   "cell_type": "code",
   "execution_count": null,
   "id": "56189816",
   "metadata": {
    "scrolled": true
   },
   "outputs": [],
   "source": [
    "nytg_df[gender_filter]"
   ]
  },
  {
   "cell_type": "markdown",
   "id": "4b16f0fb",
   "metadata": {},
   "source": [
    "Note that the above line of code is equivalent to the below (as discussed in last week's lecture notebook). We just think the above is a bit more legible."
   ]
  },
  {
   "cell_type": "code",
   "execution_count": null,
   "id": "d13827cc",
   "metadata": {},
   "outputs": [],
   "source": [
    "nytg_df[nytg_df['gender_signal']=='A']"
   ]
  },
  {
   "cell_type": "markdown",
   "id": "6d95e449",
   "metadata": {},
   "source": [
    "Now let's select only the `\"first_name\"` column, and call the `.unique()` method to see all the unique names that our method has identified as `\"A\"`"
   ]
  },
  {
   "cell_type": "code",
   "execution_count": null,
   "id": "584ef581",
   "metadata": {
    "scrolled": false
   },
   "outputs": [],
   "source": [
    "nytg_df[gender_filter]['first_name'].unique()"
   ]
  },
  {
   "cell_type": "markdown",
   "id": "a65eb31e",
   "metadata": {},
   "source": [
    "And now let's repeat that for the `\"U\"`, `\"I\"` — and much larger `\"F\"` and `\"M\"` — categories. How well is our gender system doing? What are its blind spots? How could it be improved?"
   ]
  },
  {
   "cell_type": "code",
   "execution_count": null,
   "id": "4794fa9a",
   "metadata": {},
   "outputs": [],
   "source": [
    "gender_filter = nytg_df['gender_signal']=='I'\n",
    "sorted(nytg_df[gender_filter]['first_name'].unique())"
   ]
  },
  {
   "cell_type": "code",
   "execution_count": null,
   "id": "20d3a855",
   "metadata": {},
   "outputs": [],
   "source": [
    "gender_filter = nytg_df['gender_signal']=='U'\n",
    "nytg_df[gender_filter]['first_name'].unique()"
   ]
  },
  {
   "cell_type": "code",
   "execution_count": null,
   "id": "7ef9bfce",
   "metadata": {},
   "outputs": [],
   "source": [
    "gender_filter = nytg_df['gender_signal']=='F'\n",
    "nytg_df[gender_filter]['first_name'].unique()"
   ]
  },
  {
   "cell_type": "code",
   "execution_count": null,
   "id": "c2838162",
   "metadata": {},
   "outputs": [],
   "source": [
    "nytg_df[nytg_df['first_name'] == 'Ngaio']"
   ]
  },
  {
   "cell_type": "code",
   "execution_count": null,
   "id": "bb34779c",
   "metadata": {},
   "outputs": [],
   "source": [
    "gender_filter = nytg_df['gender_signal']=='M'\n",
    "nytg_df[gender_filter]['first_name'].unique()"
   ]
  },
  {
   "cell_type": "code",
   "execution_count": null,
   "id": "c3a37dc5",
   "metadata": {},
   "outputs": [],
   "source": [
    "nytg_df[nytg_df['first_name'] == 'Dr.']"
   ]
  },
  {
   "cell_type": "markdown",
   "id": "3b35d727",
   "metadata": {},
   "source": [
    "# Getting the Gender Signal Data into a Useful Form\n",
    "\n",
    "Let's suppose we've decided our gender signal information is sufficient to proceed with our analysis. The immediate challenge, then, is to get the data into a useful form.\n",
    "\n",
    "We're interested in knowing how many authors of each gender signal category appears for every year of the dataset.\n",
    "\n",
    "What data type do want to get our data into? What colums and rows do we want to see, and how do we want them organized? What will the actual values look like?"
   ]
  },
  {
   "cell_type": "markdown",
   "id": "77154280",
   "metadata": {},
   "source": [
    "## `.groupby()`\n",
    "\n",
    "Let's start our journey with the `.groupby()` method, which allows us to group the data by particular columns and perform calculations on it. For instance, let's try grouping out `nytg_df` DataFrame by the `gender_signal` column."
   ]
  },
  {
   "cell_type": "code",
   "execution_count": null,
   "id": "fc7bb088",
   "metadata": {},
   "outputs": [],
   "source": [
    "nytg_df.groupby(\"gender_signal\")"
   ]
  },
  {
   "cell_type": "markdown",
   "id": "4a8d8d47",
   "metadata": {},
   "source": [
    "The above command produces a \"GroupBy\" object."
   ]
  },
  {
   "cell_type": "code",
   "execution_count": null,
   "id": "2ab16244",
   "metadata": {},
   "outputs": [],
   "source": [
    "type(nytg_df.groupby(\"gender_signal\"))"
   ]
  },
  {
   "cell_type": "markdown",
   "id": "8f4e5779",
   "metadata": {},
   "source": [
    "We can perform a few methods on these GroupBy objects. Let's start with `.count()`"
   ]
  },
  {
   "cell_type": "code",
   "execution_count": null,
   "id": "3f0d6015",
   "metadata": {},
   "outputs": [],
   "source": [
    "nytg_df.groupby(\"gender_signal\").count()"
   ]
  },
  {
   "cell_type": "markdown",
   "id": "c7834edd",
   "metadata": {},
   "source": [
    "As you can see, this rearranges our DataFrame so that each possible category in the `\"gender_signal\"` column now appears as a row, with all the other columns *except* `gender_signal` now appearing along the top. Within the DataFrame, we get counts of many rows containing those particular values for `gender_signal` also have values (of whatever) kind for the other columns — which is not particularly useful information for us, alas, since all the numbers are the same along each row.\n",
    "\n",
    "We can use the `.size()` method to simplify the output of `.count()`: this gives us the maximum value along that row (which, in this case, is identical for all our columns, because our dataset doesn't have any missing values)."
   ]
  },
  {
   "cell_type": "code",
   "execution_count": null,
   "id": "398d1beb",
   "metadata": {},
   "outputs": [],
   "source": [
    "nytg_df.groupby(\"gender_signal\").size()"
   ]
  },
  {
   "cell_type": "markdown",
   "id": "d9ef5207",
   "metadata": {},
   "source": [
    "If we use `.count()` on the `\"year\"` column, what do we get?"
   ]
  },
  {
   "cell_type": "code",
   "execution_count": null,
   "id": "823e7b4e",
   "metadata": {
    "scrolled": true
   },
   "outputs": [],
   "source": [
    "nytg_df.groupby(\"year\").count()"
   ]
  },
  {
   "cell_type": "markdown",
   "id": "0832c3c6",
   "metadata": {},
   "source": [
    "We're still not getting what we need — which is a count of how many of each gender signal category appear for each year. For this, we need to `.groupby()` two columns at once, by presenting them to the `.groupby()` method as a list of strings.\n",
    "\n",
    "This will group our data **first** by year, and **then**, *within each year*, by gender signal."
   ]
  },
  {
   "cell_type": "code",
   "execution_count": null,
   "id": "d0442fac",
   "metadata": {
    "scrolled": true
   },
   "outputs": [],
   "source": [
    "nytg_df.groupby([\"year\", \"gender_signal\"]).count()"
   ]
  },
  {
   "cell_type": "markdown",
   "id": "3603f4e7",
   "metadata": {},
   "source": [
    "We're getting closer! Let's again use `.size()` to simplify this and output it as a Series rather than a DataFrame"
   ]
  },
  {
   "cell_type": "code",
   "execution_count": null,
   "id": "9679004b",
   "metadata": {},
   "outputs": [],
   "source": [
    "nytg_df.groupby(['year', 'gender_signal']).size()"
   ]
  },
  {
   "cell_type": "markdown",
   "id": "bf0a5a92",
   "metadata": {},
   "source": [
    "The only issue here is that the gender signal categories are \"embedded within\" each year — when what we need is just a DataFrame where the years are rows and the columns are the gender categories. \n",
    "\n",
    "In Pandas-speak, the gender signal values are \"stacked\" within the year — and we need to `.unstack()` them!"
   ]
  },
  {
   "cell_type": "code",
   "execution_count": null,
   "id": "b90a5c58",
   "metadata": {},
   "outputs": [],
   "source": [
    "nytg_df.groupby(['year', 'gender_signal']).size().unstack()"
   ]
  },
  {
   "cell_type": "markdown",
   "id": "f717f4ea",
   "metadata": {},
   "source": [
    "This is *almost* excactly what we need. There is only one problem now: not all years have values for all categories, which will confuse our efforts to work with the data in the next stages. For instance, 2016 has `NaN` for `U` — \"Not a Number,\" indicating missing data. \n",
    "\n",
    "Thankfully our friend `.unstack()` will take an argument that tells it what to do with any `NaN` situations. In this case, we want it to replace all those with `0`."
   ]
  },
  {
   "cell_type": "code",
   "execution_count": null,
   "id": "0b48bcf7",
   "metadata": {
    "scrolled": true
   },
   "outputs": [],
   "source": [
    "nytg_df.groupby(['year', 'gender_signal']).size().unstack(fill_value=0)"
   ]
  },
  {
   "cell_type": "markdown",
   "id": "72fe7058",
   "metadata": {},
   "source": [
    "Hooray! That's what we need! Let's stick it in a variable."
   ]
  },
  {
   "cell_type": "code",
   "execution_count": 29,
   "id": "d21d219e",
   "metadata": {},
   "outputs": [],
   "source": [
    "year_counts = nytg_df.groupby(['year', 'gender_signal']).size().unstack(fill_value=0)"
   ]
  },
  {
   "cell_type": "code",
   "execution_count": null,
   "id": "d83fb029",
   "metadata": {},
   "outputs": [],
   "source": [
    "year_counts"
   ]
  },
  {
   "cell_type": "markdown",
   "id": "97f57b18",
   "metadata": {},
   "source": [
    "# Calculate Proportion of Each Category for Each Year\n",
    "\n",
    "Well, it's *almost* everything. The thing we want to calculate in the next step is the **proportion** (or \"percentages\") of each gender signal category for each year. We don't want to rely on **absolute counts** (just the bare numbers in the columns) because *there are different numbers of entries for each year*, due to the always-changing number of entries on the list, the shift from monthly to weekly lists, etc. \n",
    "\n",
    "To calculate **proportions**, we will divide the count for each category by the total number of values for that year. So first let's calculate the total number of entries we have for each year.\n",
    "\n",
    "You can think of this as a *sum* of all values across an individual row in our `year_counts` DataFrame. \n",
    "\n",
    "## `.sum()`\n",
    "\n",
    "\n",
    "And indeed, the Pandas method we need to calculate the sum of the values in a row is... `.sum()`!\n",
    "\n",
    "By default, it gives you the sum of *columns* (a \"vertical\" sum)."
   ]
  },
  {
   "cell_type": "code",
   "execution_count": null,
   "id": "f2913316",
   "metadata": {
    "scrolled": true
   },
   "outputs": [],
   "source": [
    "year_counts.sum()"
   ]
  },
  {
   "cell_type": "markdown",
   "id": "a2d5c0ce",
   "metadata": {},
   "source": [
    "We can specify that we want the sum of the values in a *row* (a \"horizontal\" sum) by setting the `axis` to `1`."
   ]
  },
  {
   "cell_type": "code",
   "execution_count": null,
   "id": "4add5b2b",
   "metadata": {
    "scrolled": true
   },
   "outputs": [],
   "source": [
    "year_counts.sum(axis=1)"
   ]
  },
  {
   "cell_type": "markdown",
   "id": "40fa35d3",
   "metadata": {},
   "source": [
    "## Adding a Column to a DataFrame and Filling It with Values\n",
    "\n",
    "Let's add a new column to our `year_counts` DataFrame that contains these sums. \n",
    "\n",
    "The syntax below does the job:\n",
    "- `year_counts['total']` opens up a new column and calls it `\"total\"`\n",
    "- `year_counts.sum(axis=1)` stuffs that new column with the values created above"
   ]
  },
  {
   "cell_type": "code",
   "execution_count": 33,
   "id": "dbaa278b",
   "metadata": {},
   "outputs": [],
   "source": [
    "year_counts['total'] = year_counts.sum(axis=1)"
   ]
  },
  {
   "cell_type": "code",
   "execution_count": null,
   "id": "d92beccb",
   "metadata": {
    "scrolled": true
   },
   "outputs": [],
   "source": [
    "year_counts"
   ]
  },
  {
   "cell_type": "markdown",
   "id": "ade7efdc",
   "metadata": {},
   "source": [
    "## Calculating Proportions and Adding Them to a New Row\n",
    "\n",
    "Now let's calculate the proportions we discussed above. \n",
    "\n",
    "Once again, we'll create a new column and stuff it full of new values. Here we will calculate the percentage of `F` labels in every year: number of `F` counts divided by the total number of counts that year, multiplied by 100. Pandas knows we want to perform this calculation for every single row."
   ]
  },
  {
   "cell_type": "code",
   "execution_count": 35,
   "id": "73ec125f",
   "metadata": {},
   "outputs": [],
   "source": [
    "year_counts['prop-F'] = (year_counts['F']/year_counts['total']) * 100"
   ]
  },
  {
   "cell_type": "code",
   "execution_count": null,
   "id": "21bdb2d9",
   "metadata": {
    "scrolled": true
   },
   "outputs": [],
   "source": [
    "year_counts"
   ]
  },
  {
   "cell_type": "markdown",
   "id": "12d52e0b",
   "metadata": {},
   "source": [
    "Guess what — by plotting the values of our new column `prop-F` (using techniques introduced in last week's class) we can now produce a very useful plot. Let's analyze it together!"
   ]
  },
  {
   "cell_type": "code",
   "execution_count": null,
   "id": "850f235d",
   "metadata": {
    "scrolled": true
   },
   "outputs": [],
   "source": [
    "plot = year_counts['prop-F'].plot(kind='bar', title='Percentage of authors with female first-name gender signals in each year', figsize=(15,8))\n",
    "print(plot)"
   ]
  },
  {
   "cell_type": "markdown",
   "id": "135a490a",
   "metadata": {},
   "source": [
    "Let's now create proportional columns for all the other gender signal categories."
   ]
  },
  {
   "cell_type": "code",
   "execution_count": 38,
   "id": "7d3be332",
   "metadata": {},
   "outputs": [],
   "source": [
    "year_counts['prop-A'] = (year_counts['A']/year_counts['total']) * 100\n",
    "year_counts['prop-M'] = (year_counts['M']/year_counts['total']) * 100\n",
    "year_counts['prop-U'] = (year_counts['U']/year_counts['total']) * 100\n",
    "year_counts['prop-I'] = (year_counts['I']/year_counts['total']) * 100"
   ]
  },
  {
   "cell_type": "code",
   "execution_count": null,
   "id": "0543f56e",
   "metadata": {},
   "outputs": [],
   "source": [
    "plot = year_counts['prop-M'].plot(kind='bar', title='Percentage of authors with male first-name gender signals in each year', figsize=(15,8))\n",
    "print(plot)"
   ]
  },
  {
   "cell_type": "code",
   "execution_count": null,
   "id": "38469fc1",
   "metadata": {
    "scrolled": false
   },
   "outputs": [],
   "source": [
    "plot = year_counts['prop-I'].plot(kind='bar', title='Percentage of authors with Initial names in each year', figsize=(15,8))\n",
    "print(plot)"
   ]
  },
  {
   "cell_type": "markdown",
   "id": "17e905f0",
   "metadata": {},
   "source": [
    "We can plot the values of multiple categories side-by-side. Let's compare the percentage of `M` and `F` categories for each year."
   ]
  },
  {
   "cell_type": "code",
   "execution_count": null,
   "id": "813809fb",
   "metadata": {},
   "outputs": [],
   "source": [
    "plot = year_counts[['prop-F', 'prop-M']].plot(kind='bar', title='Percentage of authors with female vs. male first-name gender signals in each year', figsize=(20,8))\n",
    "print(plot)"
   ]
  },
  {
   "cell_type": "markdown",
   "id": "24ec9907",
   "metadata": {},
   "source": [
    "Here's some code that visualizes this same data as pretty line plots."
   ]
  },
  {
   "cell_type": "code",
   "execution_count": null,
   "id": "a2084969",
   "metadata": {},
   "outputs": [],
   "source": [
    "plot = year_counts[['prop-F', 'prop-M']].plot(figsize=(22,8), style='--', marker='x', title='Percentage of authors in NYT Hardcover Fiction Best Seller List \\n with female vs. male first-name gender signals')\n",
    "plot.set_xticks(year_counts.index);\n",
    "plot.set_xticklabels(year_counts.index, rotation=90)\n",
    "print(plot)"
   ]
  },
  {
   "cell_type": "markdown",
   "id": "4e664f44",
   "metadata": {},
   "source": [
    "# Digging into Our Data\n",
    "\n",
    "Let's use some techniques we've already learned to investigate some potentially significant areas of our dataset that our analysis is revealing..."
   ]
  },
  {
   "cell_type": "code",
   "execution_count": null,
   "id": "a6b2aef5",
   "metadata": {
    "scrolled": true
   },
   "outputs": [],
   "source": [
    "year_counts['prop-F'].describe()"
   ]
  },
  {
   "cell_type": "code",
   "execution_count": null,
   "id": "418cdd86",
   "metadata": {},
   "outputs": [],
   "source": [
    "nytg_df[(nytg_df['year']==1942)]['author'].value_counts()"
   ]
  },
  {
   "cell_type": "code",
   "execution_count": null,
   "id": "23b16f62",
   "metadata": {
    "scrolled": true
   },
   "outputs": [],
   "source": [
    "year_counts['prop-M'].describe()"
   ]
  },
  {
   "cell_type": "code",
   "execution_count": null,
   "id": "33027aeb",
   "metadata": {},
   "outputs": [],
   "source": [
    "nytg_df[nytg_df['year']==1975]['author'].value_counts()"
   ]
  },
  {
   "cell_type": "code",
   "execution_count": null,
   "id": "8aab4cc9",
   "metadata": {},
   "outputs": [],
   "source": []
  }
 ],
 "metadata": {
  "colab": {
   "name": "Week 8.ipynb",
   "provenance": []
  },
  "kernelspec": {
   "display_name": "Python 3",
   "language": "python",
   "name": "python3"
  },
  "language_info": {
   "codemirror_mode": {
    "name": "ipython",
    "version": 3
   },
   "file_extension": ".py",
   "mimetype": "text/x-python",
   "name": "python",
   "nbconvert_exporter": "python",
   "pygments_lexer": "ipython3",
   "version": "3.7.3"
  }
 },
 "nbformat": 4,
 "nbformat_minor": 5
}
