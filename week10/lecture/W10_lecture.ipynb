{
  "cells": [
    {
      "cell_type": "markdown",
      "metadata": {
        "id": "X1IhSV4-OYyR"
      },
      "source": [
        "# Week 10: Sentiment Analysis\n",
        "\n",
        "Our task this week is as follows:\n",
        "* Get to know Python dictionaries\n",
        "* Learn about sentiment analysis, and learn how to use the sentiment analysis package in TextBlob\n",
        "* Discuss limitations of lexicon-based approach and look at how we can overcome some of them\n",
        "* Perform a small \"who wore it better\" competition between TextBlob with VADER (algorithm audit)\n",
        "* Load a novel into a dataframe, sentence by sentence.\n",
        "* Record the sentiment values for each sentence in that dataframe\n",
        "* Extract the sentences identified as the \"happiest\" and the \"saddest\" by the sentiment analysis system"
      ]
    },
    {
      "cell_type": "markdown",
      "source": [],
      "metadata": {
        "id": "rlGRv9cNQQbP"
      }
    },
    {
      "cell_type": "markdown",
      "source": [
        "https://github.com/cjhutto/vaderSentiment/tree/master"
      ],
      "metadata": {
        "id": "eNw6WERmOtvv"
      }
    },
    {
      "cell_type": "markdown",
      "source": [
        "## Python Dictionaries\n",
        "\n",
        "Before we get to sentiment analysis, we need to introduce another Python data type, which arguably can be a faviourite for English majors: dictionaries\n",
        "\n",
        "As [Melanie Walsh explains](https://melaniewalsh.github.io/Intro-Cultural-Analytics/02-Python/11-Dictionaries.html), dictionaries are mainly differentiated from `list`s by their use of **key-value pairs**. Whereas we access items in a list by their index position, we access the **values** of items in a dictionary by their **key**."
      ],
      "metadata": {
        "id": "gUF2OpiRESj_"
      }
    },
    {
      "cell_type": "markdown",
      "source": [
        "Python dictionaries are always surrounded by curly brackets `{ }`. You can make a dictionary in this manner:\n",
        "\n",
        "```\n",
        "variable_name = {\n",
        "   'key1': value1,\n",
        "   'key2': value2,\n",
        "   'key3': value3,\n",
        "}\n",
        "```\n",
        "Note:\n",
        "- Keys are `string`s; values can be of any data type.\n",
        "- Note that a `,` comes between each key-value pair your define\n",
        "- You don't need to arrange things like this typographically, with key-values pairs each on their own line, but it does make things look prettier"
      ],
      "metadata": {
        "id": "yuXq2hmtErfD"
      }
    },
    {
      "cell_type": "markdown",
      "source": [
        "Some examples:"
      ],
      "metadata": {
        "id": "PGpK8XdSE5U6"
      }
    },
    {
      "cell_type": "code",
      "source": [
        "writers = {\n",
        "    \"William Shakespeare\": 1564,\n",
        "    \"Jane Austen\": 1775,\n",
        "    \"Leo Tolstoy\": 1828,\n",
        "    \"Gabriel Garcia Marquez\": 1927,\n",
        "    \"Margaret Atwood\": 1939,\n",
        "    \"Virginia Woolf\": 1882\n",
        "}\n",
        "\n",
        "writers[\"William Shakespeare\"]"
      ],
      "metadata": {
        "id": "xocUqUNNE3W7"
      },
      "execution_count": null,
      "outputs": []
    },
    {
      "cell_type": "code",
      "source": [
        "writers = {\n",
        "    \"William Shakespeare\": [1564, 1616],\n",
        "    \"Jane Austen\": [1775, 1817],\n",
        "    \"Leo Tolstoy\": [1828, 1910],\n",
        "    \"Gabriel Garcia Marquez\": [1927, 2014],\n",
        "    \"Margaret Atwood\": [1939, None],\n",
        "    \"Virginia Woolf\": [1882, 1941]\n",
        "}\n",
        "writers[\"Margaret Atwood\"]"
      ],
      "metadata": {
        "colab": {
          "base_uri": "https://localhost:8080/"
        },
        "id": "3PqsUUjIFt4E",
        "outputId": "12d3d5f4-85f5-4724-b9c6-40f79522fa68"
      },
      "execution_count": 1,
      "outputs": [
        {
          "output_type": "execute_result",
          "data": {
            "text/plain": [
              "[1939, None]"
            ]
          },
          "metadata": {},
          "execution_count": 1
        }
      ]
    },
    {
      "cell_type": "code",
      "source": [
        "writers_in_20th_century = []\n",
        "\n",
        "for writer in writers: #we go over the KEYS (writer names) this way\n",
        "    birth_year = writers[writer][0]\n",
        "    death_year = writers[writer][1]\n",
        "    #birth_year, death_year = writers[writer] #alternative way\n",
        "    still_alive =  death_year is None\n",
        "    if (birth_year <= 2000 and (still_alive or death_year >= 1901)):\n",
        "        writers_in_20th_century.append(writer)\n",
        "\n",
        "writers_in_20th_century"
      ],
      "metadata": {
        "colab": {
          "base_uri": "https://localhost:8080/"
        },
        "id": "31NM79PxG_hV",
        "outputId": "6665d54a-5a42-4423-cc34-c3fb8dd10c57"
      },
      "execution_count": 3,
      "outputs": [
        {
          "output_type": "execute_result",
          "data": {
            "text/plain": [
              "['Leo Tolstoy', 'Gabriel Garcia Marquez', 'Margaret Atwood', 'Virginia Woolf']"
            ]
          },
          "metadata": {},
          "execution_count": 3
        }
      ]
    },
    {
      "cell_type": "code",
      "source": [
        "writers = {\n",
        "    \"William Shakespeare\": {\n",
        "        \"country\": \"England\",\n",
        "        \"birth_year\": 1564,\n",
        "        \"death_year\": 1616\n",
        "    },\n",
        "    \"Jane Austen\": {\n",
        "        \"country\": \"England\",\n",
        "        \"birth_year\": 1775,\n",
        "        \"death_year\": 1817\n",
        "    },\n",
        "    \"Leo Tolstoy\": {\n",
        "        \"country\": \"Russia\",\n",
        "        \"birth_year\": 1828,\n",
        "        \"death_year\": 1910\n",
        "    },\n",
        "    \"Gabriel Garcia Marquez\": {\n",
        "        \"country\": \"Colombia\",\n",
        "        \"birth_year\": 1927,\n",
        "        \"death_year\": 2014\n",
        "    },\n",
        "    \"Margaret Atwood\": {\n",
        "        \"country\": \"Canada\",\n",
        "        \"birth_year\": 1939,\n",
        "        \"death_year\": None  # Still living\n",
        "    },\n",
        "    \"Virginia Woolf\": {\n",
        "        \"country\": \"England\",\n",
        "        \"birth_year\": 1882,\n",
        "        \"death_year\": 1941\n",
        "    }\n",
        "}\n",
        "\n",
        "writers[\"Gabriel Garcia Marquez\"][\"country\"]"
      ],
      "metadata": {
        "colab": {
          "base_uri": "https://localhost:8080/",
          "height": 35
        },
        "id": "lSILvC4MHpe4",
        "outputId": "a17534f0-afbe-4e57-dc61-a01095bf5237"
      },
      "execution_count": 4,
      "outputs": [
        {
          "output_type": "execute_result",
          "data": {
            "text/plain": [
              "'Colombia'"
            ],
            "application/vnd.google.colaboratory.intrinsic+json": {
              "type": "string"
            }
          },
          "metadata": {},
          "execution_count": 4
        }
      ]
    },
    {
      "cell_type": "markdown",
      "metadata": {
        "id": "Wi0yqWViOYyt"
      },
      "source": [
        "## Iterating Through Dictionaries\n",
        "\n",
        "You can iterate through dictionaries — but first you need to specify, by calling the appropriate method, if you want to iterate over keys, values, of key-value pairs."
      ]
    },
    {
      "cell_type": "code",
      "source": [
        "carnivores = {\n",
        "    \"python\": \"A large heavy-bodied nonvenomous snake that kills poor prey by constriction and asphyxiation\",\n",
        "    \"panda\": \"A large bearlike mammal that, while technically a carnivore, is in practice a vegetarian, eating only bamboo\",\n",
        "    \"blob\": \"A third-party Python library that slowly kills you by sucking up all of your time, because the textual analysis it facilitates is so fascinating\",\n",
        "    \"kitten\": \"A delightful, fuzzy creature whose natural prey is cat food (dry or wet) and, especially, treats\"\n",
        "}"
      ],
      "metadata": {
        "id": "_Pr3hrQ5ZK3E"
      },
      "execution_count": 14,
      "outputs": []
    },
    {
      "cell_type": "markdown",
      "source": [
        "We can loop through KEYS (two ways)"
      ],
      "metadata": {
        "id": "J58tLPAJzkkY"
      }
    },
    {
      "cell_type": "code",
      "source": [
        "for key in carnivores:\n",
        "    print(f\"I am so afraid of {key.upper()}S!!!!\")"
      ],
      "metadata": {
        "colab": {
          "base_uri": "https://localhost:8080/"
        },
        "id": "4rwgexs-ZVyF",
        "outputId": "2696981a-cfd6-43bb-c9dd-e37396e59935"
      },
      "execution_count": 5,
      "outputs": [
        {
          "output_type": "stream",
          "name": "stdout",
          "text": [
            "I am so afraid of PYTHONS!!!!\n",
            "I am so afraid of PANDAS!!!!\n",
            "I am so afraid of BLOBS!!!!\n",
            "I am so afraid of KITTENS!!!!\n"
          ]
        }
      ]
    },
    {
      "cell_type": "code",
      "execution_count": 4,
      "metadata": {
        "id": "yEeEB75KOYyt",
        "outputId": "e2dc9562-c3ba-41b6-d27a-df7bea79b7e9",
        "colab": {
          "base_uri": "https://localhost:8080/"
        }
      },
      "outputs": [
        {
          "output_type": "stream",
          "name": "stdout",
          "text": [
            "I am so afraid of PYTHONS!!!!\n",
            "I am so afraid of PANDAS!!!!\n",
            "I am so afraid of BLOBS!!!!\n",
            "I am so afraid of KITTENS!!!!\n"
          ]
        }
      ],
      "source": [
        "for key in carnivores.keys():\n",
        "    print(f\"I am so afraid of {key.upper()}S!!!!\")"
      ]
    },
    {
      "cell_type": "markdown",
      "source": [
        "That, of course, allows us to do something with values as well"
      ],
      "metadata": {
        "id": "9I754luZz1Ej"
      }
    },
    {
      "cell_type": "code",
      "source": [
        "for creature in carnivores:\n",
        "    print(f\"Why I am so afraif of {creature}s?\")\n",
        "    print(f\"Because {creature} is {carnivores[creature].lower()}\")"
      ],
      "metadata": {
        "colab": {
          "base_uri": "https://localhost:8080/"
        },
        "id": "C5nT9J51zr_r",
        "outputId": "acaacd75-ec2e-4b62-9660-4aa83df0821b"
      },
      "execution_count": 7,
      "outputs": [
        {
          "output_type": "stream",
          "name": "stdout",
          "text": [
            "Why I am so afraif of pythons?\n",
            "Because python is a large heavy-bodied nonvenomous snake that kills prey by constriction and asphyxiation\n",
            "Why I am so afraif of pandas?\n",
            "Because panda is a large bearlike mammal that, while technically a carnivore, is in practice a vegetarian, eating only bamboo\n",
            "Why I am so afraif of blobs?\n",
            "Because blob is a third-party python library that slowly kills you by sucking up all of your time, because the textual analysis it facilitates is so fascinating\n",
            "Why I am so afraif of kittens?\n",
            "Because kitten is a delightful, fuzzy creature whose natural prey is cat food (dry or wet) and, especially, treats\n"
          ]
        }
      ]
    },
    {
      "cell_type": "markdown",
      "source": [
        "Or we can loop through values directly"
      ],
      "metadata": {
        "id": "LW7RTS000UAq"
      }
    },
    {
      "cell_type": "code",
      "execution_count": null,
      "metadata": {
        "id": "myoW4Hn6OYyu",
        "outputId": "2668cad1-0966-49d1-833c-c4dd12aafee6"
      },
      "outputs": [
        {
          "name": "stdout",
          "output_type": "stream",
          "text": [
            "Did you know there is a kind of carnivore that is a large heavy-bodied nonvenomous snake that kills prey by constriction and asphyxiation???\n",
            "Did you know there is a kind of carnivore that is a large bearlike mammal that, while technically a carnivore, is in practice a vegetarian, eating only bamboo???\n",
            "Did you know there is a kind of carnivore that is a third-party Python library that slowly kills you by sucking up all of your time, because the textual analysis it facilitates is so fascinating???\n",
            "Did you know there is a kind of carnivore that is a delightful, fuzzy creature whose natural prey is cat food (dry or wet) and, especially, treats???\n"
          ]
        }
      ],
      "source": [
        "for value in carnivores.values():\n",
        "    print(f\"Did you know there is a kind of carnivore that is {value}???\")"
      ]
    },
    {
      "cell_type": "markdown",
      "source": [
        "Difficult to remember at first, but there is a useful bit of Python syntax called unpacking, which we can rely on to loop through both keys and values:"
      ],
      "metadata": {
        "id": "TVthxfFE0Ykc"
      }
    },
    {
      "cell_type": "code",
      "execution_count": null,
      "metadata": {
        "scrolled": true,
        "id": "m3NIY-xUOYyu",
        "outputId": "f8611553-484e-425e-c767-e8c86d3f2aac"
      },
      "outputs": [
        {
          "name": "stdout",
          "output_type": "stream",
          "text": [
            "A python is a large heavy-bodied nonvenomous snake that kills prey by constriction and asphyxiation\n",
            "A panda is a large bearlike mammal that, while technically a carnivore, is in practice a vegetarian, eating only bamboo\n",
            "A blob is a third-party Python library that slowly kills you by sucking up all of your time, because the textual analysis it facilitates is so fascinating\n",
            "A kitten is a delightful, fuzzy creature whose natural prey is cat food (dry or wet) and, especially, treats\n"
          ]
        }
      ],
      "source": [
        "for key, value in carnivores.items():\n",
        "    print(f\"A {key} is {value}\")"
      ]
    },
    {
      "cell_type": "markdown",
      "source": [
        "# Sentiment Analysis. Part I"
      ],
      "metadata": {
        "id": "9TiWsBadIFWj"
      }
    },
    {
      "cell_type": "markdown",
      "source": [
        "We will\n",
        "- show (and use) the simplest version of approaching sentiment analysis -- bag-of-words dictionary based approach\n",
        "- briefly discuss what are the main disadvantages\n",
        "- discuss the main heuristics we can apply to critically analyze algorithms\n",
        "- look how we can improve on the simplest version and how to assess if it works"
      ],
      "metadata": {
        "id": "ROy9ahkqk4In"
      }
    },
    {
      "cell_type": "markdown",
      "source": [
        "We also employ a subset of an approach called \"algorithmic audit\" trying to critically evaluate what the algorithm does, what is it (not) good for, what are the biases -- think about the questions we have for datasets."
      ],
      "metadata": {
        "id": "q85f82BC3tM0"
      }
    },
    {
      "cell_type": "code",
      "source": [
        "from textblob import TextBlob\n",
        "import nltk\n",
        "\n",
        "blob = TextBlob(carnivores[\"panda\"])\n",
        "print(blob)\n",
        "print(f\"Polarity {blob.sentiment.polarity}\")\n",
        "print(f\"Subjectivity {blob.sentiment.subjectivity}\")"
      ],
      "metadata": {
        "colab": {
          "base_uri": "https://localhost:8080/"
        },
        "id": "0KftT6ot2GLk",
        "outputId": "365b6dba-70af-40b5-fc1d-08ee8e2ef105"
      },
      "execution_count": 15,
      "outputs": [
        {
          "output_type": "stream",
          "name": "stdout",
          "text": [
            "A large bearlike mammal that, while technically a carnivore, is in practice a vegetarian, eating only bamboo\n",
            "Polarity 0.07142857142857142\n",
            "Subjectivity 0.5095238095238095\n",
            "A large heavy-bodied nonvenomous snake that kills poor prey by constriction and asphyxiation\n",
            "Polarity -0.09285714285714287\n",
            "Subjectivity 0.5142857142857142\n",
            "A delightful, fuzzy creature whose natural prey is cat food (dry or wet) and, especially, treats\n",
            "Polarity 0.1866666666666667\n",
            "Subjectivity 0.6799999999999999\n"
          ]
        }
      ]
    },
    {
      "cell_type": "code",
      "source": [
        "blob = TextBlob(carnivores[\"python\"])\n",
        "print(blob)\n",
        "print(f\"Polarity {blob.sentiment.polarity}\")\n",
        "print(f\"Subjectivity {blob.sentiment.subjectivity}\")\n",
        "\n",
        "blob = TextBlob(carnivores[\"kitten\"])\n",
        "print(blob)\n",
        "print(f\"Polarity {blob.sentiment.polarity}\")\n",
        "print(f\"Subjectivity {blob.sentiment.subjectivity}\")"
      ],
      "metadata": {
        "id": "j4UfPehP4I__"
      },
      "execution_count": null,
      "outputs": []
    },
    {
      "cell_type": "markdown",
      "source": [
        "Word-based approach to sentiment analysis assigns some numeric score (positive or negative) to the word. And sums/averages over the word scores.\n",
        "\n",
        "Let's audit how this would work on the examples for which we know/can think of the answers!"
      ],
      "metadata": {
        "id": "Ud6SbFP74cfi"
      }
    },
    {
      "cell_type": "code",
      "source": [
        "print(TextBlob(\"awful\").polarity)\n",
        "print(TextBlob(\"great\").polarity)\n",
        "print(TextBlob(\"window\").polarity)\n",
        "print(TextBlob(\"not great\").polarity)\n",
        "print(TextBlob(\"not so great\").polarity)"
      ],
      "metadata": {
        "colab": {
          "base_uri": "https://localhost:8080/"
        },
        "id": "P02GcE-u3T8R",
        "outputId": "fc6830a2-98b0-41a3-84fd-76c9a4aec9f6"
      },
      "execution_count": 21,
      "outputs": [
        {
          "output_type": "stream",
          "name": "stdout",
          "text": [
            "-1.0\n",
            "0.8\n",
            "0.0\n",
            "-0.4\n",
            "0.8\n"
          ]
        }
      ]
    },
    {
      "cell_type": "markdown",
      "source": [
        "- What other cases you can think of when this approach could fail?\n",
        "- When it might be good enough?"
      ],
      "metadata": {
        "id": "vkHksLRg4Lf_"
      }
    },
    {
      "cell_type": "markdown",
      "source": [
        "Alternative algorithm:\n",
        "\n",
        "  > VADER (Valence Aware Dictionary and sEntiment Reasoner) is a lexicon and rule-based sentiment analysis tool that is specifically attuned to sentiments expressed in social media.\n",
        "  [VADER readme](https://github.com/cjhutto/vaderSentiment/tree/master)"
      ],
      "metadata": {
        "id": "dve13M5H44cb"
      }
    },
    {
      "cell_type": "markdown",
      "source": [
        "> [VADER aims to properly handle] sentences with:\n",
        "\n",
        "> - typical negations (e.g., \"*not* good\")\n",
        "- use of contractions as negations (e.g., \"*wasn't* very good\")\n",
        "- conventional use of **punctuation** to signal increased sentiment intensity (e.g., \"Good!!!\")\n",
        "- conventional use of **word-shape** to signal emphasis (e.g., using ALL CAPS for words/phrases)\n",
        "- using **degree modifiers** to alter sentiment intensity (e.g., intensity *boosters* such as \"very\" and intensity *dampeners* such as \"kind of\")\n",
        "- understanding many **sentiment-laden slang** words (e.g., 'sux')\n",
        "- understanding many sentiment-laden **slang words as modifiers** such as 'uber' or 'friggin' or 'kinda'\n",
        "- understanding many sentiment-laden **emoticons** such as :) and :D\n",
        "- translating **utf-8 encoded emojis** such as 💘 and 💋 and 😁\n",
        "- understanding sentiment-laden **initialisms and acronyms** (for example: 'lol')\n",
        "\n",
        "Take a look at [VADER paper](https://ojs.aaai.org/index.php/ICWSM/article/view/14550/14399)"
      ],
      "metadata": {
        "id": "Md_raiPh5Sq8"
      }
    },
    {
      "cell_type": "markdown",
      "source": [
        "## So, let's set up our small investigation, comparing VADER and TextBlob approaches"
      ],
      "metadata": {
        "id": "XMi0V-TP6vD8"
      }
    },
    {
      "cell_type": "markdown",
      "source": [
        "1. Define (tricky) examples"
      ],
      "metadata": {
        "id": "-6PjJ-rI_gxA"
      }
    },
    {
      "cell_type": "code",
      "source": [
        "examples_bow = [\n",
        "    \"It was the best of times, it was the worst of times.\",\n",
        "    \"I love how tragic her story is; it makes me feel alive.\",\n",
        "    \"That poem wasn’t bad at all!\",\n",
        "    \"The character’s demise was inevitable; simply tragic.\",\n",
        "    \"Oh, fantastic... yet another twist ending.\",\n",
        "    \"I couldn’t put the book down; it was haunting, to say the least.\",\n",
        "    \"She was calm, almost too calm, like the eye of a storm.\",\n",
        "    \"The protagonist had a truly unforgettable experience.\",\n",
        "    \"Thank goodness it’s over. That was exhausting.\",\n",
        "    \"This plot twist is simply too much... breathtaking!\",\n",
        "    \"Wow, thanks for ruining my day with that spoiler! 😒\",\n",
        "    \"Absolutely loved the movie... except for that ending, ugh!\",\n",
        "    \"Can’t believe I waited hours for this. What a waste!\",\n",
        "    \"OMG, this is the best thing I've seen all week!!!\",\n",
        "    \"This product is seriously underrated, honestly amazing!\",\n",
        "    \"LOL, yeah right, as if this would actually work... 🙄\",\n",
        "    \"Finally finished it... mixed feelings, to be honest.\",\n",
        "    \"You have to read this book—it’s like nothing else!\",\n",
        "    \"Just what I needed... another delay. Fantastic. 🤦‍♂️\",\n",
        "    \"I'm impressed! Didn’t expect it to be this good!\"\n",
        "]\n",
        "\n",
        "print(len(examples_bow))\n"
      ],
      "metadata": {
        "colab": {
          "base_uri": "https://localhost:8080/"
        },
        "id": "bGRyfWkROofM",
        "outputId": "86aa9fbc-3bfa-4cc7-b40b-9274574786f7"
      },
      "execution_count": 39,
      "outputs": [
        {
          "output_type": "stream",
          "name": "stdout",
          "text": [
            "20\n"
          ]
        }
      ]
    },
    {
      "cell_type": "markdown",
      "source": [
        "2. Formulate how the results should look like"
      ],
      "metadata": {
        "id": "HbCCuPrC_crO"
      }
    },
    {
      "cell_type": "code",
      "source": [
        "audit_results = {\n",
        "    \"Sentence\": [],\n",
        "    \"VADER Sentiment\": [],\n",
        "    \"VADER Score\": [],\n",
        "    \"TextBlob Sentiment\": [],\n",
        "    \"TextBlob Polarity\": [],\n",
        "    \"Difference Detected\": []\n",
        "}"
      ],
      "metadata": {
        "id": "VlXhcPZt_X4u"
      },
      "execution_count": null,
      "outputs": []
    },
    {
      "cell_type": "markdown",
      "source": [
        "3. Set up VADER and TextBlob"
      ],
      "metadata": {
        "id": "BdGSJlX77GMu"
      }
    },
    {
      "cell_type": "code",
      "source": [
        "from nltk.sentiment.vader import SentimentIntensityAnalyzer\n",
        "import nltk\n",
        "nltk.download('vader_lexicon')\n",
        "\n",
        "# Initialize VADER sentiment analyzer\n",
        "vader_analyzer = SentimentIntensityAnalyzer()\n",
        "print(vader_analyzer.polarity_scores(carnivores[\"panda\"]))\n",
        "print(vader_analyzer.polarity_scores(carnivores[\"python\"]))\n",
        "print(vader_analyzer.polarity_scores(carnivores[\"kitten\"]))"
      ],
      "metadata": {
        "colab": {
          "base_uri": "https://localhost:8080/"
        },
        "id": "lIhp4gYZ6oNm",
        "outputId": "c526b4dd-739a-4e5b-b5c7-75d685db9366"
      },
      "execution_count": 27,
      "outputs": [
        {
          "output_type": "stream",
          "name": "stdout",
          "text": [
            "{'neg': 0.0, 'neu': 1.0, 'pos': 0.0, 'compound': 0.0}\n",
            "{'neg': 0.398, 'neu': 0.602, 'pos': 0.0, 'compound': -0.765}\n",
            "{'neg': 0.0, 'neu': 0.674, 'pos': 0.326, 'compound': 0.743}\n"
          ]
        },
        {
          "output_type": "stream",
          "name": "stderr",
          "text": [
            "[nltk_data] Downloading package vader_lexicon to /root/nltk_data...\n",
            "[nltk_data]   Package vader_lexicon is already up-to-date!\n"
          ]
        }
      ]
    },
    {
      "cell_type": "code",
      "source": [
        "print(vader_analyzer.polarity_scores(carnivores[\"kitten\"])['compound'])"
      ],
      "metadata": {
        "colab": {
          "base_uri": "https://localhost:8080/"
        },
        "id": "MKZEsBMG8M2i",
        "outputId": "131138eb-e64d-466b-d457-46b07e669dc5"
      },
      "execution_count": 28,
      "outputs": [
        {
          "output_type": "stream",
          "name": "stdout",
          "text": [
            "0.743\n"
          ]
        }
      ]
    },
    {
      "cell_type": "markdown",
      "source": [
        "4. Analyze sentiment and write down the results"
      ],
      "metadata": {
        "id": "q8oUINn8_tOg"
      }
    },
    {
      "cell_type": "code",
      "source": [
        "for sentence in examples_bow:\n",
        "    # VADER sentiment\n",
        "    vader_scores = vader_analyzer.polarity_scores(sentence)\n",
        "    vader_sentiment = \"Positive\" if vader_scores['compound'] >= 0.05 else \"Negative\" if vader_scores['compound'] <= -0.05 else \"Neutral\"\n",
        "\n",
        "\n",
        "    # TextBlob sentiment\n",
        "    blob = TextBlob(sentence)\n",
        "    blob_polarity = blob.sentiment.polarity\n",
        "    blob_subjectivity = blob.sentiment.subjectivity\n",
        "    blob_sentiment = \"Positive\" if blob_polarity > 0 else \"Negative\" if blob_polarity < 0 else \"Neutral\"\n",
        "\n",
        "    # Detect if there is a difference in sentiment\n",
        "    difference_detected = vader_sentiment != blob_sentiment\n",
        "\n",
        "    # Append results to the data dictionary\n",
        "    audit_results[\"Sentence\"].append(sentence)\n",
        "    audit_results[\"VADER Sentiment\"].append(vader_sentiment)\n",
        "    audit_results[\"VADER Score\"].append(vader_scores['compound'])\n",
        "    audit_results[\"TextBlob Sentiment\"].append(blob_sentiment)\n",
        "    audit_results[\"TextBlob Polarity\"].append(blob_polarity)\n",
        "    audit_results[\"Difference Detected\"].append(difference_detected)"
      ],
      "metadata": {
        "colab": {
          "base_uri": "https://localhost:8080/",
          "height": 1000
        },
        "id": "p1lFLkOZ67NK",
        "outputId": "9302eb58-a713-4b50-9f2f-d2716a914f51"
      },
      "execution_count": 30,
      "outputs": [
        {
          "output_type": "execute_result",
          "data": {
            "text/plain": [
              "                                             Sentence VADER Sentiment  \\\n",
              "0   It was the best of times, it was the worst of ...         Neutral   \n",
              "1   I love how tragic her story is; it makes me fe...        Positive   \n",
              "2                        That poem wasn’t bad at all!        Negative   \n",
              "3   The character’s demise was inevitable; simply ...        Negative   \n",
              "4          Oh, fantastic... yet another twist ending.         Neutral   \n",
              "5   I couldn’t put the book down; it was haunting,...        Negative   \n",
              "6   She was calm, almost too calm, like the eye of...        Positive   \n",
              "7   The protagonist had a truly unforgettable expe...        Positive   \n",
              "8      Thank goodness it’s over. That was exhausting.        Positive   \n",
              "9   This plot twist is simply too much... breathta...        Positive   \n",
              "10  Wow, thanks for ruining my day with that spoil...        Positive   \n",
              "11  Absolutely loved the movie... except for that ...        Positive   \n",
              "12  Can’t believe I waited hours for this. What a ...        Negative   \n",
              "13  OMG, this is the best thing I've seen all week!!!        Positive   \n",
              "14  This product is seriously underrated, honestly...        Positive   \n",
              "15  LOL, yeah right, as if this would actually wor...        Positive   \n",
              "16  Finally finished it... mixed feelings, to be h...        Positive   \n",
              "17  You have to read this book—it’s like nothing e...        Positive   \n",
              "18  Just what I needed... another delay. Fantastic...        Positive   \n",
              "19   I'm impressed! Didn’t expect it to be this good!        Positive   \n",
              "20  It was the best of times, it was the worst of ...         Neutral   \n",
              "21  I love how tragic her story is; it makes me fe...        Positive   \n",
              "22                       That poem wasn’t bad at all!        Negative   \n",
              "23  The character’s demise was inevitable; simply ...        Negative   \n",
              "24         Oh, fantastic... yet another twist ending.         Neutral   \n",
              "25  I couldn’t put the book down; it was haunting,...        Negative   \n",
              "26  She was calm, almost too calm, like the eye of...        Positive   \n",
              "27  The protagonist had a truly unforgettable expe...        Positive   \n",
              "28     Thank goodness it’s over. That was exhausting.        Positive   \n",
              "29  This plot twist is simply too much... breathta...        Positive   \n",
              "30  Wow, thanks for ruining my day with that spoil...        Positive   \n",
              "31  Absolutely loved the movie... except for that ...        Positive   \n",
              "32  Can’t believe I waited hours for this. What a ...        Negative   \n",
              "33  OMG, this is the best thing I've seen all week!!!        Positive   \n",
              "34  This product is seriously underrated, honestly...        Positive   \n",
              "35  LOL, yeah right, as if this would actually wor...        Positive   \n",
              "36  Finally finished it... mixed feelings, to be h...        Positive   \n",
              "37  You have to read this book—it’s like nothing e...        Positive   \n",
              "38  Just what I needed... another delay. Fantastic...        Positive   \n",
              "39   I'm impressed! Didn’t expect it to be this good!        Positive   \n",
              "\n",
              "    VADER Score TextBlob Sentiment  TextBlob Polarity  Difference Detected  \n",
              "0        0.0258            Neutral           0.000000                False  \n",
              "1        0.5859           Negative          -0.050000                 True  \n",
              "2       -0.5848           Negative          -0.875000                False  \n",
              "3       -0.4588           Negative          -0.375000                False  \n",
              "4        0.0000           Positive           0.400000                 True  \n",
              "5       -0.2732           Negative          -0.227778                False  \n",
              "6        0.7037           Positive           0.300000                False  \n",
              "7        0.4404           Positive           0.800000                False  \n",
              "8        0.4588           Negative          -0.400000                 True  \n",
              "9        0.5093           Positive           0.400000                False  \n",
              "10       0.7177           Positive           0.175000                False  \n",
              "11       0.3989           Positive           0.875000                False  \n",
              "12      -0.4753           Negative          -0.250000                False  \n",
              "13       0.7249           Positive           1.000000                False  \n",
              "14       0.7500           Positive           0.208333                False  \n",
              "15       0.6940           Positive           0.361905                False  \n",
              "16       0.5106           Positive           0.200000                False  \n",
              "17       0.4199            Neutral           0.000000                 True  \n",
              "18       0.3182           Positive           0.400000                False  \n",
              "19       0.7940           Positive           0.937500                False  \n",
              "20       0.0258            Neutral           0.000000                False  \n",
              "21       0.5859           Negative          -0.050000                 True  \n",
              "22      -0.5848           Negative          -0.875000                False  \n",
              "23      -0.4588           Negative          -0.375000                False  \n",
              "24       0.0000           Positive           0.400000                 True  \n",
              "25      -0.2732           Negative          -0.227778                False  \n",
              "26       0.7037           Positive           0.300000                False  \n",
              "27       0.4404           Positive           0.800000                False  \n",
              "28       0.4588           Negative          -0.400000                 True  \n",
              "29       0.5093           Positive           0.400000                False  \n",
              "30       0.7177           Positive           0.175000                False  \n",
              "31       0.3989           Positive           0.875000                False  \n",
              "32      -0.4753           Negative          -0.250000                False  \n",
              "33       0.7249           Positive           1.000000                False  \n",
              "34       0.7500           Positive           0.208333                False  \n",
              "35       0.6940           Positive           0.361905                False  \n",
              "36       0.5106           Positive           0.200000                False  \n",
              "37       0.4199            Neutral           0.000000                 True  \n",
              "38       0.3182           Positive           0.400000                False  \n",
              "39       0.7940           Positive           0.937500                False  "
            ],
            "text/html": [
              "\n",
              "  <div id=\"df-db9a871e-20e5-438c-a51e-1bd6fc5da2a0\" class=\"colab-df-container\">\n",
              "    <div>\n",
              "<style scoped>\n",
              "    .dataframe tbody tr th:only-of-type {\n",
              "        vertical-align: middle;\n",
              "    }\n",
              "\n",
              "    .dataframe tbody tr th {\n",
              "        vertical-align: top;\n",
              "    }\n",
              "\n",
              "    .dataframe thead th {\n",
              "        text-align: right;\n",
              "    }\n",
              "</style>\n",
              "<table border=\"1\" class=\"dataframe\">\n",
              "  <thead>\n",
              "    <tr style=\"text-align: right;\">\n",
              "      <th></th>\n",
              "      <th>Sentence</th>\n",
              "      <th>VADER Sentiment</th>\n",
              "      <th>VADER Score</th>\n",
              "      <th>TextBlob Sentiment</th>\n",
              "      <th>TextBlob Polarity</th>\n",
              "      <th>Difference Detected</th>\n",
              "    </tr>\n",
              "  </thead>\n",
              "  <tbody>\n",
              "    <tr>\n",
              "      <th>0</th>\n",
              "      <td>It was the best of times, it was the worst of ...</td>\n",
              "      <td>Neutral</td>\n",
              "      <td>0.0258</td>\n",
              "      <td>Neutral</td>\n",
              "      <td>0.000000</td>\n",
              "      <td>False</td>\n",
              "    </tr>\n",
              "    <tr>\n",
              "      <th>1</th>\n",
              "      <td>I love how tragic her story is; it makes me fe...</td>\n",
              "      <td>Positive</td>\n",
              "      <td>0.5859</td>\n",
              "      <td>Negative</td>\n",
              "      <td>-0.050000</td>\n",
              "      <td>True</td>\n",
              "    </tr>\n",
              "    <tr>\n",
              "      <th>2</th>\n",
              "      <td>That poem wasn’t bad at all!</td>\n",
              "      <td>Negative</td>\n",
              "      <td>-0.5848</td>\n",
              "      <td>Negative</td>\n",
              "      <td>-0.875000</td>\n",
              "      <td>False</td>\n",
              "    </tr>\n",
              "    <tr>\n",
              "      <th>3</th>\n",
              "      <td>The character’s demise was inevitable; simply ...</td>\n",
              "      <td>Negative</td>\n",
              "      <td>-0.4588</td>\n",
              "      <td>Negative</td>\n",
              "      <td>-0.375000</td>\n",
              "      <td>False</td>\n",
              "    </tr>\n",
              "    <tr>\n",
              "      <th>4</th>\n",
              "      <td>Oh, fantastic... yet another twist ending.</td>\n",
              "      <td>Neutral</td>\n",
              "      <td>0.0000</td>\n",
              "      <td>Positive</td>\n",
              "      <td>0.400000</td>\n",
              "      <td>True</td>\n",
              "    </tr>\n",
              "    <tr>\n",
              "      <th>5</th>\n",
              "      <td>I couldn’t put the book down; it was haunting,...</td>\n",
              "      <td>Negative</td>\n",
              "      <td>-0.2732</td>\n",
              "      <td>Negative</td>\n",
              "      <td>-0.227778</td>\n",
              "      <td>False</td>\n",
              "    </tr>\n",
              "    <tr>\n",
              "      <th>6</th>\n",
              "      <td>She was calm, almost too calm, like the eye of...</td>\n",
              "      <td>Positive</td>\n",
              "      <td>0.7037</td>\n",
              "      <td>Positive</td>\n",
              "      <td>0.300000</td>\n",
              "      <td>False</td>\n",
              "    </tr>\n",
              "    <tr>\n",
              "      <th>7</th>\n",
              "      <td>The protagonist had a truly unforgettable expe...</td>\n",
              "      <td>Positive</td>\n",
              "      <td>0.4404</td>\n",
              "      <td>Positive</td>\n",
              "      <td>0.800000</td>\n",
              "      <td>False</td>\n",
              "    </tr>\n",
              "    <tr>\n",
              "      <th>8</th>\n",
              "      <td>Thank goodness it’s over. That was exhausting.</td>\n",
              "      <td>Positive</td>\n",
              "      <td>0.4588</td>\n",
              "      <td>Negative</td>\n",
              "      <td>-0.400000</td>\n",
              "      <td>True</td>\n",
              "    </tr>\n",
              "    <tr>\n",
              "      <th>9</th>\n",
              "      <td>This plot twist is simply too much... breathta...</td>\n",
              "      <td>Positive</td>\n",
              "      <td>0.5093</td>\n",
              "      <td>Positive</td>\n",
              "      <td>0.400000</td>\n",
              "      <td>False</td>\n",
              "    </tr>\n",
              "    <tr>\n",
              "      <th>10</th>\n",
              "      <td>Wow, thanks for ruining my day with that spoil...</td>\n",
              "      <td>Positive</td>\n",
              "      <td>0.7177</td>\n",
              "      <td>Positive</td>\n",
              "      <td>0.175000</td>\n",
              "      <td>False</td>\n",
              "    </tr>\n",
              "    <tr>\n",
              "      <th>11</th>\n",
              "      <td>Absolutely loved the movie... except for that ...</td>\n",
              "      <td>Positive</td>\n",
              "      <td>0.3989</td>\n",
              "      <td>Positive</td>\n",
              "      <td>0.875000</td>\n",
              "      <td>False</td>\n",
              "    </tr>\n",
              "    <tr>\n",
              "      <th>12</th>\n",
              "      <td>Can’t believe I waited hours for this. What a ...</td>\n",
              "      <td>Negative</td>\n",
              "      <td>-0.4753</td>\n",
              "      <td>Negative</td>\n",
              "      <td>-0.250000</td>\n",
              "      <td>False</td>\n",
              "    </tr>\n",
              "    <tr>\n",
              "      <th>13</th>\n",
              "      <td>OMG, this is the best thing I've seen all week!!!</td>\n",
              "      <td>Positive</td>\n",
              "      <td>0.7249</td>\n",
              "      <td>Positive</td>\n",
              "      <td>1.000000</td>\n",
              "      <td>False</td>\n",
              "    </tr>\n",
              "    <tr>\n",
              "      <th>14</th>\n",
              "      <td>This product is seriously underrated, honestly...</td>\n",
              "      <td>Positive</td>\n",
              "      <td>0.7500</td>\n",
              "      <td>Positive</td>\n",
              "      <td>0.208333</td>\n",
              "      <td>False</td>\n",
              "    </tr>\n",
              "    <tr>\n",
              "      <th>15</th>\n",
              "      <td>LOL, yeah right, as if this would actually wor...</td>\n",
              "      <td>Positive</td>\n",
              "      <td>0.6940</td>\n",
              "      <td>Positive</td>\n",
              "      <td>0.361905</td>\n",
              "      <td>False</td>\n",
              "    </tr>\n",
              "    <tr>\n",
              "      <th>16</th>\n",
              "      <td>Finally finished it... mixed feelings, to be h...</td>\n",
              "      <td>Positive</td>\n",
              "      <td>0.5106</td>\n",
              "      <td>Positive</td>\n",
              "      <td>0.200000</td>\n",
              "      <td>False</td>\n",
              "    </tr>\n",
              "    <tr>\n",
              "      <th>17</th>\n",
              "      <td>You have to read this book—it’s like nothing e...</td>\n",
              "      <td>Positive</td>\n",
              "      <td>0.4199</td>\n",
              "      <td>Neutral</td>\n",
              "      <td>0.000000</td>\n",
              "      <td>True</td>\n",
              "    </tr>\n",
              "    <tr>\n",
              "      <th>18</th>\n",
              "      <td>Just what I needed... another delay. Fantastic...</td>\n",
              "      <td>Positive</td>\n",
              "      <td>0.3182</td>\n",
              "      <td>Positive</td>\n",
              "      <td>0.400000</td>\n",
              "      <td>False</td>\n",
              "    </tr>\n",
              "    <tr>\n",
              "      <th>19</th>\n",
              "      <td>I'm impressed! Didn’t expect it to be this good!</td>\n",
              "      <td>Positive</td>\n",
              "      <td>0.7940</td>\n",
              "      <td>Positive</td>\n",
              "      <td>0.937500</td>\n",
              "      <td>False</td>\n",
              "    </tr>\n",
              "    <tr>\n",
              "      <th>20</th>\n",
              "      <td>It was the best of times, it was the worst of ...</td>\n",
              "      <td>Neutral</td>\n",
              "      <td>0.0258</td>\n",
              "      <td>Neutral</td>\n",
              "      <td>0.000000</td>\n",
              "      <td>False</td>\n",
              "    </tr>\n",
              "    <tr>\n",
              "      <th>21</th>\n",
              "      <td>I love how tragic her story is; it makes me fe...</td>\n",
              "      <td>Positive</td>\n",
              "      <td>0.5859</td>\n",
              "      <td>Negative</td>\n",
              "      <td>-0.050000</td>\n",
              "      <td>True</td>\n",
              "    </tr>\n",
              "    <tr>\n",
              "      <th>22</th>\n",
              "      <td>That poem wasn’t bad at all!</td>\n",
              "      <td>Negative</td>\n",
              "      <td>-0.5848</td>\n",
              "      <td>Negative</td>\n",
              "      <td>-0.875000</td>\n",
              "      <td>False</td>\n",
              "    </tr>\n",
              "    <tr>\n",
              "      <th>23</th>\n",
              "      <td>The character’s demise was inevitable; simply ...</td>\n",
              "      <td>Negative</td>\n",
              "      <td>-0.4588</td>\n",
              "      <td>Negative</td>\n",
              "      <td>-0.375000</td>\n",
              "      <td>False</td>\n",
              "    </tr>\n",
              "    <tr>\n",
              "      <th>24</th>\n",
              "      <td>Oh, fantastic... yet another twist ending.</td>\n",
              "      <td>Neutral</td>\n",
              "      <td>0.0000</td>\n",
              "      <td>Positive</td>\n",
              "      <td>0.400000</td>\n",
              "      <td>True</td>\n",
              "    </tr>\n",
              "    <tr>\n",
              "      <th>25</th>\n",
              "      <td>I couldn’t put the book down; it was haunting,...</td>\n",
              "      <td>Negative</td>\n",
              "      <td>-0.2732</td>\n",
              "      <td>Negative</td>\n",
              "      <td>-0.227778</td>\n",
              "      <td>False</td>\n",
              "    </tr>\n",
              "    <tr>\n",
              "      <th>26</th>\n",
              "      <td>She was calm, almost too calm, like the eye of...</td>\n",
              "      <td>Positive</td>\n",
              "      <td>0.7037</td>\n",
              "      <td>Positive</td>\n",
              "      <td>0.300000</td>\n",
              "      <td>False</td>\n",
              "    </tr>\n",
              "    <tr>\n",
              "      <th>27</th>\n",
              "      <td>The protagonist had a truly unforgettable expe...</td>\n",
              "      <td>Positive</td>\n",
              "      <td>0.4404</td>\n",
              "      <td>Positive</td>\n",
              "      <td>0.800000</td>\n",
              "      <td>False</td>\n",
              "    </tr>\n",
              "    <tr>\n",
              "      <th>28</th>\n",
              "      <td>Thank goodness it’s over. That was exhausting.</td>\n",
              "      <td>Positive</td>\n",
              "      <td>0.4588</td>\n",
              "      <td>Negative</td>\n",
              "      <td>-0.400000</td>\n",
              "      <td>True</td>\n",
              "    </tr>\n",
              "    <tr>\n",
              "      <th>29</th>\n",
              "      <td>This plot twist is simply too much... breathta...</td>\n",
              "      <td>Positive</td>\n",
              "      <td>0.5093</td>\n",
              "      <td>Positive</td>\n",
              "      <td>0.400000</td>\n",
              "      <td>False</td>\n",
              "    </tr>\n",
              "    <tr>\n",
              "      <th>30</th>\n",
              "      <td>Wow, thanks for ruining my day with that spoil...</td>\n",
              "      <td>Positive</td>\n",
              "      <td>0.7177</td>\n",
              "      <td>Positive</td>\n",
              "      <td>0.175000</td>\n",
              "      <td>False</td>\n",
              "    </tr>\n",
              "    <tr>\n",
              "      <th>31</th>\n",
              "      <td>Absolutely loved the movie... except for that ...</td>\n",
              "      <td>Positive</td>\n",
              "      <td>0.3989</td>\n",
              "      <td>Positive</td>\n",
              "      <td>0.875000</td>\n",
              "      <td>False</td>\n",
              "    </tr>\n",
              "    <tr>\n",
              "      <th>32</th>\n",
              "      <td>Can’t believe I waited hours for this. What a ...</td>\n",
              "      <td>Negative</td>\n",
              "      <td>-0.4753</td>\n",
              "      <td>Negative</td>\n",
              "      <td>-0.250000</td>\n",
              "      <td>False</td>\n",
              "    </tr>\n",
              "    <tr>\n",
              "      <th>33</th>\n",
              "      <td>OMG, this is the best thing I've seen all week!!!</td>\n",
              "      <td>Positive</td>\n",
              "      <td>0.7249</td>\n",
              "      <td>Positive</td>\n",
              "      <td>1.000000</td>\n",
              "      <td>False</td>\n",
              "    </tr>\n",
              "    <tr>\n",
              "      <th>34</th>\n",
              "      <td>This product is seriously underrated, honestly...</td>\n",
              "      <td>Positive</td>\n",
              "      <td>0.7500</td>\n",
              "      <td>Positive</td>\n",
              "      <td>0.208333</td>\n",
              "      <td>False</td>\n",
              "    </tr>\n",
              "    <tr>\n",
              "      <th>35</th>\n",
              "      <td>LOL, yeah right, as if this would actually wor...</td>\n",
              "      <td>Positive</td>\n",
              "      <td>0.6940</td>\n",
              "      <td>Positive</td>\n",
              "      <td>0.361905</td>\n",
              "      <td>False</td>\n",
              "    </tr>\n",
              "    <tr>\n",
              "      <th>36</th>\n",
              "      <td>Finally finished it... mixed feelings, to be h...</td>\n",
              "      <td>Positive</td>\n",
              "      <td>0.5106</td>\n",
              "      <td>Positive</td>\n",
              "      <td>0.200000</td>\n",
              "      <td>False</td>\n",
              "    </tr>\n",
              "    <tr>\n",
              "      <th>37</th>\n",
              "      <td>You have to read this book—it’s like nothing e...</td>\n",
              "      <td>Positive</td>\n",
              "      <td>0.4199</td>\n",
              "      <td>Neutral</td>\n",
              "      <td>0.000000</td>\n",
              "      <td>True</td>\n",
              "    </tr>\n",
              "    <tr>\n",
              "      <th>38</th>\n",
              "      <td>Just what I needed... another delay. Fantastic...</td>\n",
              "      <td>Positive</td>\n",
              "      <td>0.3182</td>\n",
              "      <td>Positive</td>\n",
              "      <td>0.400000</td>\n",
              "      <td>False</td>\n",
              "    </tr>\n",
              "    <tr>\n",
              "      <th>39</th>\n",
              "      <td>I'm impressed! Didn’t expect it to be this good!</td>\n",
              "      <td>Positive</td>\n",
              "      <td>0.7940</td>\n",
              "      <td>Positive</td>\n",
              "      <td>0.937500</td>\n",
              "      <td>False</td>\n",
              "    </tr>\n",
              "  </tbody>\n",
              "</table>\n",
              "</div>\n",
              "    <div class=\"colab-df-buttons\">\n",
              "\n",
              "  <div class=\"colab-df-container\">\n",
              "    <button class=\"colab-df-convert\" onclick=\"convertToInteractive('df-db9a871e-20e5-438c-a51e-1bd6fc5da2a0')\"\n",
              "            title=\"Convert this dataframe to an interactive table.\"\n",
              "            style=\"display:none;\">\n",
              "\n",
              "  <svg xmlns=\"http://www.w3.org/2000/svg\" height=\"24px\" viewBox=\"0 -960 960 960\">\n",
              "    <path d=\"M120-120v-720h720v720H120Zm60-500h600v-160H180v160Zm220 220h160v-160H400v160Zm0 220h160v-160H400v160ZM180-400h160v-160H180v160Zm440 0h160v-160H620v160ZM180-180h160v-160H180v160Zm440 0h160v-160H620v160Z\"/>\n",
              "  </svg>\n",
              "    </button>\n",
              "\n",
              "  <style>\n",
              "    .colab-df-container {\n",
              "      display:flex;\n",
              "      gap: 12px;\n",
              "    }\n",
              "\n",
              "    .colab-df-convert {\n",
              "      background-color: #E8F0FE;\n",
              "      border: none;\n",
              "      border-radius: 50%;\n",
              "      cursor: pointer;\n",
              "      display: none;\n",
              "      fill: #1967D2;\n",
              "      height: 32px;\n",
              "      padding: 0 0 0 0;\n",
              "      width: 32px;\n",
              "    }\n",
              "\n",
              "    .colab-df-convert:hover {\n",
              "      background-color: #E2EBFA;\n",
              "      box-shadow: 0px 1px 2px rgba(60, 64, 67, 0.3), 0px 1px 3px 1px rgba(60, 64, 67, 0.15);\n",
              "      fill: #174EA6;\n",
              "    }\n",
              "\n",
              "    .colab-df-buttons div {\n",
              "      margin-bottom: 4px;\n",
              "    }\n",
              "\n",
              "    [theme=dark] .colab-df-convert {\n",
              "      background-color: #3B4455;\n",
              "      fill: #D2E3FC;\n",
              "    }\n",
              "\n",
              "    [theme=dark] .colab-df-convert:hover {\n",
              "      background-color: #434B5C;\n",
              "      box-shadow: 0px 1px 3px 1px rgba(0, 0, 0, 0.15);\n",
              "      filter: drop-shadow(0px 1px 2px rgba(0, 0, 0, 0.3));\n",
              "      fill: #FFFFFF;\n",
              "    }\n",
              "  </style>\n",
              "\n",
              "    <script>\n",
              "      const buttonEl =\n",
              "        document.querySelector('#df-db9a871e-20e5-438c-a51e-1bd6fc5da2a0 button.colab-df-convert');\n",
              "      buttonEl.style.display =\n",
              "        google.colab.kernel.accessAllowed ? 'block' : 'none';\n",
              "\n",
              "      async function convertToInteractive(key) {\n",
              "        const element = document.querySelector('#df-db9a871e-20e5-438c-a51e-1bd6fc5da2a0');\n",
              "        const dataTable =\n",
              "          await google.colab.kernel.invokeFunction('convertToInteractive',\n",
              "                                                    [key], {});\n",
              "        if (!dataTable) return;\n",
              "\n",
              "        const docLinkHtml = 'Like what you see? Visit the ' +\n",
              "          '<a target=\"_blank\" href=https://colab.research.google.com/notebooks/data_table.ipynb>data table notebook</a>'\n",
              "          + ' to learn more about interactive tables.';\n",
              "        element.innerHTML = '';\n",
              "        dataTable['output_type'] = 'display_data';\n",
              "        await google.colab.output.renderOutput(dataTable, element);\n",
              "        const docLink = document.createElement('div');\n",
              "        docLink.innerHTML = docLinkHtml;\n",
              "        element.appendChild(docLink);\n",
              "      }\n",
              "    </script>\n",
              "  </div>\n",
              "\n",
              "\n",
              "<div id=\"df-77bff7b8-cb99-4504-bc93-2c88099cb420\">\n",
              "  <button class=\"colab-df-quickchart\" onclick=\"quickchart('df-77bff7b8-cb99-4504-bc93-2c88099cb420')\"\n",
              "            title=\"Suggest charts\"\n",
              "            style=\"display:none;\">\n",
              "\n",
              "<svg xmlns=\"http://www.w3.org/2000/svg\" height=\"24px\"viewBox=\"0 0 24 24\"\n",
              "     width=\"24px\">\n",
              "    <g>\n",
              "        <path d=\"M19 3H5c-1.1 0-2 .9-2 2v14c0 1.1.9 2 2 2h14c1.1 0 2-.9 2-2V5c0-1.1-.9-2-2-2zM9 17H7v-7h2v7zm4 0h-2V7h2v10zm4 0h-2v-4h2v4z\"/>\n",
              "    </g>\n",
              "</svg>\n",
              "  </button>\n",
              "\n",
              "<style>\n",
              "  .colab-df-quickchart {\n",
              "      --bg-color: #E8F0FE;\n",
              "      --fill-color: #1967D2;\n",
              "      --hover-bg-color: #E2EBFA;\n",
              "      --hover-fill-color: #174EA6;\n",
              "      --disabled-fill-color: #AAA;\n",
              "      --disabled-bg-color: #DDD;\n",
              "  }\n",
              "\n",
              "  [theme=dark] .colab-df-quickchart {\n",
              "      --bg-color: #3B4455;\n",
              "      --fill-color: #D2E3FC;\n",
              "      --hover-bg-color: #434B5C;\n",
              "      --hover-fill-color: #FFFFFF;\n",
              "      --disabled-bg-color: #3B4455;\n",
              "      --disabled-fill-color: #666;\n",
              "  }\n",
              "\n",
              "  .colab-df-quickchart {\n",
              "    background-color: var(--bg-color);\n",
              "    border: none;\n",
              "    border-radius: 50%;\n",
              "    cursor: pointer;\n",
              "    display: none;\n",
              "    fill: var(--fill-color);\n",
              "    height: 32px;\n",
              "    padding: 0;\n",
              "    width: 32px;\n",
              "  }\n",
              "\n",
              "  .colab-df-quickchart:hover {\n",
              "    background-color: var(--hover-bg-color);\n",
              "    box-shadow: 0 1px 2px rgba(60, 64, 67, 0.3), 0 1px 3px 1px rgba(60, 64, 67, 0.15);\n",
              "    fill: var(--button-hover-fill-color);\n",
              "  }\n",
              "\n",
              "  .colab-df-quickchart-complete:disabled,\n",
              "  .colab-df-quickchart-complete:disabled:hover {\n",
              "    background-color: var(--disabled-bg-color);\n",
              "    fill: var(--disabled-fill-color);\n",
              "    box-shadow: none;\n",
              "  }\n",
              "\n",
              "  .colab-df-spinner {\n",
              "    border: 2px solid var(--fill-color);\n",
              "    border-color: transparent;\n",
              "    border-bottom-color: var(--fill-color);\n",
              "    animation:\n",
              "      spin 1s steps(1) infinite;\n",
              "  }\n",
              "\n",
              "  @keyframes spin {\n",
              "    0% {\n",
              "      border-color: transparent;\n",
              "      border-bottom-color: var(--fill-color);\n",
              "      border-left-color: var(--fill-color);\n",
              "    }\n",
              "    20% {\n",
              "      border-color: transparent;\n",
              "      border-left-color: var(--fill-color);\n",
              "      border-top-color: var(--fill-color);\n",
              "    }\n",
              "    30% {\n",
              "      border-color: transparent;\n",
              "      border-left-color: var(--fill-color);\n",
              "      border-top-color: var(--fill-color);\n",
              "      border-right-color: var(--fill-color);\n",
              "    }\n",
              "    40% {\n",
              "      border-color: transparent;\n",
              "      border-right-color: var(--fill-color);\n",
              "      border-top-color: var(--fill-color);\n",
              "    }\n",
              "    60% {\n",
              "      border-color: transparent;\n",
              "      border-right-color: var(--fill-color);\n",
              "    }\n",
              "    80% {\n",
              "      border-color: transparent;\n",
              "      border-right-color: var(--fill-color);\n",
              "      border-bottom-color: var(--fill-color);\n",
              "    }\n",
              "    90% {\n",
              "      border-color: transparent;\n",
              "      border-bottom-color: var(--fill-color);\n",
              "    }\n",
              "  }\n",
              "</style>\n",
              "\n",
              "  <script>\n",
              "    async function quickchart(key) {\n",
              "      const quickchartButtonEl =\n",
              "        document.querySelector('#' + key + ' button');\n",
              "      quickchartButtonEl.disabled = true;  // To prevent multiple clicks.\n",
              "      quickchartButtonEl.classList.add('colab-df-spinner');\n",
              "      try {\n",
              "        const charts = await google.colab.kernel.invokeFunction(\n",
              "            'suggestCharts', [key], {});\n",
              "      } catch (error) {\n",
              "        console.error('Error during call to suggestCharts:', error);\n",
              "      }\n",
              "      quickchartButtonEl.classList.remove('colab-df-spinner');\n",
              "      quickchartButtonEl.classList.add('colab-df-quickchart-complete');\n",
              "    }\n",
              "    (() => {\n",
              "      let quickchartButtonEl =\n",
              "        document.querySelector('#df-77bff7b8-cb99-4504-bc93-2c88099cb420 button');\n",
              "      quickchartButtonEl.style.display =\n",
              "        google.colab.kernel.accessAllowed ? 'block' : 'none';\n",
              "    })();\n",
              "  </script>\n",
              "</div>\n",
              "\n",
              "  <div id=\"id_5ee5022b-71bb-4bf9-b0ab-a3407e91a6e0\">\n",
              "    <style>\n",
              "      .colab-df-generate {\n",
              "        background-color: #E8F0FE;\n",
              "        border: none;\n",
              "        border-radius: 50%;\n",
              "        cursor: pointer;\n",
              "        display: none;\n",
              "        fill: #1967D2;\n",
              "        height: 32px;\n",
              "        padding: 0 0 0 0;\n",
              "        width: 32px;\n",
              "      }\n",
              "\n",
              "      .colab-df-generate:hover {\n",
              "        background-color: #E2EBFA;\n",
              "        box-shadow: 0px 1px 2px rgba(60, 64, 67, 0.3), 0px 1px 3px 1px rgba(60, 64, 67, 0.15);\n",
              "        fill: #174EA6;\n",
              "      }\n",
              "\n",
              "      [theme=dark] .colab-df-generate {\n",
              "        background-color: #3B4455;\n",
              "        fill: #D2E3FC;\n",
              "      }\n",
              "\n",
              "      [theme=dark] .colab-df-generate:hover {\n",
              "        background-color: #434B5C;\n",
              "        box-shadow: 0px 1px 3px 1px rgba(0, 0, 0, 0.15);\n",
              "        filter: drop-shadow(0px 1px 2px rgba(0, 0, 0, 0.3));\n",
              "        fill: #FFFFFF;\n",
              "      }\n",
              "    </style>\n",
              "    <button class=\"colab-df-generate\" onclick=\"generateWithVariable('df')\"\n",
              "            title=\"Generate code using this dataframe.\"\n",
              "            style=\"display:none;\">\n",
              "\n",
              "  <svg xmlns=\"http://www.w3.org/2000/svg\" height=\"24px\"viewBox=\"0 0 24 24\"\n",
              "       width=\"24px\">\n",
              "    <path d=\"M7,19H8.4L18.45,9,17,7.55,7,17.6ZM5,21V16.75L18.45,3.32a2,2,0,0,1,2.83,0l1.4,1.43a1.91,1.91,0,0,1,.58,1.4,1.91,1.91,0,0,1-.58,1.4L9.25,21ZM18.45,9,17,7.55Zm-12,3A5.31,5.31,0,0,0,4.9,8.1,5.31,5.31,0,0,0,1,6.5,5.31,5.31,0,0,0,4.9,4.9,5.31,5.31,0,0,0,6.5,1,5.31,5.31,0,0,0,8.1,4.9,5.31,5.31,0,0,0,12,6.5,5.46,5.46,0,0,0,6.5,12Z\"/>\n",
              "  </svg>\n",
              "    </button>\n",
              "    <script>\n",
              "      (() => {\n",
              "      const buttonEl =\n",
              "        document.querySelector('#id_5ee5022b-71bb-4bf9-b0ab-a3407e91a6e0 button.colab-df-generate');\n",
              "      buttonEl.style.display =\n",
              "        google.colab.kernel.accessAllowed ? 'block' : 'none';\n",
              "\n",
              "      buttonEl.onclick = () => {\n",
              "        google.colab.notebook.generateWithVariable('df');\n",
              "      }\n",
              "      })();\n",
              "    </script>\n",
              "  </div>\n",
              "\n",
              "    </div>\n",
              "  </div>\n"
            ],
            "application/vnd.google.colaboratory.intrinsic+json": {
              "type": "dataframe",
              "variable_name": "df",
              "summary": "{\n  \"name\": \"df\",\n  \"rows\": 40,\n  \"fields\": [\n    {\n      \"column\": \"Sentence\",\n      \"properties\": {\n        \"dtype\": \"string\",\n        \"num_unique_values\": 20,\n        \"samples\": [\n          \"It was the best of times, it was the worst of times.\",\n          \"You have to read this book\\u2014it\\u2019s like nothing else!\",\n          \"LOL, yeah right, as if this would actually work... \\ud83d\\ude44\"\n        ],\n        \"semantic_type\": \"\",\n        \"description\": \"\"\n      }\n    },\n    {\n      \"column\": \"VADER Sentiment\",\n      \"properties\": {\n        \"dtype\": \"category\",\n        \"num_unique_values\": 3,\n        \"samples\": [\n          \"Neutral\",\n          \"Positive\",\n          \"Negative\"\n        ],\n        \"semantic_type\": \"\",\n        \"description\": \"\"\n      }\n    },\n    {\n      \"column\": \"VADER Score\",\n      \"properties\": {\n        \"dtype\": \"number\",\n        \"std\": 0.44197558582068586,\n        \"min\": -0.5848,\n        \"max\": 0.794,\n        \"num_unique_values\": 20,\n        \"samples\": [\n          0.0258,\n          0.4199,\n          0.694\n        ],\n        \"semantic_type\": \"\",\n        \"description\": \"\"\n      }\n    },\n    {\n      \"column\": \"TextBlob Sentiment\",\n      \"properties\": {\n        \"dtype\": \"category\",\n        \"num_unique_values\": 3,\n        \"samples\": [\n          \"Neutral\",\n          \"Negative\",\n          \"Positive\"\n        ],\n        \"semantic_type\": \"\",\n        \"description\": \"\"\n      }\n    },\n    {\n      \"column\": \"TextBlob Polarity\",\n      \"properties\": {\n        \"dtype\": \"number\",\n        \"std\": 0.48198107193727363,\n        \"min\": -0.8749999999999998,\n        \"max\": 1.0,\n        \"num_unique_values\": 18,\n        \"samples\": [\n          0.0,\n          -0.049999999999999996,\n          -0.4\n        ],\n        \"semantic_type\": \"\",\n        \"description\": \"\"\n      }\n    },\n    {\n      \"column\": \"Difference Detected\",\n      \"properties\": {\n        \"dtype\": \"boolean\",\n        \"num_unique_values\": 2,\n        \"samples\": [\n          true,\n          false\n        ],\n        \"semantic_type\": \"\",\n        \"description\": \"\"\n      }\n    }\n  ]\n}"
            }
          },
          "metadata": {},
          "execution_count": 30
        }
      ]
    },
    {
      "cell_type": "markdown",
      "source": [
        "5. Transform results in analysis-friendly form"
      ],
      "metadata": {
        "id": "2oETSHQh_24J"
      }
    },
    {
      "cell_type": "code",
      "source": [
        "# Create a DataFrame from dictionary with column names as keys and column data as lists of values\n",
        "import pandas as pd\n",
        "df = pd.DataFrame(audit_results)\n",
        "df"
      ],
      "metadata": {
        "id": "baO4LQtB_2hP"
      },
      "execution_count": null,
      "outputs": []
    },
    {
      "cell_type": "markdown",
      "source": [
        "6. Look at the differences"
      ],
      "metadata": {
        "id": "5Hi7z59M_9hW"
      }
    },
    {
      "cell_type": "code",
      "source": [
        "df[df[\"Difference Detected\"] == True]\n",
        "## or just\n",
        "#df[df[\"Difference Detected\"]\n",
        "## why?"
      ],
      "metadata": {
        "colab": {
          "base_uri": "https://localhost:8080/",
          "height": 456
        },
        "id": "x3KwJFw08aYW",
        "outputId": "c41898b4-8459-477b-d0d7-27e9fc7ea5de"
      },
      "execution_count": 33,
      "outputs": [
        {
          "output_type": "execute_result",
          "data": {
            "text/plain": [
              "                                             Sentence VADER Sentiment  \\\n",
              "1   I love how tragic her story is; it makes me fe...        Positive   \n",
              "4          Oh, fantastic... yet another twist ending.         Neutral   \n",
              "8      Thank goodness it’s over. That was exhausting.        Positive   \n",
              "17  You have to read this book—it’s like nothing e...        Positive   \n",
              "21  I love how tragic her story is; it makes me fe...        Positive   \n",
              "24         Oh, fantastic... yet another twist ending.         Neutral   \n",
              "28     Thank goodness it’s over. That was exhausting.        Positive   \n",
              "37  You have to read this book—it’s like nothing e...        Positive   \n",
              "\n",
              "    VADER Score TextBlob Sentiment  TextBlob Polarity  Difference Detected  \n",
              "1        0.5859           Negative              -0.05                 True  \n",
              "4        0.0000           Positive               0.40                 True  \n",
              "8        0.4588           Negative              -0.40                 True  \n",
              "17       0.4199            Neutral               0.00                 True  \n",
              "21       0.5859           Negative              -0.05                 True  \n",
              "24       0.0000           Positive               0.40                 True  \n",
              "28       0.4588           Negative              -0.40                 True  \n",
              "37       0.4199            Neutral               0.00                 True  "
            ],
            "text/html": [
              "\n",
              "  <div id=\"df-59bcf25e-4315-4e8b-aa97-9bf086c6ed86\" class=\"colab-df-container\">\n",
              "    <div>\n",
              "<style scoped>\n",
              "    .dataframe tbody tr th:only-of-type {\n",
              "        vertical-align: middle;\n",
              "    }\n",
              "\n",
              "    .dataframe tbody tr th {\n",
              "        vertical-align: top;\n",
              "    }\n",
              "\n",
              "    .dataframe thead th {\n",
              "        text-align: right;\n",
              "    }\n",
              "</style>\n",
              "<table border=\"1\" class=\"dataframe\">\n",
              "  <thead>\n",
              "    <tr style=\"text-align: right;\">\n",
              "      <th></th>\n",
              "      <th>Sentence</th>\n",
              "      <th>VADER Sentiment</th>\n",
              "      <th>VADER Score</th>\n",
              "      <th>TextBlob Sentiment</th>\n",
              "      <th>TextBlob Polarity</th>\n",
              "      <th>Difference Detected</th>\n",
              "    </tr>\n",
              "  </thead>\n",
              "  <tbody>\n",
              "    <tr>\n",
              "      <th>1</th>\n",
              "      <td>I love how tragic her story is; it makes me fe...</td>\n",
              "      <td>Positive</td>\n",
              "      <td>0.5859</td>\n",
              "      <td>Negative</td>\n",
              "      <td>-0.05</td>\n",
              "      <td>True</td>\n",
              "    </tr>\n",
              "    <tr>\n",
              "      <th>4</th>\n",
              "      <td>Oh, fantastic... yet another twist ending.</td>\n",
              "      <td>Neutral</td>\n",
              "      <td>0.0000</td>\n",
              "      <td>Positive</td>\n",
              "      <td>0.40</td>\n",
              "      <td>True</td>\n",
              "    </tr>\n",
              "    <tr>\n",
              "      <th>8</th>\n",
              "      <td>Thank goodness it’s over. That was exhausting.</td>\n",
              "      <td>Positive</td>\n",
              "      <td>0.4588</td>\n",
              "      <td>Negative</td>\n",
              "      <td>-0.40</td>\n",
              "      <td>True</td>\n",
              "    </tr>\n",
              "    <tr>\n",
              "      <th>17</th>\n",
              "      <td>You have to read this book—it’s like nothing e...</td>\n",
              "      <td>Positive</td>\n",
              "      <td>0.4199</td>\n",
              "      <td>Neutral</td>\n",
              "      <td>0.00</td>\n",
              "      <td>True</td>\n",
              "    </tr>\n",
              "    <tr>\n",
              "      <th>21</th>\n",
              "      <td>I love how tragic her story is; it makes me fe...</td>\n",
              "      <td>Positive</td>\n",
              "      <td>0.5859</td>\n",
              "      <td>Negative</td>\n",
              "      <td>-0.05</td>\n",
              "      <td>True</td>\n",
              "    </tr>\n",
              "    <tr>\n",
              "      <th>24</th>\n",
              "      <td>Oh, fantastic... yet another twist ending.</td>\n",
              "      <td>Neutral</td>\n",
              "      <td>0.0000</td>\n",
              "      <td>Positive</td>\n",
              "      <td>0.40</td>\n",
              "      <td>True</td>\n",
              "    </tr>\n",
              "    <tr>\n",
              "      <th>28</th>\n",
              "      <td>Thank goodness it’s over. That was exhausting.</td>\n",
              "      <td>Positive</td>\n",
              "      <td>0.4588</td>\n",
              "      <td>Negative</td>\n",
              "      <td>-0.40</td>\n",
              "      <td>True</td>\n",
              "    </tr>\n",
              "    <tr>\n",
              "      <th>37</th>\n",
              "      <td>You have to read this book—it’s like nothing e...</td>\n",
              "      <td>Positive</td>\n",
              "      <td>0.4199</td>\n",
              "      <td>Neutral</td>\n",
              "      <td>0.00</td>\n",
              "      <td>True</td>\n",
              "    </tr>\n",
              "  </tbody>\n",
              "</table>\n",
              "</div>\n",
              "    <div class=\"colab-df-buttons\">\n",
              "\n",
              "  <div class=\"colab-df-container\">\n",
              "    <button class=\"colab-df-convert\" onclick=\"convertToInteractive('df-59bcf25e-4315-4e8b-aa97-9bf086c6ed86')\"\n",
              "            title=\"Convert this dataframe to an interactive table.\"\n",
              "            style=\"display:none;\">\n",
              "\n",
              "  <svg xmlns=\"http://www.w3.org/2000/svg\" height=\"24px\" viewBox=\"0 -960 960 960\">\n",
              "    <path d=\"M120-120v-720h720v720H120Zm60-500h600v-160H180v160Zm220 220h160v-160H400v160Zm0 220h160v-160H400v160ZM180-400h160v-160H180v160Zm440 0h160v-160H620v160ZM180-180h160v-160H180v160Zm440 0h160v-160H620v160Z\"/>\n",
              "  </svg>\n",
              "    </button>\n",
              "\n",
              "  <style>\n",
              "    .colab-df-container {\n",
              "      display:flex;\n",
              "      gap: 12px;\n",
              "    }\n",
              "\n",
              "    .colab-df-convert {\n",
              "      background-color: #E8F0FE;\n",
              "      border: none;\n",
              "      border-radius: 50%;\n",
              "      cursor: pointer;\n",
              "      display: none;\n",
              "      fill: #1967D2;\n",
              "      height: 32px;\n",
              "      padding: 0 0 0 0;\n",
              "      width: 32px;\n",
              "    }\n",
              "\n",
              "    .colab-df-convert:hover {\n",
              "      background-color: #E2EBFA;\n",
              "      box-shadow: 0px 1px 2px rgba(60, 64, 67, 0.3), 0px 1px 3px 1px rgba(60, 64, 67, 0.15);\n",
              "      fill: #174EA6;\n",
              "    }\n",
              "\n",
              "    .colab-df-buttons div {\n",
              "      margin-bottom: 4px;\n",
              "    }\n",
              "\n",
              "    [theme=dark] .colab-df-convert {\n",
              "      background-color: #3B4455;\n",
              "      fill: #D2E3FC;\n",
              "    }\n",
              "\n",
              "    [theme=dark] .colab-df-convert:hover {\n",
              "      background-color: #434B5C;\n",
              "      box-shadow: 0px 1px 3px 1px rgba(0, 0, 0, 0.15);\n",
              "      filter: drop-shadow(0px 1px 2px rgba(0, 0, 0, 0.3));\n",
              "      fill: #FFFFFF;\n",
              "    }\n",
              "  </style>\n",
              "\n",
              "    <script>\n",
              "      const buttonEl =\n",
              "        document.querySelector('#df-59bcf25e-4315-4e8b-aa97-9bf086c6ed86 button.colab-df-convert');\n",
              "      buttonEl.style.display =\n",
              "        google.colab.kernel.accessAllowed ? 'block' : 'none';\n",
              "\n",
              "      async function convertToInteractive(key) {\n",
              "        const element = document.querySelector('#df-59bcf25e-4315-4e8b-aa97-9bf086c6ed86');\n",
              "        const dataTable =\n",
              "          await google.colab.kernel.invokeFunction('convertToInteractive',\n",
              "                                                    [key], {});\n",
              "        if (!dataTable) return;\n",
              "\n",
              "        const docLinkHtml = 'Like what you see? Visit the ' +\n",
              "          '<a target=\"_blank\" href=https://colab.research.google.com/notebooks/data_table.ipynb>data table notebook</a>'\n",
              "          + ' to learn more about interactive tables.';\n",
              "        element.innerHTML = '';\n",
              "        dataTable['output_type'] = 'display_data';\n",
              "        await google.colab.output.renderOutput(dataTable, element);\n",
              "        const docLink = document.createElement('div');\n",
              "        docLink.innerHTML = docLinkHtml;\n",
              "        element.appendChild(docLink);\n",
              "      }\n",
              "    </script>\n",
              "  </div>\n",
              "\n",
              "\n",
              "<div id=\"df-fc2ed9c5-c541-4e2f-854d-d22bddbd8db9\">\n",
              "  <button class=\"colab-df-quickchart\" onclick=\"quickchart('df-fc2ed9c5-c541-4e2f-854d-d22bddbd8db9')\"\n",
              "            title=\"Suggest charts\"\n",
              "            style=\"display:none;\">\n",
              "\n",
              "<svg xmlns=\"http://www.w3.org/2000/svg\" height=\"24px\"viewBox=\"0 0 24 24\"\n",
              "     width=\"24px\">\n",
              "    <g>\n",
              "        <path d=\"M19 3H5c-1.1 0-2 .9-2 2v14c0 1.1.9 2 2 2h14c1.1 0 2-.9 2-2V5c0-1.1-.9-2-2-2zM9 17H7v-7h2v7zm4 0h-2V7h2v10zm4 0h-2v-4h2v4z\"/>\n",
              "    </g>\n",
              "</svg>\n",
              "  </button>\n",
              "\n",
              "<style>\n",
              "  .colab-df-quickchart {\n",
              "      --bg-color: #E8F0FE;\n",
              "      --fill-color: #1967D2;\n",
              "      --hover-bg-color: #E2EBFA;\n",
              "      --hover-fill-color: #174EA6;\n",
              "      --disabled-fill-color: #AAA;\n",
              "      --disabled-bg-color: #DDD;\n",
              "  }\n",
              "\n",
              "  [theme=dark] .colab-df-quickchart {\n",
              "      --bg-color: #3B4455;\n",
              "      --fill-color: #D2E3FC;\n",
              "      --hover-bg-color: #434B5C;\n",
              "      --hover-fill-color: #FFFFFF;\n",
              "      --disabled-bg-color: #3B4455;\n",
              "      --disabled-fill-color: #666;\n",
              "  }\n",
              "\n",
              "  .colab-df-quickchart {\n",
              "    background-color: var(--bg-color);\n",
              "    border: none;\n",
              "    border-radius: 50%;\n",
              "    cursor: pointer;\n",
              "    display: none;\n",
              "    fill: var(--fill-color);\n",
              "    height: 32px;\n",
              "    padding: 0;\n",
              "    width: 32px;\n",
              "  }\n",
              "\n",
              "  .colab-df-quickchart:hover {\n",
              "    background-color: var(--hover-bg-color);\n",
              "    box-shadow: 0 1px 2px rgba(60, 64, 67, 0.3), 0 1px 3px 1px rgba(60, 64, 67, 0.15);\n",
              "    fill: var(--button-hover-fill-color);\n",
              "  }\n",
              "\n",
              "  .colab-df-quickchart-complete:disabled,\n",
              "  .colab-df-quickchart-complete:disabled:hover {\n",
              "    background-color: var(--disabled-bg-color);\n",
              "    fill: var(--disabled-fill-color);\n",
              "    box-shadow: none;\n",
              "  }\n",
              "\n",
              "  .colab-df-spinner {\n",
              "    border: 2px solid var(--fill-color);\n",
              "    border-color: transparent;\n",
              "    border-bottom-color: var(--fill-color);\n",
              "    animation:\n",
              "      spin 1s steps(1) infinite;\n",
              "  }\n",
              "\n",
              "  @keyframes spin {\n",
              "    0% {\n",
              "      border-color: transparent;\n",
              "      border-bottom-color: var(--fill-color);\n",
              "      border-left-color: var(--fill-color);\n",
              "    }\n",
              "    20% {\n",
              "      border-color: transparent;\n",
              "      border-left-color: var(--fill-color);\n",
              "      border-top-color: var(--fill-color);\n",
              "    }\n",
              "    30% {\n",
              "      border-color: transparent;\n",
              "      border-left-color: var(--fill-color);\n",
              "      border-top-color: var(--fill-color);\n",
              "      border-right-color: var(--fill-color);\n",
              "    }\n",
              "    40% {\n",
              "      border-color: transparent;\n",
              "      border-right-color: var(--fill-color);\n",
              "      border-top-color: var(--fill-color);\n",
              "    }\n",
              "    60% {\n",
              "      border-color: transparent;\n",
              "      border-right-color: var(--fill-color);\n",
              "    }\n",
              "    80% {\n",
              "      border-color: transparent;\n",
              "      border-right-color: var(--fill-color);\n",
              "      border-bottom-color: var(--fill-color);\n",
              "    }\n",
              "    90% {\n",
              "      border-color: transparent;\n",
              "      border-bottom-color: var(--fill-color);\n",
              "    }\n",
              "  }\n",
              "</style>\n",
              "\n",
              "  <script>\n",
              "    async function quickchart(key) {\n",
              "      const quickchartButtonEl =\n",
              "        document.querySelector('#' + key + ' button');\n",
              "      quickchartButtonEl.disabled = true;  // To prevent multiple clicks.\n",
              "      quickchartButtonEl.classList.add('colab-df-spinner');\n",
              "      try {\n",
              "        const charts = await google.colab.kernel.invokeFunction(\n",
              "            'suggestCharts', [key], {});\n",
              "      } catch (error) {\n",
              "        console.error('Error during call to suggestCharts:', error);\n",
              "      }\n",
              "      quickchartButtonEl.classList.remove('colab-df-spinner');\n",
              "      quickchartButtonEl.classList.add('colab-df-quickchart-complete');\n",
              "    }\n",
              "    (() => {\n",
              "      let quickchartButtonEl =\n",
              "        document.querySelector('#df-fc2ed9c5-c541-4e2f-854d-d22bddbd8db9 button');\n",
              "      quickchartButtonEl.style.display =\n",
              "        google.colab.kernel.accessAllowed ? 'block' : 'none';\n",
              "    })();\n",
              "  </script>\n",
              "</div>\n",
              "\n",
              "    </div>\n",
              "  </div>\n"
            ],
            "application/vnd.google.colaboratory.intrinsic+json": {
              "type": "dataframe",
              "summary": "{\n  \"name\": \"df[df[\\\"Difference Detected\\\"]]\",\n  \"rows\": 8,\n  \"fields\": [\n    {\n      \"column\": \"Sentence\",\n      \"properties\": {\n        \"dtype\": \"string\",\n        \"num_unique_values\": 4,\n        \"samples\": [\n          \"Oh, fantastic... yet another twist ending.\",\n          \"You have to read this book\\u2014it\\u2019s like nothing else!\",\n          \"I love how tragic her story is; it makes me feel alive.\"\n        ],\n        \"semantic_type\": \"\",\n        \"description\": \"\"\n      }\n    },\n    {\n      \"column\": \"VADER Sentiment\",\n      \"properties\": {\n        \"dtype\": \"category\",\n        \"num_unique_values\": 2,\n        \"samples\": [\n          \"Neutral\",\n          \"Positive\"\n        ],\n        \"semantic_type\": \"\",\n        \"description\": \"\"\n      }\n    },\n    {\n      \"column\": \"VADER Score\",\n      \"properties\": {\n        \"dtype\": \"number\",\n        \"std\": 0.2353289308909674,\n        \"min\": 0.0,\n        \"max\": 0.5859,\n        \"num_unique_values\": 4,\n        \"samples\": [\n          0.0,\n          0.4199\n        ],\n        \"semantic_type\": \"\",\n        \"description\": \"\"\n      }\n    },\n    {\n      \"column\": \"TextBlob Sentiment\",\n      \"properties\": {\n        \"dtype\": \"category\",\n        \"num_unique_values\": 3,\n        \"samples\": [\n          \"Negative\",\n          \"Positive\"\n        ],\n        \"semantic_type\": \"\",\n        \"description\": \"\"\n      }\n    },\n    {\n      \"column\": \"TextBlob Polarity\",\n      \"properties\": {\n        \"dtype\": \"number\",\n        \"std\": 0.3032561387907683,\n        \"min\": -0.4,\n        \"max\": 0.4,\n        \"num_unique_values\": 4,\n        \"samples\": [\n          0.4,\n          0.0\n        ],\n        \"semantic_type\": \"\",\n        \"description\": \"\"\n      }\n    },\n    {\n      \"column\": \"Difference Detected\",\n      \"properties\": {\n        \"dtype\": \"boolean\",\n        \"num_unique_values\": 1,\n        \"samples\": [\n          true\n        ],\n        \"semantic_type\": \"\",\n        \"description\": \"\"\n      }\n    }\n  ]\n}"
            }
          },
          "metadata": {},
          "execution_count": 33
        }
      ]
    },
    {
      "cell_type": "code",
      "source": [
        "len(df[df[\"Difference Detected\"] == True]) / len(df)"
      ],
      "metadata": {
        "colab": {
          "base_uri": "https://localhost:8080/"
        },
        "id": "cOsf95RL82KK",
        "outputId": "fce1c46c-cbb4-4231-8299-06c354393b21"
      },
      "execution_count": 37,
      "outputs": [
        {
          "output_type": "execute_result",
          "data": {
            "text/plain": [
              "0.2"
            ]
          },
          "metadata": {},
          "execution_count": 37
        }
      ]
    },
    {
      "cell_type": "code",
      "source": [
        "pd.crosstab(df[\"VADER Sentiment\"], df[\"TextBlob Sentiment\"])"
      ],
      "metadata": {
        "colab": {
          "base_uri": "https://localhost:8080/",
          "height": 174
        },
        "id": "CzLStWzP9qq4",
        "outputId": "1df99166-a8b4-479d-895f-457eefcf6516"
      },
      "execution_count": 38,
      "outputs": [
        {
          "output_type": "execute_result",
          "data": {
            "text/plain": [
              "TextBlob Sentiment  Negative  Neutral  Positive\n",
              "VADER Sentiment                                \n",
              "Negative                   8        0         0\n",
              "Neutral                    0        2         2\n",
              "Positive                   4        2        22"
            ],
            "text/html": [
              "\n",
              "  <div id=\"df-7607dfc6-559d-4505-8a77-160ca1b1b519\" class=\"colab-df-container\">\n",
              "    <div>\n",
              "<style scoped>\n",
              "    .dataframe tbody tr th:only-of-type {\n",
              "        vertical-align: middle;\n",
              "    }\n",
              "\n",
              "    .dataframe tbody tr th {\n",
              "        vertical-align: top;\n",
              "    }\n",
              "\n",
              "    .dataframe thead th {\n",
              "        text-align: right;\n",
              "    }\n",
              "</style>\n",
              "<table border=\"1\" class=\"dataframe\">\n",
              "  <thead>\n",
              "    <tr style=\"text-align: right;\">\n",
              "      <th>TextBlob Sentiment</th>\n",
              "      <th>Negative</th>\n",
              "      <th>Neutral</th>\n",
              "      <th>Positive</th>\n",
              "    </tr>\n",
              "    <tr>\n",
              "      <th>VADER Sentiment</th>\n",
              "      <th></th>\n",
              "      <th></th>\n",
              "      <th></th>\n",
              "    </tr>\n",
              "  </thead>\n",
              "  <tbody>\n",
              "    <tr>\n",
              "      <th>Negative</th>\n",
              "      <td>8</td>\n",
              "      <td>0</td>\n",
              "      <td>0</td>\n",
              "    </tr>\n",
              "    <tr>\n",
              "      <th>Neutral</th>\n",
              "      <td>0</td>\n",
              "      <td>2</td>\n",
              "      <td>2</td>\n",
              "    </tr>\n",
              "    <tr>\n",
              "      <th>Positive</th>\n",
              "      <td>4</td>\n",
              "      <td>2</td>\n",
              "      <td>22</td>\n",
              "    </tr>\n",
              "  </tbody>\n",
              "</table>\n",
              "</div>\n",
              "    <div class=\"colab-df-buttons\">\n",
              "\n",
              "  <div class=\"colab-df-container\">\n",
              "    <button class=\"colab-df-convert\" onclick=\"convertToInteractive('df-7607dfc6-559d-4505-8a77-160ca1b1b519')\"\n",
              "            title=\"Convert this dataframe to an interactive table.\"\n",
              "            style=\"display:none;\">\n",
              "\n",
              "  <svg xmlns=\"http://www.w3.org/2000/svg\" height=\"24px\" viewBox=\"0 -960 960 960\">\n",
              "    <path d=\"M120-120v-720h720v720H120Zm60-500h600v-160H180v160Zm220 220h160v-160H400v160Zm0 220h160v-160H400v160ZM180-400h160v-160H180v160Zm440 0h160v-160H620v160ZM180-180h160v-160H180v160Zm440 0h160v-160H620v160Z\"/>\n",
              "  </svg>\n",
              "    </button>\n",
              "\n",
              "  <style>\n",
              "    .colab-df-container {\n",
              "      display:flex;\n",
              "      gap: 12px;\n",
              "    }\n",
              "\n",
              "    .colab-df-convert {\n",
              "      background-color: #E8F0FE;\n",
              "      border: none;\n",
              "      border-radius: 50%;\n",
              "      cursor: pointer;\n",
              "      display: none;\n",
              "      fill: #1967D2;\n",
              "      height: 32px;\n",
              "      padding: 0 0 0 0;\n",
              "      width: 32px;\n",
              "    }\n",
              "\n",
              "    .colab-df-convert:hover {\n",
              "      background-color: #E2EBFA;\n",
              "      box-shadow: 0px 1px 2px rgba(60, 64, 67, 0.3), 0px 1px 3px 1px rgba(60, 64, 67, 0.15);\n",
              "      fill: #174EA6;\n",
              "    }\n",
              "\n",
              "    .colab-df-buttons div {\n",
              "      margin-bottom: 4px;\n",
              "    }\n",
              "\n",
              "    [theme=dark] .colab-df-convert {\n",
              "      background-color: #3B4455;\n",
              "      fill: #D2E3FC;\n",
              "    }\n",
              "\n",
              "    [theme=dark] .colab-df-convert:hover {\n",
              "      background-color: #434B5C;\n",
              "      box-shadow: 0px 1px 3px 1px rgba(0, 0, 0, 0.15);\n",
              "      filter: drop-shadow(0px 1px 2px rgba(0, 0, 0, 0.3));\n",
              "      fill: #FFFFFF;\n",
              "    }\n",
              "  </style>\n",
              "\n",
              "    <script>\n",
              "      const buttonEl =\n",
              "        document.querySelector('#df-7607dfc6-559d-4505-8a77-160ca1b1b519 button.colab-df-convert');\n",
              "      buttonEl.style.display =\n",
              "        google.colab.kernel.accessAllowed ? 'block' : 'none';\n",
              "\n",
              "      async function convertToInteractive(key) {\n",
              "        const element = document.querySelector('#df-7607dfc6-559d-4505-8a77-160ca1b1b519');\n",
              "        const dataTable =\n",
              "          await google.colab.kernel.invokeFunction('convertToInteractive',\n",
              "                                                    [key], {});\n",
              "        if (!dataTable) return;\n",
              "\n",
              "        const docLinkHtml = 'Like what you see? Visit the ' +\n",
              "          '<a target=\"_blank\" href=https://colab.research.google.com/notebooks/data_table.ipynb>data table notebook</a>'\n",
              "          + ' to learn more about interactive tables.';\n",
              "        element.innerHTML = '';\n",
              "        dataTable['output_type'] = 'display_data';\n",
              "        await google.colab.output.renderOutput(dataTable, element);\n",
              "        const docLink = document.createElement('div');\n",
              "        docLink.innerHTML = docLinkHtml;\n",
              "        element.appendChild(docLink);\n",
              "      }\n",
              "    </script>\n",
              "  </div>\n",
              "\n",
              "\n",
              "<div id=\"df-4d8d13d3-6cec-45db-b59f-a3dd0b038f25\">\n",
              "  <button class=\"colab-df-quickchart\" onclick=\"quickchart('df-4d8d13d3-6cec-45db-b59f-a3dd0b038f25')\"\n",
              "            title=\"Suggest charts\"\n",
              "            style=\"display:none;\">\n",
              "\n",
              "<svg xmlns=\"http://www.w3.org/2000/svg\" height=\"24px\"viewBox=\"0 0 24 24\"\n",
              "     width=\"24px\">\n",
              "    <g>\n",
              "        <path d=\"M19 3H5c-1.1 0-2 .9-2 2v14c0 1.1.9 2 2 2h14c1.1 0 2-.9 2-2V5c0-1.1-.9-2-2-2zM9 17H7v-7h2v7zm4 0h-2V7h2v10zm4 0h-2v-4h2v4z\"/>\n",
              "    </g>\n",
              "</svg>\n",
              "  </button>\n",
              "\n",
              "<style>\n",
              "  .colab-df-quickchart {\n",
              "      --bg-color: #E8F0FE;\n",
              "      --fill-color: #1967D2;\n",
              "      --hover-bg-color: #E2EBFA;\n",
              "      --hover-fill-color: #174EA6;\n",
              "      --disabled-fill-color: #AAA;\n",
              "      --disabled-bg-color: #DDD;\n",
              "  }\n",
              "\n",
              "  [theme=dark] .colab-df-quickchart {\n",
              "      --bg-color: #3B4455;\n",
              "      --fill-color: #D2E3FC;\n",
              "      --hover-bg-color: #434B5C;\n",
              "      --hover-fill-color: #FFFFFF;\n",
              "      --disabled-bg-color: #3B4455;\n",
              "      --disabled-fill-color: #666;\n",
              "  }\n",
              "\n",
              "  .colab-df-quickchart {\n",
              "    background-color: var(--bg-color);\n",
              "    border: none;\n",
              "    border-radius: 50%;\n",
              "    cursor: pointer;\n",
              "    display: none;\n",
              "    fill: var(--fill-color);\n",
              "    height: 32px;\n",
              "    padding: 0;\n",
              "    width: 32px;\n",
              "  }\n",
              "\n",
              "  .colab-df-quickchart:hover {\n",
              "    background-color: var(--hover-bg-color);\n",
              "    box-shadow: 0 1px 2px rgba(60, 64, 67, 0.3), 0 1px 3px 1px rgba(60, 64, 67, 0.15);\n",
              "    fill: var(--button-hover-fill-color);\n",
              "  }\n",
              "\n",
              "  .colab-df-quickchart-complete:disabled,\n",
              "  .colab-df-quickchart-complete:disabled:hover {\n",
              "    background-color: var(--disabled-bg-color);\n",
              "    fill: var(--disabled-fill-color);\n",
              "    box-shadow: none;\n",
              "  }\n",
              "\n",
              "  .colab-df-spinner {\n",
              "    border: 2px solid var(--fill-color);\n",
              "    border-color: transparent;\n",
              "    border-bottom-color: var(--fill-color);\n",
              "    animation:\n",
              "      spin 1s steps(1) infinite;\n",
              "  }\n",
              "\n",
              "  @keyframes spin {\n",
              "    0% {\n",
              "      border-color: transparent;\n",
              "      border-bottom-color: var(--fill-color);\n",
              "      border-left-color: var(--fill-color);\n",
              "    }\n",
              "    20% {\n",
              "      border-color: transparent;\n",
              "      border-left-color: var(--fill-color);\n",
              "      border-top-color: var(--fill-color);\n",
              "    }\n",
              "    30% {\n",
              "      border-color: transparent;\n",
              "      border-left-color: var(--fill-color);\n",
              "      border-top-color: var(--fill-color);\n",
              "      border-right-color: var(--fill-color);\n",
              "    }\n",
              "    40% {\n",
              "      border-color: transparent;\n",
              "      border-right-color: var(--fill-color);\n",
              "      border-top-color: var(--fill-color);\n",
              "    }\n",
              "    60% {\n",
              "      border-color: transparent;\n",
              "      border-right-color: var(--fill-color);\n",
              "    }\n",
              "    80% {\n",
              "      border-color: transparent;\n",
              "      border-right-color: var(--fill-color);\n",
              "      border-bottom-color: var(--fill-color);\n",
              "    }\n",
              "    90% {\n",
              "      border-color: transparent;\n",
              "      border-bottom-color: var(--fill-color);\n",
              "    }\n",
              "  }\n",
              "</style>\n",
              "\n",
              "  <script>\n",
              "    async function quickchart(key) {\n",
              "      const quickchartButtonEl =\n",
              "        document.querySelector('#' + key + ' button');\n",
              "      quickchartButtonEl.disabled = true;  // To prevent multiple clicks.\n",
              "      quickchartButtonEl.classList.add('colab-df-spinner');\n",
              "      try {\n",
              "        const charts = await google.colab.kernel.invokeFunction(\n",
              "            'suggestCharts', [key], {});\n",
              "      } catch (error) {\n",
              "        console.error('Error during call to suggestCharts:', error);\n",
              "      }\n",
              "      quickchartButtonEl.classList.remove('colab-df-spinner');\n",
              "      quickchartButtonEl.classList.add('colab-df-quickchart-complete');\n",
              "    }\n",
              "    (() => {\n",
              "      let quickchartButtonEl =\n",
              "        document.querySelector('#df-4d8d13d3-6cec-45db-b59f-a3dd0b038f25 button');\n",
              "      quickchartButtonEl.style.display =\n",
              "        google.colab.kernel.accessAllowed ? 'block' : 'none';\n",
              "    })();\n",
              "  </script>\n",
              "</div>\n",
              "\n",
              "    </div>\n",
              "  </div>\n"
            ],
            "application/vnd.google.colaboratory.intrinsic+json": {
              "type": "dataframe",
              "summary": "{\n  \"name\": \"pd\",\n  \"rows\": 3,\n  \"fields\": [\n    {\n      \"column\": \"VADER Sentiment\",\n      \"properties\": {\n        \"dtype\": \"string\",\n        \"num_unique_values\": 3,\n        \"samples\": [\n          \"Negative\",\n          \"Neutral\",\n          \"Positive\"\n        ],\n        \"semantic_type\": \"\",\n        \"description\": \"\"\n      }\n    },\n    {\n      \"column\": \"Negative\",\n      \"properties\": {\n        \"dtype\": \"number\",\n        \"std\": 4,\n        \"min\": 0,\n        \"max\": 8,\n        \"num_unique_values\": 3,\n        \"samples\": [\n          8,\n          0,\n          4\n        ],\n        \"semantic_type\": \"\",\n        \"description\": \"\"\n      }\n    },\n    {\n      \"column\": \"Neutral\",\n      \"properties\": {\n        \"dtype\": \"number\",\n        \"std\": 1,\n        \"min\": 0,\n        \"max\": 2,\n        \"num_unique_values\": 2,\n        \"samples\": [\n          2,\n          0\n        ],\n        \"semantic_type\": \"\",\n        \"description\": \"\"\n      }\n    },\n    {\n      \"column\": \"Positive\",\n      \"properties\": {\n        \"dtype\": \"number\",\n        \"std\": 12,\n        \"min\": 0,\n        \"max\": 22,\n        \"num_unique_values\": 3,\n        \"samples\": [\n          0,\n          2\n        ],\n        \"semantic_type\": \"\",\n        \"description\": \"\"\n      }\n    }\n  ]\n}"
            }
          },
          "metadata": {},
          "execution_count": 38
        }
      ]
    },
    {
      "cell_type": "markdown",
      "source": [
        "- What do we think about the results?\n",
        "- Key question: How typical they are for tasks at hand? What other troubles we may encounter?\n",
        "- What extra questions should we ask ourselves?"
      ],
      "metadata": {
        "id": "sUCfvOolOnVf"
      }
    },
    {
      "cell_type": "markdown",
      "metadata": {
        "id": "_ryB58HjOYyU"
      },
      "source": [
        "# Getting back to TextBlob\n",
        "\n",
        "\n",
        "\n",
        "The [documentation for TextBlob](https://textblob.readthedocs.io/en/dev/) isn't the best, but the default sentiment system is based on a tool called [pattern](https://github.com/clips/pattern), which employs a sentiment lexicon — a list of words with values, many of them hand-coded.\n",
        "- You can see the source code [here](https://github.com/sloria/TextBlob/blob/6396e24e85af7462cbed648fee21db5082a1f3fb/textblob/en/__init__.py#L8) (around line 80): it basically averages the sentiment scores for the all the words in the span, and applies some rule-based heuristics to identify negations.\n",
        "- You can see the full lexicon [here](https://github.com/sloria/TextBlob/blob/6396e24e85af7462cbed648fee21db5082a1f3fb/textblob/en/__init__.py#L8); it's mostly adjective-based."
      ]
    },
    {
      "cell_type": "code",
      "execution_count": 55,
      "metadata": {
        "colab": {
          "base_uri": "https://localhost:8080/"
        },
        "id": "rBeENwp_OYyV",
        "outputId": "d643bd32-42af-46ed-fabf-8786188e05b2"
      },
      "outputs": [
        {
          "output_type": "stream",
          "name": "stderr",
          "text": [
            "[nltk_data] Downloading package punkt_tab to /root/nltk_data...\n",
            "[nltk_data]   Package punkt_tab is already up-to-date!\n",
            "[nltk_data] Downloading package punkt to /root/nltk_data...\n",
            "[nltk_data]   Package punkt is already up-to-date!\n"
          ]
        },
        {
          "output_type": "execute_result",
          "data": {
            "text/plain": [
              "True"
            ]
          },
          "metadata": {},
          "execution_count": 55
        }
      ],
      "source": [
        "from textblob import TextBlob\n",
        "nltk.download('punkt_tab')\n",
        "nltk.download('punkt')"
      ]
    },
    {
      "cell_type": "code",
      "execution_count": 56,
      "metadata": {
        "id": "kAj6WIiLOYyW",
        "outputId": "8c3f5f4a-a15f-47e1-bd91-df353aac5cf3",
        "colab": {
          "base_uri": "https://localhost:8080/"
        }
      },
      "outputs": [
        {
          "output_type": "execute_result",
          "data": {
            "text/plain": [
              "0.55"
            ]
          },
          "metadata": {},
          "execution_count": 56
        }
      ],
      "source": [
        "TextBlob(\"Neil Young is the greatest artist to come out of this country\").polarity"
      ]
    },
    {
      "cell_type": "code",
      "execution_count": 57,
      "metadata": {
        "id": "pGNWCH5YOYyY",
        "outputId": "422e6809-a450-47df-8b41-621273f4001b",
        "colab": {
          "base_uri": "https://localhost:8080/"
        }
      },
      "outputs": [
        {
          "output_type": "execute_result",
          "data": {
            "text/plain": [
              "-0.5"
            ]
          },
          "metadata": {},
          "execution_count": 57
        }
      ],
      "source": [
        "TextBlob(\"I hate Neil Young and his stupid, whiny voice\").polarity"
      ]
    },
    {
      "cell_type": "code",
      "execution_count": 58,
      "metadata": {
        "id": "GdLUM4leOYyY",
        "outputId": "890d0e08-711c-46b2-841b-07cf4f2e1062",
        "colab": {
          "base_uri": "https://localhost:8080/"
        }
      },
      "outputs": [
        {
          "output_type": "execute_result",
          "data": {
            "text/plain": [
              "0.55"
            ]
          },
          "metadata": {},
          "execution_count": 58
        }
      ],
      "source": [
        "TextBlob(\"Sometimes I feel like Neil Young is the greatest singer of his generation\").polarity"
      ]
    },
    {
      "cell_type": "code",
      "execution_count": 59,
      "metadata": {
        "id": "hd9OTbviOYyZ",
        "outputId": "03d4211c-1a20-4401-d964-e55fb55f88d2",
        "colab": {
          "base_uri": "https://localhost:8080/"
        }
      },
      "outputs": [
        {
          "output_type": "execute_result",
          "data": {
            "text/plain": [
              "-0.45"
            ]
          },
          "metadata": {},
          "execution_count": 59
        }
      ],
      "source": [
        "TextBlob(\"Neil Young isn’t the worst Canadian musician\").polarity"
      ]
    },
    {
      "cell_type": "code",
      "execution_count": 60,
      "metadata": {
        "id": "6_OAEm3DOYya",
        "outputId": "ce09d664-1dff-46b8-fec0-1d0710b9b6ca",
        "colab": {
          "base_uri": "https://localhost:8080/"
        }
      },
      "outputs": [
        {
          "output_type": "execute_result",
          "data": {
            "text/plain": [
              "0.3"
            ]
          },
          "metadata": {},
          "execution_count": 60
        }
      ],
      "source": [
        "TextBlob(\"Oh yeah, Neil Young’s voice is as lovely as Josh Groban’s\").polarity"
      ]
    },
    {
      "cell_type": "code",
      "execution_count": 61,
      "metadata": {
        "id": "1jBePMBJOYya",
        "outputId": "f1e99fdc-f544-490b-8161-8217a180431c",
        "colab": {
          "base_uri": "https://localhost:8080/"
        }
      },
      "outputs": [
        {
          "output_type": "execute_result",
          "data": {
            "text/plain": [
              "0.6000000000000001"
            ]
          },
          "metadata": {},
          "execution_count": 61
        }
      ],
      "source": [
        "TextBlob(\"Hating on amazing music isn’t something I’m known for\").polarity"
      ]
    },
    {
      "cell_type": "code",
      "execution_count": 62,
      "metadata": {
        "id": "AbLQ9Mn7OYyb",
        "outputId": "7c689189-efe0-418d-f305-a8aa635ff9da",
        "colab": {
          "base_uri": "https://localhost:8080/"
        }
      },
      "outputs": [
        {
          "output_type": "execute_result",
          "data": {
            "text/plain": [
              "0.1"
            ]
          },
          "metadata": {},
          "execution_count": 62
        }
      ],
      "source": [
        "TextBlob(\"Neil Young\").polarity"
      ]
    },
    {
      "cell_type": "markdown",
      "metadata": {
        "id": "7Gck-SWmOYyf"
      },
      "source": [
        "The way we work with TextBlob is first by \"blobbing\" a string of text (aka, turning it from a string to a TextBlob object). This is done by passing the string as argument to the `TextBlob` function."
      ]
    },
    {
      "cell_type": "code",
      "execution_count": 63,
      "metadata": {
        "id": "6_QnN3jjOYyf"
      },
      "outputs": [],
      "source": [
        "text = \"It is a truth universally acknowledged, that a single man in possession of a good fortune, must be in want of a wife.\""
      ]
    },
    {
      "cell_type": "code",
      "execution_count": 64,
      "metadata": {
        "id": "TK2XO7HpOYyf"
      },
      "outputs": [],
      "source": [
        "pride_blob = TextBlob(text)"
      ]
    },
    {
      "cell_type": "code",
      "execution_count": 65,
      "metadata": {
        "colab": {
          "base_uri": "https://localhost:8080/",
          "height": 203
        },
        "id": "ZRGN8XPnOYyf",
        "outputId": "b4319c86-9796-439b-aa8e-cd28f94ccf13"
      },
      "outputs": [
        {
          "output_type": "execute_result",
          "data": {
            "text/plain": [
              "textblob.blob.TextBlob"
            ],
            "text/html": [
              "<div style=\"max-width:800px; border: 1px solid var(--colab-border-color);\"><style>\n",
              "      pre.function-repr-contents {\n",
              "        overflow-x: auto;\n",
              "        padding: 8px 12px;\n",
              "        max-height: 500px;\n",
              "      }\n",
              "\n",
              "      pre.function-repr-contents.function-repr-contents-collapsed {\n",
              "        cursor: pointer;\n",
              "        max-height: 100px;\n",
              "      }\n",
              "    </style>\n",
              "    <pre style=\"white-space: initial; background:\n",
              "         var(--colab-secondary-surface-color); padding: 8px 12px;\n",
              "         border-bottom: 1px solid var(--colab-border-color);\"><b>textblob.blob.TextBlob</b><br/>def __init__(text, tokenizer=None, pos_tagger=None, np_extractor=None, analyzer=None, parser=None, classifier=None, clean_html=False)</pre><pre class=\"function-repr-contents function-repr-contents-collapsed\" style=\"\"><a class=\"filepath\" style=\"display:none\" href=\"#\">/usr/local/lib/python3.10/dist-packages/textblob/blob.py</a>A general text block, meant for larger bodies of text (esp. those\n",
              "containing sentences). Inherits from :class:`BaseBlob &lt;BaseBlob&gt;`.\n",
              "\n",
              ":param str text: A string.\n",
              ":param tokenizer: (optional) A tokenizer instance. If ``None``, defaults to\n",
              "    :class:`WordTokenizer() &lt;textblob.tokenizers.WordTokenizer&gt;`.\n",
              ":param np_extractor: (optional) An NPExtractor instance. If ``None``,\n",
              "    defaults to :class:`FastNPExtractor() &lt;textblob.en.np_extractors.FastNPExtractor&gt;`.\n",
              ":param pos_tagger: (optional) A Tagger instance. If ``None``, defaults to\n",
              "    :class:`NLTKTagger &lt;textblob.en.taggers.NLTKTagger&gt;`.\n",
              ":param analyzer: (optional) A sentiment analyzer. If ``None``, defaults to\n",
              "    :class:`PatternAnalyzer &lt;textblob.en.sentiments.PatternAnalyzer&gt;`.\n",
              ":param classifier: (optional) A classifier.</pre>\n",
              "      <script>\n",
              "      if (google.colab.kernel.accessAllowed && google.colab.files && google.colab.files.view) {\n",
              "        for (const element of document.querySelectorAll('.filepath')) {\n",
              "          element.style.display = 'block'\n",
              "          element.onclick = (event) => {\n",
              "            event.preventDefault();\n",
              "            event.stopPropagation();\n",
              "            google.colab.files.view(element.textContent, 649);\n",
              "          };\n",
              "        }\n",
              "      }\n",
              "      for (const element of document.querySelectorAll('.function-repr-contents')) {\n",
              "        element.onclick = (event) => {\n",
              "          event.preventDefault();\n",
              "          event.stopPropagation();\n",
              "          element.classList.toggle('function-repr-contents-collapsed');\n",
              "        };\n",
              "      }\n",
              "      </script>\n",
              "      </div>"
            ]
          },
          "metadata": {},
          "execution_count": 65
        }
      ],
      "source": [
        "type(pride_blob)"
      ]
    },
    {
      "cell_type": "markdown",
      "metadata": {
        "id": "S5fFv4yeOYyg"
      },
      "source": [
        "## Using TextBlob to Tokenize Strings and Split Them Into Sentences\n",
        "\n",
        "Once a text is blobbed, we can start calling the special TextBlob methods on it. Note that TextBlob methods don't take arguments, and indeed don't even have the usual method syntax of being followed by `()` — which I personally find a bit ugly.\n",
        "\n",
        "Let's look at two to start with:\n",
        "- `blob.words`: This tokenizes the string, turning into words. We've been accomplishing this with Python's built-in `string.split()` for many weeks now, then doing some extra stuff like removing punctuation with regular expressions. TextBlob does it all in one fell swoop, and does a good job with it — although we get less control over the process, and I personally prefer our previous method (can you see why??). The object it returns behaves like a `list`.\n",
        "- `blob.sentences`: This returns all the sentences in a string. We've been accomplishing this with `string.split(\".\")`. This does exactly the same thing, from what I can tell; for instance, it isn't smart enough to also split on `?` or `!`, and it is just as confused by contractions like `per cent.`. The object it returns again behaves like a `list`'"
      ]
    },
    {
      "cell_type": "code",
      "execution_count": 66,
      "metadata": {
        "id": "rnopb6KCOYyg",
        "outputId": "fd48c57b-e04c-402e-8a70-3091144c2109",
        "colab": {
          "base_uri": "https://localhost:8080/"
        }
      },
      "outputs": [
        {
          "output_type": "execute_result",
          "data": {
            "text/plain": [
              "WordList(['It', 'is', 'a', 'truth', 'universally', 'acknowledged', 'that', 'a', 'single', 'man', 'in', 'possession', 'of', 'a', 'good', 'fortune', 'must', 'be', 'in', 'want', 'of', 'a', 'wife'])"
            ]
          },
          "metadata": {},
          "execution_count": 66
        }
      ],
      "source": [
        "pride_blob.words"
      ]
    },
    {
      "cell_type": "code",
      "execution_count": 67,
      "metadata": {
        "colab": {
          "base_uri": "https://localhost:8080/",
          "height": 120
        },
        "id": "p0UU-uUuOYyg",
        "outputId": "4c3c246f-4b14-4df4-adb8-b3a9f856c5da"
      },
      "outputs": [
        {
          "output_type": "execute_result",
          "data": {
            "text/plain": [
              "textblob.blob.WordList"
            ],
            "text/html": [
              "<div style=\"max-width:800px; border: 1px solid var(--colab-border-color);\"><style>\n",
              "      pre.function-repr-contents {\n",
              "        overflow-x: auto;\n",
              "        padding: 8px 12px;\n",
              "        max-height: 500px;\n",
              "      }\n",
              "\n",
              "      pre.function-repr-contents.function-repr-contents-collapsed {\n",
              "        cursor: pointer;\n",
              "        max-height: 100px;\n",
              "      }\n",
              "    </style>\n",
              "    <pre style=\"white-space: initial; background:\n",
              "         var(--colab-secondary-surface-color); padding: 8px 12px;\n",
              "         border-bottom: 1px solid var(--colab-border-color);\"><b>textblob.blob.WordList</b><br/>def __init__(collection)</pre><pre class=\"function-repr-contents function-repr-contents-collapsed\" style=\"\"><a class=\"filepath\" style=\"display:none\" href=\"#\">/usr/local/lib/python3.10/dist-packages/textblob/blob.py</a>A list-like collection of words.</pre>\n",
              "      <script>\n",
              "      if (google.colab.kernel.accessAllowed && google.colab.files && google.colab.files.view) {\n",
              "        for (const element of document.querySelectorAll('.filepath')) {\n",
              "          element.style.display = 'block'\n",
              "          element.onclick = (event) => {\n",
              "            event.preventDefault();\n",
              "            event.stopPropagation();\n",
              "            google.colab.files.view(element.textContent, 226);\n",
              "          };\n",
              "        }\n",
              "      }\n",
              "      for (const element of document.querySelectorAll('.function-repr-contents')) {\n",
              "        element.onclick = (event) => {\n",
              "          event.preventDefault();\n",
              "          event.stopPropagation();\n",
              "          element.classList.toggle('function-repr-contents-collapsed');\n",
              "        };\n",
              "      }\n",
              "      </script>\n",
              "      </div>"
            ]
          },
          "metadata": {},
          "execution_count": 67
        }
      ],
      "source": [
        "type(pride_blob.words)"
      ]
    },
    {
      "cell_type": "code",
      "execution_count": 68,
      "metadata": {
        "colab": {
          "base_uri": "https://localhost:8080/",
          "height": 35
        },
        "id": "xdF6cjcBOYyh",
        "outputId": "bc47b04d-604b-46c6-dc2c-c7d56f0b5f23"
      },
      "outputs": [
        {
          "output_type": "execute_result",
          "data": {
            "text/plain": [
              "'It'"
            ],
            "application/vnd.google.colaboratory.intrinsic+json": {
              "type": "string"
            }
          },
          "metadata": {},
          "execution_count": 68
        }
      ],
      "source": [
        "pride_blob.words[0]"
      ]
    },
    {
      "cell_type": "code",
      "execution_count": 69,
      "metadata": {
        "id": "FAA5V2mMOYyh",
        "outputId": "b5de755d-8874-4f7d-a4af-1ea8a5efce7b",
        "colab": {
          "base_uri": "https://localhost:8080/"
        }
      },
      "outputs": [
        {
          "output_type": "stream",
          "name": "stdout",
          "text": [
            "IT\n",
            "IS\n",
            "A\n",
            "TRUTH\n",
            "UNIVERSALLY\n",
            "ACKNOWLEDGED\n",
            "THAT\n",
            "A\n",
            "SINGLE\n",
            "MAN\n",
            "IN\n",
            "POSSESSION\n",
            "OF\n",
            "A\n",
            "GOOD\n",
            "FORTUNE\n",
            "MUST\n",
            "BE\n",
            "IN\n",
            "WANT\n",
            "OF\n",
            "A\n",
            "WIFE\n"
          ]
        }
      ],
      "source": [
        "for word in pride_blob.words:\n",
        "    print(word.upper())"
      ]
    },
    {
      "cell_type": "code",
      "execution_count": 70,
      "metadata": {
        "id": "hNJXbqcVOYyh",
        "colab": {
          "base_uri": "https://localhost:8080/",
          "height": 141
        },
        "outputId": "ba8bb919-52c1-4a5b-a9c8-58a001d53c2c"
      },
      "outputs": [
        {
          "output_type": "error",
          "ename": "FileNotFoundError",
          "evalue": "[Errno 2] No such file or directory: 'sign-of-four.txt'",
          "traceback": [
            "\u001b[0;31m---------------------------------------------------------------------------\u001b[0m",
            "\u001b[0;31mFileNotFoundError\u001b[0m                         Traceback (most recent call last)",
            "\u001b[0;32m<ipython-input-70-7d179d6a5da4>\u001b[0m in \u001b[0;36m<cell line: 1>\u001b[0;34m()\u001b[0m\n\u001b[0;32m----> 1\u001b[0;31m \u001b[0msot4\u001b[0m \u001b[0;34m=\u001b[0m \u001b[0mopen\u001b[0m\u001b[0;34m(\u001b[0m\u001b[0;34m\"sign-of-four.txt\"\u001b[0m\u001b[0;34m,\u001b[0m \u001b[0mencoding\u001b[0m\u001b[0;34m=\u001b[0m\u001b[0;34m\"utf-8\"\u001b[0m\u001b[0;34m)\u001b[0m\u001b[0;34m.\u001b[0m\u001b[0mread\u001b[0m\u001b[0;34m(\u001b[0m\u001b[0;34m)\u001b[0m\u001b[0;34m\u001b[0m\u001b[0;34m\u001b[0m\u001b[0m\n\u001b[0m",
            "\u001b[0;31mFileNotFoundError\u001b[0m: [Errno 2] No such file or directory: 'sign-of-four.txt'"
          ]
        }
      ],
      "source": [
        "sot4 = open(\"sign-of-four.txt\", encoding=\"utf-8\").read()"
      ]
    },
    {
      "cell_type": "code",
      "execution_count": null,
      "metadata": {
        "id": "VdS8xhz2OYyn"
      },
      "outputs": [],
      "source": [
        "sot4_blob = TextBlob(sot4)"
      ]
    },
    {
      "cell_type": "code",
      "execution_count": null,
      "metadata": {
        "id": "9c8W_p1HOYyn"
      },
      "outputs": [],
      "source": [
        "sot4_blob.words[255:269]"
      ]
    },
    {
      "cell_type": "code",
      "execution_count": null,
      "metadata": {
        "id": "b4uO68E5OYyo"
      },
      "outputs": [],
      "source": [
        "sot4_blob.sentences[9:20]"
      ]
    },
    {
      "cell_type": "markdown",
      "metadata": {
        "id": "p5FqBAzNOYyo"
      },
      "source": [
        "### TextBlob Word Counts... and Python Dictionaries\n",
        "\n",
        "TextBlob has another use method, `blob.word_counts`, which returns a list of the most commonly used terms in a document, along with a count for each of those words."
      ]
    },
    {
      "cell_type": "code",
      "execution_count": null,
      "metadata": {
        "id": "snCw7Q6UOYyo"
      },
      "outputs": [],
      "source": [
        "pride_blob.word_counts"
      ]
    },
    {
      "cell_type": "code",
      "execution_count": null,
      "metadata": {
        "id": "AjMIpT6MOYyo"
      },
      "outputs": [],
      "source": [
        "sot4_blob.word_counts"
      ]
    },
    {
      "cell_type": "markdown",
      "metadata": {
        "id": "42oe72K7OYyo"
      },
      "source": [
        "**Python data type** returned by the `blob.words_counts` method — well, that's not a `list` at all, but rather a **dictionary (`dict`)**."
      ]
    },
    {
      "cell_type": "markdown",
      "metadata": {
        "id": "1scXwxtYOYyr"
      },
      "source": [
        "## Changing Values and Adding Key-Value Pairs\n",
        "\n",
        "This is accomplished as follows:"
      ]
    },
    {
      "cell_type": "code",
      "execution_count": null,
      "metadata": {
        "id": "oaSsezqKOYyr"
      },
      "outputs": [],
      "source": [
        "carnivores['blob'] = \"a third-party Python library that slowly kills you by sucking up all of your time, because the textual analysis it facilitates is so fascinating\""
      ]
    },
    {
      "cell_type": "code",
      "execution_count": null,
      "metadata": {
        "id": "p_tPrPJyOYys"
      },
      "outputs": [],
      "source": [
        "carnivores['blob']"
      ]
    },
    {
      "cell_type": "code",
      "execution_count": null,
      "metadata": {
        "id": "wqzgcYuwOYys"
      },
      "outputs": [],
      "source": [
        "carnivores['kitten'] = \"a delightful, fuzzy creature whose natural prey is cat food (dry or wet) and, especially, treats\""
      ]
    },
    {
      "cell_type": "code",
      "execution_count": null,
      "metadata": {
        "id": "XSLFw8TqOYys"
      },
      "outputs": [],
      "source": [
        "carnivores['kitten']"
      ]
    },
    {
      "cell_type": "code",
      "execution_count": null,
      "metadata": {
        "id": "ObrnBTFsOYys"
      },
      "outputs": [],
      "source": [
        "carnivores.values()"
      ]
    },
    {
      "cell_type": "markdown",
      "metadata": {
        "id": "TIGhwurFOYyu"
      },
      "source": [
        "## Back to `blob.word_counts`!\n",
        "\n",
        "So... as I said, TextBlob's `word_counts` method produces a dictionary-like object, in which each key is a unique word in the string, and each value is a count of how many times that word occurs in the string."
      ]
    },
    {
      "cell_type": "code",
      "execution_count": null,
      "metadata": {
        "id": "szg3iSPqOYyu"
      },
      "outputs": [],
      "source": [
        "sot4_counts = sot4_blob.word_counts"
      ]
    },
    {
      "cell_type": "code",
      "execution_count": null,
      "metadata": {
        "id": "WA1b1q5rOYyu"
      },
      "outputs": [],
      "source": [
        "type(sot4_counts)"
      ]
    },
    {
      "cell_type": "code",
      "execution_count": null,
      "metadata": {
        "id": "-NBun8OMOYyu"
      },
      "outputs": [],
      "source": [
        "sot4_counts['cocaine']"
      ]
    },
    {
      "cell_type": "markdown",
      "metadata": {
        "id": "cqLFqn0VOYyv"
      },
      "source": [
        "By the way, since `blob.word_counts` produces a dictionary-like object in which each key is a unique word... can you tell me the one-line command we could use use to calculate the TTR of any TextBlob object?"
      ]
    },
    {
      "cell_type": "code",
      "execution_count": null,
      "metadata": {
        "id": "-niK-ZZGOYyv"
      },
      "outputs": [],
      "source": [
        "# We'll figure this one out together..."
      ]
    },
    {
      "cell_type": "markdown",
      "metadata": {
        "id": "ThrkAeTSOYyv"
      },
      "source": [
        "# Sentiment Analysis in TextBlob\n",
        "\n",
        "Okay, it's finally time to get back to the thing we really want to do in TextBlob: use its sentiment analysis package!\n",
        "\n",
        "This is accessible with the `blob.sentiment`, `blob.polarity`, and `blob.subjectivity` methods."
      ]
    },
    {
      "cell_type": "code",
      "execution_count": null,
      "metadata": {
        "id": "vnSkpKn5OYyv"
      },
      "outputs": [],
      "source": [
        "pride_blob.sentiment"
      ]
    },
    {
      "cell_type": "code",
      "execution_count": null,
      "metadata": {
        "id": "2XFqMv0mOYyw"
      },
      "outputs": [],
      "source": [
        "pride_blob.polarity"
      ]
    },
    {
      "cell_type": "code",
      "execution_count": null,
      "metadata": {
        "id": "DcfjX5RCOYyw"
      },
      "outputs": [],
      "source": [
        "pride_blob.subjectivity"
      ]
    },
    {
      "cell_type": "markdown",
      "metadata": {
        "id": "E4XESgRPOYyw"
      },
      "source": [
        "Today we are going to focus on sentiment polarity today (how positive or negative, happy or sad, a particular span of text is."
      ]
    },
    {
      "cell_type": "code",
      "execution_count": null,
      "metadata": {
        "id": "MNx8uOIhOYyw"
      },
      "outputs": [],
      "source": [
        "TextBlob(\"My life is ruined and I am miserable\").polarity"
      ]
    },
    {
      "cell_type": "code",
      "execution_count": null,
      "metadata": {
        "id": "xb5iyPLIOYyx"
      },
      "outputs": [],
      "source": [
        "TextBlob(\"My life is amazing and I am overjoyed\").polarity"
      ]
    },
    {
      "cell_type": "code",
      "execution_count": null,
      "metadata": {
        "id": "1_13x9LPOYyx"
      },
      "outputs": [],
      "source": [
        "TextBlob(\"My life is not ruined and I am not miserable\").polarity"
      ]
    },
    {
      "cell_type": "code",
      "execution_count": null,
      "metadata": {
        "id": "c9l2wWpHOYyx"
      },
      "outputs": [],
      "source": [
        "TextBlob(\"My life is not amazing and I am not overjoyed\").polarity"
      ]
    },
    {
      "cell_type": "code",
      "execution_count": null,
      "metadata": {
        "id": "HxtD9IG3OYyx"
      },
      "outputs": [],
      "source": [
        "TextBlob(\"It's kind of like a potato\").polarity"
      ]
    },
    {
      "cell_type": "markdown",
      "metadata": {
        "id": "vxr1yIXpOYyx"
      },
      "source": [
        "## Creating a DataFrame of Polarity Values for *The Sign of the Four*\n",
        "\n",
        "We now have pretty much all the pieces in place to accomplish our task: creating a DataFrame in which each row contains a sentence from *The Sign of the Four* and the TextBlob polarity and subjectivity score for that sentence. Let's go!\n",
        "\n",
        "We will create three parallel lists:\n",
        "- one containing the text of every sentence, in the form of a `string`\n",
        "- one containing a polarity value for each sentence, in the form of a `float`\n",
        "- one containing a subjectivity value for each sentence, also in the form of a `float`\n",
        "\n",
        "How would we do this, using skills we learned back in the first half of the course?"
      ]
    },
    {
      "cell_type": "markdown",
      "metadata": {
        "id": "hXxCidM5OYyy"
      },
      "source": [
        "### Using `blob.sentences`\n",
        "\n",
        "Let's start by examining the output of TextBlob's `blob.sentences` method more closely, so we get a better sense of how we'll produce our three desired lists."
      ]
    },
    {
      "cell_type": "code",
      "execution_count": null,
      "metadata": {
        "id": "Re36jN6AOYyy"
      },
      "outputs": [],
      "source": [
        "sot4_sentences_blob = sot4_blob.sentences"
      ]
    },
    {
      "cell_type": "code",
      "execution_count": null,
      "metadata": {
        "id": "B0et4DRvOYyy"
      },
      "outputs": [],
      "source": [
        "type(sot4_sentences_blob)"
      ]
    },
    {
      "cell_type": "code",
      "execution_count": null,
      "metadata": {
        "id": "975wG44IOYyy"
      },
      "outputs": [],
      "source": [
        "sot4_sentences_blob[22]"
      ]
    },
    {
      "cell_type": "code",
      "execution_count": null,
      "metadata": {
        "id": "rShRSOXEOYyy"
      },
      "outputs": [],
      "source": [
        "type(sot4_sentences_blob[22])"
      ]
    },
    {
      "cell_type": "code",
      "execution_count": null,
      "metadata": {
        "id": "BJk13AM4OYyy"
      },
      "outputs": [],
      "source": [
        "sot4_sentences_blob[22].polarity"
      ]
    },
    {
      "cell_type": "code",
      "execution_count": null,
      "metadata": {
        "id": "GsrFuavWOYyz"
      },
      "outputs": [],
      "source": [
        "sot4_polarities = []\n",
        "\n",
        "for sentence in sot4_sentences_blob:\n",
        "    sot4_polarities.append(sentence.polarity)"
      ]
    },
    {
      "cell_type": "code",
      "execution_count": null,
      "metadata": {
        "id": "QGPACsh7OYyz"
      },
      "outputs": [],
      "source": [
        "sot4_polarities[:10]"
      ]
    },
    {
      "cell_type": "code",
      "execution_count": null,
      "metadata": {
        "id": "WtwnXSK9OYyz"
      },
      "outputs": [],
      "source": [
        "sot4_subjectivities = []\n",
        "\n",
        "for sentence in sot4_sentences_blob:\n",
        "    sot4_subjectivities.append(sentence.subjectivity)"
      ]
    },
    {
      "cell_type": "code",
      "execution_count": null,
      "metadata": {
        "id": "-veyy0RIOYyz"
      },
      "outputs": [],
      "source": [
        "sot4_subjectivities[:10]"
      ]
    },
    {
      "cell_type": "code",
      "execution_count": null,
      "metadata": {
        "id": "RD4Ga2PfOYyz"
      },
      "outputs": [],
      "source": [
        "sot4_sentences_blob[22]"
      ]
    },
    {
      "cell_type": "code",
      "execution_count": null,
      "metadata": {
        "scrolled": false,
        "id": "YMqL61E8OYy0"
      },
      "outputs": [],
      "source": [
        "sot4_sentences_blob[22].raw"
      ]
    },
    {
      "cell_type": "code",
      "execution_count": null,
      "metadata": {
        "scrolled": false,
        "id": "XWcdKBvQOYy0"
      },
      "outputs": [],
      "source": [
        "type(sot4_sentences_blob[22].raw)"
      ]
    },
    {
      "cell_type": "code",
      "execution_count": null,
      "metadata": {
        "id": "Xp1g9DaZOYy0"
      },
      "outputs": [],
      "source": [
        "sot4_sentences_blob[0]"
      ]
    },
    {
      "cell_type": "code",
      "execution_count": null,
      "metadata": {
        "id": "9iSHJ2UXOYy0"
      },
      "outputs": [],
      "source": [
        "sot4_sentences_blob[0].raw"
      ]
    },
    {
      "cell_type": "markdown",
      "metadata": {
        "id": "7G-oUT_zOYy1"
      },
      "source": [
        "Since that output is a bit ugly, with all those `\\n\\n\\n`s, let's create our `string` of each sentence in a slightly different way: by using Python's `string.join()` method, which we met wayyyyy back in Week 3 (go look if you don't believe me!).\n",
        "\n",
        "Here, we'll use `string.join()` to join together all the `blob.word`s with spaces, which gives us a pretty string to work with."
      ]
    },
    {
      "cell_type": "code",
      "execution_count": null,
      "metadata": {
        "id": "k9AlyWWjOYy1"
      },
      "outputs": [],
      "source": [
        "sot4_sentences_blob[0].words"
      ]
    },
    {
      "cell_type": "code",
      "execution_count": null,
      "metadata": {
        "id": "kxbrd59vOYy1"
      },
      "outputs": [],
      "source": [
        "\" \".join(sot4_sentences_blob[0].words)"
      ]
    },
    {
      "cell_type": "code",
      "execution_count": null,
      "metadata": {
        "id": "pe3FHuhfOYy1"
      },
      "outputs": [],
      "source": [
        "type(\" \".join(sot4_sentences_blob[0].words))"
      ]
    },
    {
      "cell_type": "code",
      "execution_count": null,
      "metadata": {
        "id": "c9JI_5F9OYy2"
      },
      "outputs": [],
      "source": [
        "sot4_sentences = []\n",
        "\n",
        "for sentence in sot4_sentences_blob:\n",
        "    sot4_sentences.append(\" \".join(sentence.words))"
      ]
    },
    {
      "cell_type": "code",
      "execution_count": null,
      "metadata": {
        "id": "kKf01ek8OYy2"
      },
      "outputs": [],
      "source": [
        "sot4_sentences[:10]"
      ]
    },
    {
      "cell_type": "markdown",
      "metadata": {
        "id": "FIThYv65OYy2"
      },
      "source": [
        "### Creating a DataFrame from Three Parallel Lists\n",
        "\n",
        "Okay, we have all the contents of our desired DataFrame.\n",
        "\n",
        "- A list containing all the sentences of *The Sign of the Four*, in order\n",
        "- A list containing the polarity values for each of those sentences, in order\n",
        "- A list containing the subjectivity values for each of those sentences, in order\n",
        "\n",
        "Our friend Pandas allows us to quite easily make a new DataFrame out of this kind of data, with its `pd.DataFrame()` method.\n",
        "\n",
        "The `pd.DataFrame()` method takes as its argument... **a dictionary**! (See why we had to finally learn about dictionaries??). It expects this argument to be formatted as follows:\n",
        "\n",
        "```\n",
        "new_df = pd.DataFrame(\n",
        "    {\n",
        "        'column1': list1,\n",
        "        'column2': list2,\n",
        "        'column3': list3\n",
        "    }\n",
        ")\n",
        "```\n",
        "\n",
        "Of course, you could also write this same command without all the tabs and newlines as follows:\n",
        "\n",
        "`new_df = pd.DataFrame({'column1': list1, 'column2': list2, 'column3': list3})`\n"
      ]
    },
    {
      "cell_type": "code",
      "execution_count": null,
      "metadata": {
        "id": "WRWU4Y8POYy2"
      },
      "outputs": [],
      "source": [
        "import pandas as pd"
      ]
    },
    {
      "cell_type": "code",
      "execution_count": null,
      "metadata": {
        "id": "kAytjZKJOYy2"
      },
      "outputs": [],
      "source": [
        "sot4_sentence_sentiment_df = pd.DataFrame({\n",
        "    'sentence': sot4_sentences,\n",
        "    'polarity': sot4_polarities,\n",
        "    'subjectivity': sot4_subjectivities\n",
        "})"
      ]
    },
    {
      "cell_type": "code",
      "execution_count": null,
      "metadata": {
        "id": "XRHbz-BjOYy3"
      },
      "outputs": [],
      "source": [
        "sot4_sentence_sentiment_df"
      ]
    },
    {
      "cell_type": "markdown",
      "metadata": {
        "id": "WMYJiCm2OYy3"
      },
      "source": [
        "Let's now have a look at the sentences that TextBlob considers the most positive, as well as the most negative ones..."
      ]
    },
    {
      "cell_type": "code",
      "execution_count": null,
      "metadata": {
        "id": "AVIIFKgOOYy3"
      },
      "outputs": [],
      "source": [
        "sot4_sentence_sentiment_df.sort_values(by='polarity', ascending=False)[:15]"
      ]
    },
    {
      "cell_type": "markdown",
      "metadata": {
        "id": "LdWf86CrOYy3"
      },
      "source": [
        "Pretty hard to read what's in the `Sentence` column! We could export it to a CSV and explore it in Excel or Google Sheets... or we can set this Pandas parameter so that there is no maximum column width, and it will just show us everything!"
      ]
    },
    {
      "cell_type": "code",
      "execution_count": null,
      "metadata": {
        "id": "INuEBsM7OYy3"
      },
      "outputs": [],
      "source": [
        "pd.set_option('display.max_colwidth', 0)"
      ]
    },
    {
      "cell_type": "code",
      "execution_count": null,
      "metadata": {
        "id": "uyMU62dZOYy3"
      },
      "outputs": [],
      "source": [
        "sot4_sentence_sentiment_df.sort_values(by='polarity', ascending=False)[:15]"
      ]
    },
    {
      "cell_type": "code",
      "execution_count": null,
      "metadata": {
        "scrolled": true,
        "id": "F7razxciOYy4"
      },
      "outputs": [],
      "source": [
        "sot4_sentence_sentiment_df.sort_values(by='polarity', ascending=True)[:15]"
      ]
    },
    {
      "cell_type": "markdown",
      "source": [
        "# For the most curious: how we can deal with subjectivity using VADER scores?"
      ],
      "metadata": {
        "id": "Qml6WUUzBRsd"
      }
    },
    {
      "cell_type": "markdown",
      "source": [
        "- There is no \"subjectivity\" metrics but we can define our own looking at the dictionary with negative, positive and neutral scores VADER gives us\n",
        "- We need to define a new set of examples to compare the algorithms"
      ],
      "metadata": {
        "id": "1C0p7GmyBe7b"
      }
    },
    {
      "cell_type": "markdown",
      "source": [
        "My + LLM boring set of examples (you can do much better!):"
      ],
      "metadata": {
        "id": "4lIVGgSbBvVS"
      }
    },
    {
      "cell_type": "code",
      "source": [
        "examples_objectivity = [\n",
        "    \"The sun rises in the east and sets in the west.\",\n",
        "    \"The book details the origins of the solar system.\",\n",
        "    \"The experiment yielded unexpected results, showing potential errors in previous models.\",\n",
        "    \"Wow, the sunset tonight is absolutely breathtaking!\",\n",
        "    \"This study proves nothing new and is a complete waste of resources.\",\n",
        "    \"The data strongly suggests a correlation between the two variables.\",\n",
        "    \"That movie was unbelievably bad; I can't believe I wasted two hours on it!\",\n",
        "    \"I'm thrilled to finally visit Paris next week; it’s been my dream for years!\",\n",
        "    \"The procedure is fairly straightforward, requiring only basic understanding of calculus.\",\n",
        "    \"I guess it’s okay, but it’s not as great as everyone says.\",\n",
        "    \"After reviewing all the reports, it’s evident that improvements are needed.\",\n",
        "    \"She’s just amazing; every time I see her perform, it’s magical!\",\n",
        "    \"The solution is elegant and minimizes computational overhead.\",\n",
        "    \"No, just no. I cannot understand why anyone would enjoy this.\",\n",
        "    \"To be honest, the outcome was predictable and lacked excitement.\",\n",
        "    \"Their customer service is decent, but nothing extraordinary.\",\n",
        "    \"The latest model offers a marginal improvement over previous versions.\",\n",
        "    \"Reading this article was such a joy! It’s insightful and well-researched.\",\n",
        "    \"I would not recommend this product; it’s just not worth the price.\",\n",
        "]"
      ],
      "metadata": {
        "id": "cKn3L20i6hJq"
      },
      "execution_count": null,
      "outputs": []
    }
  ],
  "metadata": {
    "kernelspec": {
      "display_name": "Python 3 (ipykernel)",
      "language": "python",
      "name": "python3"
    },
    "language_info": {
      "codemirror_mode": {
        "name": "ipython",
        "version": 3
      },
      "file_extension": ".py",
      "mimetype": "text/x-python",
      "name": "python",
      "nbconvert_exporter": "python",
      "pygments_lexer": "ipython3",
      "version": "3.9.7"
    },
    "colab": {
      "provenance": []
    }
  },
  "nbformat": 4,
  "nbformat_minor": 0
}