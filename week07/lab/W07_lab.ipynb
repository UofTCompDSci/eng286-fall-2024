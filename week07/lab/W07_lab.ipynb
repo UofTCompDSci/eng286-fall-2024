{
 "cells": [
  {
   "cell_type": "markdown",
   "id": "e618b315",
   "metadata": {},
   "source": [
    "# Week 7 Lab\n",
    "\n",
    "\n",
    "## Instructions\n",
    "\n",
    "For each task, write the response in the provided cell.\n",
    "\n",
    "\n",
    "## Due date\n",
    "Labs are due each week on Wednesday at 10pm"
   ]
  },
  {
   "cell_type": "markdown",
   "id": "2b925957",
   "metadata": {},
   "source": [
    "# Assignment\n",
    "For this lab, we'll be using a new datset of library checkouts, which is provided in the CSV file `seattle_checkouts.csv`. This dataset comes from the Seattle Public Library, and records the number of times each title in their collection was checked out during the month of April 2020, the first full month of COVID lockdowns in Seattle."
   ]
  },
  {
   "cell_type": "code",
   "execution_count": null,
   "id": "a2babfff",
   "metadata": {},
   "outputs": [],
   "source": []
  },
  {
   "cell_type": "markdown",
   "id": "89645a9d",
   "metadata": {},
   "source": [
    "## Task 1: Predictions freewriting\n",
    "Before you begin, write 1-2 sentences about what kinds of things you might expect to see in Seattle's most-checked-out books of April 2020. Is there anything you think will not be checked out often? Informal prose and the use of first person are encouraged: this is just a quick note to yourself about what you're thinking."
   ]
  },
  {
   "cell_type": "markdown",
   "id": "5ed05ead",
   "metadata": {},
   "source": [
    "(Write some thoughts here)"
   ]
  },
  {
   "cell_type": "markdown",
   "id": "07d06f16",
   "metadata": {},
   "source": [
    "## Task 2: Loading a CSV as a Pandas DataFrame\n",
    "\n",
    "Import pandas and read `seattle_checkouts.csv` in to a dataframe called `checkouts_df`.\n",
    "\n",
    "Note that this is a comma-separated file, not a tab-separated file, so it won't import exactly like the `nyt_full.tsv` file that we used in lecture. \n",
    "\n",
    "Don't know what to do with a csv file?  The standard coder's response would be to google \"pandas how to read a csv file\" and look at what you get.  Seriously.  That said, if you do this and the top hit or two don't help (or if they overwhelm) then... **Hint: You need to remove the `sep=\"\\t\"` parameter completely from the line of code used in lecture.**"
   ]
  },
  {
   "cell_type": "code",
   "execution_count": null,
   "id": "f6fc7d1c",
   "metadata": {},
   "outputs": [],
   "source": [
    "# Write your code here and run it\n"
   ]
  },
  {
   "cell_type": "code",
   "execution_count": null,
   "id": "580382ba",
   "metadata": {},
   "outputs": [],
   "source": [
    "# Run this to check that your dataframe was created correctly\n",
    "\n",
    "checkouts_df"
   ]
  },
  {
   "cell_type": "markdown",
   "id": "da94b5b3",
   "metadata": {},
   "source": [
    "## Task 3: Finding the Top Twenty Most Frequently Listed Authors\n",
    "\n",
    "Below is the code we used in lecture to see the authors who appeared most frequently on the NYT bestseller list. Modify it so it shows the authors who appear most frequently in this DataFrame of checked-out books.\n",
    "\n",
    "Make sure to look at the rows and columns above carefully --- details matter!"
   ]
  },
  {
   "cell_type": "code",
   "execution_count": null,
   "id": "50ed6cd3",
   "metadata": {},
   "outputs": [],
   "source": [
    "# Here is some prewritten code to adapt for this task.\n",
    "nyt_df['author'].value_counts()[:20]\n"
   ]
  },
  {
   "cell_type": "markdown",
   "id": "9c243b2f",
   "metadata": {},
   "source": [
    "## Task 4: Finding the Titles with the Most Checkouts\n",
    "What book was checked out the most times? Below are two lines of code. Run each one to see what it does, then use the final cell to answer the question."
   ]
  },
  {
   "cell_type": "code",
   "execution_count": null,
   "id": "f9e5ff74",
   "metadata": {},
   "outputs": [],
   "source": [
    "# Run this to see what it does\n",
    "checkouts_df['Title'].value_counts()[:10]"
   ]
  },
  {
   "cell_type": "code",
   "execution_count": null,
   "id": "cbdf3cfa",
   "metadata": {},
   "outputs": [],
   "source": [
    "# Run this to see what it does\n",
    "checkouts_df.nlargest(10, 'Checkouts')"
   ]
  },
  {
   "cell_type": "markdown",
   "id": "b57348ea",
   "metadata": {},
   "source": [
    "(Write your answer here: Which book was checked out the most times?)\n",
    "\n"
   ]
  },
  {
   "cell_type": "markdown",
   "id": "2331dfae",
   "metadata": {},
   "source": [
    "## Task 5: Making a graph of the most common material types\n",
    "How many of the checkouts were of e-books? Let's make a pie chart to see! Below is some code we used to make a pie chart in lecture. Modify it so it answers our new question about this new dataset."
   ]
  },
  {
   "cell_type": "code",
   "execution_count": null,
   "id": "8ade9f7f",
   "metadata": {},
   "outputs": [],
   "source": [
    "# Here there is some prewritten code to adapt to a new task.\n",
    "nyt_df['author'].value_counts()[:10].plot(\n",
    "    kind='pie', figsize=(10, 10), title='NYT Best Sellers:\\nTen Authors Who Appear Most Frequently'\n",
    ")"
   ]
  },
  {
   "cell_type": "code",
   "execution_count": null,
   "id": "1283a93e",
   "metadata": {},
   "outputs": [],
   "source": [
    "#Run this line of code to better read the overlapping labels with the tiny pie slices\n",
    "checkouts_df['MaterialType'].value_counts()[:10]"
   ]
  },
  {
   "cell_type": "markdown",
   "id": "855fe71a",
   "metadata": {},
   "source": [
    "## Task 6: Reflection freewriting\n",
    "Write 1-2 sentences summarizing something you notice about these results. For example, is there something interesting about the relationship between the most frequently listed authors and the most checked-out titles? Or is there something interesting about how this dataset is organized differently from the NYT bestsellers dataset?"
   ]
  },
  {
   "cell_type": "markdown",
   "id": "d21e9be7",
   "metadata": {},
   "source": [
    "(Write some thoughts here)\n"
   ]
  },
  {
   "cell_type": "markdown",
   "id": "f379579a",
   "metadata": {},
   "source": [
    "## Task 7: Research Questions About the New York Times Best Seller List\n",
    "\n",
    "In lecture this week, we discussed some possible research questions one could pursue with the NYT Best Seller List dataset (sometimes in conjunction with other data). Which of these research questions interests you most, and why? Or perhaps you thought of another, more interesting one? Put your thoughts in the MarkDown cell below."
   ]
  },
  {
   "cell_type": "markdown",
   "id": "5012d603",
   "metadata": {},
   "source": [
    "(Put your answer here)"
   ]
  },
  {
   "cell_type": "markdown",
   "id": "d1cd9b15",
   "metadata": {},
   "source": [
    "\n",
    "## How to Submit\n",
    "1. Download this notebook to your local computer and save it as `W07-lab.ipynb`.\n",
    "\n",
    "2. Log into MarkUs using the link on Quercus.\n",
    "\n",
    "3. Submit your homework to `lab7: Lab 7`."
   ]
  }
 ],
 "metadata": {
  "kernelspec": {
   "display_name": "Python 3 (ipykernel)",
   "language": "python",
   "name": "python3"
  },
  "language_info": {
   "codemirror_mode": {
    "name": "ipython",
    "version": 3
   },
   "file_extension": ".py",
   "mimetype": "text/x-python",
   "name": "python",
   "nbconvert_exporter": "python",
   "pygments_lexer": "ipython3",
   "version": "3.7.3"
  },
  "vscode": {
   "interpreter": {
    "hash": "901b79e026e03396fd1ffa7133844e9ea80e258ce34c66e1aabb5896bcb18463"
   }
  }
 },
 "nbformat": 4,
 "nbformat_minor": 5
}
