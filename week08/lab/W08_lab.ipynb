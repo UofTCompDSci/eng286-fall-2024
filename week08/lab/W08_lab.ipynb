{
 "cells": [
  {
   "cell_type": "markdown",
   "id": "88cb1d25",
   "metadata": {
    "id": "7a7614d2"
   },
   "source": [
    "# Week 8 Lab\n",
    "\n",
    "\n",
    "## Instructions\n",
    "\n",
    "For each item, write your code in the first cell below the comment. To check that it works as intended, run the second cell. You can run the tests as many times as you like to get things working.\n",
    "\n",
    "\n",
    "## Due date\n",
    "Labs are due each week on Wednesday at 10pm "
   ]
  },
  {
   "cell_type": "markdown",
   "id": "62fff386",
   "metadata": {},
   "source": [
    "# Assignment\n",
    "## Task 1: Working with the Gender by Name data\n",
    "\n",
    "The code block below, taken from the Week 8 Lecture Supplement notebook, loads the Name by Gender dataset and reformats it in the form of a Python \"dictionary\" (a data type we have yet to encounter in the class) called `name2counts`.\n",
    "\n",
    "It then reformats this data further, applying one of three labels to every name that appears in the Name by Gender dataset:\n",
    "- If the name is given 90% or more of the time to babies of female sex in the Name by Gender dataset, it applies the `F` label\n",
    "- If the name is given 90% of more of the time to babies of male sex in the Name by Gender dataset, it applies the `M` label\n",
    "- If the name does not meet either threshold, it applies the `A` label\n",
    "\n",
    "The code stores this data in another Python dictionary called `name2genders`.\n",
    "\n",
    "Finally, it creates a new function called `get_gender_signal()`, which returns one of five possible values:\n",
    "- `F`, `M`, or `A`, as defined above\n",
    "- `U` (\"unknown\") for any name not in the Name by Gender dataset\n",
    "- `I` (\"initials\") for any name that is only one letter long, or whose second character is a `.`\n",
    "\n",
    "Run the block of code below."
   ]
  },
  {
   "cell_type": "code",
   "execution_count": 1,
   "id": "ad413db9",
   "metadata": {},
   "outputs": [],
   "source": [
    "import pandas as pd\n",
    "\n",
    "n2g_df = pd.read_csv('name_gender_dataset.csv')\n",
    "\n",
    "name2counts = {}  \n",
    "for i, row in n2g_df.iterrows(): \n",
    "    nme = row['Name'] \n",
    "    if nme not in name2counts: \n",
    "        name2counts[nme] = {'F':0, 'M': 0}  \n",
    "    name2counts[nme][row['Gender']] = row['Count'] \n",
    "\n",
    "\n",
    "name2genders = {}  \n",
    "for name, counts in name2counts.items():\n",
    "    \n",
    "    f_count = counts['F']  \n",
    "    m_count = counts['M']  \n",
    "    \n",
    "    if m_count == 0 or f_count/(m_count+f_count) >= 0.9: \n",
    "        name2genders[name] = 'F'\n",
    "    elif f_count == 0 or m_count/(f_count+m_count) >= 0.9: \n",
    "        name2genders[name] = 'M'\n",
    "    else:\n",
    "        name2genders[name] = 'A'  \n",
    "\n",
    "def get_gender_signal(first_name):\n",
    "    gender = 'U'\n",
    "    if first_name in name2genders:\n",
    "        gender = name2genders[first_name]\n",
    "    return gender"
   ]
  },
  {
   "cell_type": "markdown",
   "id": "5eac4472",
   "metadata": {},
   "source": [
    "The three code cells below contain starter code for exploring the two dictionaries and the function created in the step above. Try a variety of names in each of these cells, including your own. Try names that you believe have female, male, and ambiguous gender signals, and see if the outputs match your expectations."
   ]
  },
  {
   "cell_type": "code",
   "execution_count": 2,
   "id": "22729b83",
   "metadata": {},
   "outputs": [
    {
     "data": {
      "text/plain": [
       "{'F': 23024, 'M': 146802}"
      ]
     },
     "execution_count": 2,
     "metadata": {},
     "output_type": "execute_result"
    }
   ],
   "source": [
    "name2counts['Chris']"
   ]
  },
  {
   "cell_type": "code",
   "execution_count": null,
   "id": "374d47d0",
   "metadata": {},
   "outputs": [],
   "source": [
    "name2genders['Chris']"
   ]
  },
  {
   "cell_type": "code",
   "execution_count": null,
   "id": "8d98d7e3",
   "metadata": {},
   "outputs": [],
   "source": [
    "get_gender_signal('Chris')"
   ]
  },
  {
   "cell_type": "markdown",
   "id": "b0f9e218",
   "metadata": {},
   "source": [
    "## Task 2: Altering the \"Ambiguous\" threshold\n",
    "\n",
    "In the code block below, comments indicate the lines of code that set the `M` and `F` thresholds at 90% (0.9). Experiment with altering these thresholds, raising and lowering them. Each time you make a change to the code, re-run the code cell, and re-reun the sample code in the cells below."
   ]
  },
  {
   "cell_type": "code",
   "execution_count": null,
   "id": "6af24fc1",
   "metadata": {},
   "outputs": [],
   "source": [
    "import pandas as pd\n",
    "\n",
    "n2g_df = pd.read_csv('name_gender_dataset.csv')\n",
    "\n",
    "name2counts = {}  \n",
    "for i, row in n2g_df.iterrows(): \n",
    "    nme = row['Name'] \n",
    "    if nme not in name2counts: \n",
    "        name2counts[nme] = {'F':0, 'M': 0}  \n",
    "    name2counts[nme][row['Gender']] = row['Count'] \n",
    "\n",
    "\n",
    "name2genders = {}  \n",
    "for name, counts in name2counts.items():\n",
    "    \n",
    "    f_count = counts['F']  \n",
    "    m_count = counts['M']  \n",
    "    \n",
    "    if m_count == 0 or f_count/(m_count+f_count) >= 0.9: # This sets the threshold for F names\n",
    "        name2genders[name] = 'F'\n",
    "    elif f_count == 0 or m_count/(f_count+m_count) >= 0.9: # And this sets the threshold for M names\n",
    "        name2genders[name] = 'M'\n",
    "    else:\n",
    "        name2genders[name] = 'A'  \n",
    "\n",
    "def get_gender_signal(first_name):\n",
    "    gender = 'U'\n",
    "    if first_name in name2genders:\n",
    "        gender = name2genders[first_name]\n",
    "    return gender"
   ]
  },
  {
   "cell_type": "code",
   "execution_count": null,
   "id": "71be5d95",
   "metadata": {},
   "outputs": [],
   "source": [
    "name2counts['Chris']"
   ]
  },
  {
   "cell_type": "code",
   "execution_count": null,
   "id": "b0d7d332",
   "metadata": {},
   "outputs": [],
   "source": [
    "name2genders['Chris']"
   ]
  },
  {
   "cell_type": "code",
   "execution_count": null,
   "id": "8dde0d68",
   "metadata": {},
   "outputs": [],
   "source": [
    "get_gender_signal('Chris')"
   ]
  },
  {
   "cell_type": "markdown",
   "id": "dce73927",
   "metadata": {},
   "source": [
    "## Task 3: Reflecting on \"gender signals\"\n",
    "\n",
    "In the MarkDown cell below, reflect on your experiences with the code above.\n",
    "- What were the most surprising results you got while completing Tasks 1 and 2?\n",
    "- How accurately do you believe the original code, based on the Name by Gender dataset and applying 90% thresholds, captures a first name's \"gender signal\"?\n",
    "- Do you believe the 90% threshold value can be improved? Why or why not? Where do you believe it should be set?\n",
    "- Do you believe the Name by Gender dataset is a good starting point for our approach to determining the gender signals of first names? Why or why not?"
   ]
  },
  {
   "cell_type": "markdown",
   "id": "91d10870",
   "metadata": {},
   "source": [
    "(Write your response here)\n"
   ]
  },
  {
   "cell_type": "markdown",
   "id": "b49ee2f2",
   "metadata": {},
   "source": [
    "## Task 4: Reading Response\n",
    "\n",
    "In \"What Gets Counted Counts,\" D'Ignazio and Klein outline the ethical difficulties of working with data like the Name by Gender dataset, which treats gender as a binary. Although this classification fails to reflect the broad spectrum of gender identities, it may still, they argue, be useful in investigating the history of oppression. \n",
    "\n",
    "Do you believe the benefits outweigh the drawbacks in this case? In our investigation of gender and literary history, should we be working with data like that in the the Name by Gender dataset? Why or why not?\n",
    "\n",
    "Present your thoughts in the MarkDown cell below."
   ]
  },
  {
   "cell_type": "markdown",
   "id": "28204f90",
   "metadata": {},
   "source": [
    "(Write your response here)"
   ]
  },
  {
   "cell_type": "markdown",
   "id": "0373de7f",
   "metadata": {},
   "source": [
    "\n",
    "## How to Submit\n",
    "1. Download this notebook to your local computer and save it as `W08-lab.ipynb`.\n",
    "\n",
    "\n",
    "2. Log into MarkUs using the link on Quercus.\n",
    "\n",
    "3. Submit your homework to `lab8: Lab 8`.\n"
   ]
  }
 ],
 "metadata": {
  "colab": {
   "name": "Week 8.ipynb",
   "provenance": []
  },
  "kernelspec": {
   "display_name": "Python 3 (ipykernel)",
   "language": "python",
   "name": "python3"
  },
  "language_info": {
   "codemirror_mode": {
    "name": "ipython",
    "version": 3
   },
   "file_extension": ".py",
   "mimetype": "text/x-python",
   "name": "python",
   "nbconvert_exporter": "python",
   "pygments_lexer": "ipython3",
   "version": "3.9.7"
  }
 },
 "nbformat": 4,
 "nbformat_minor": 5
}
