{
 "cells": [
  {
   "cell_type": "markdown",
   "metadata": {},
   "source": [
    "# Week 10 Lab\n",
    "\n",
    "\n",
    "## Instructions\n",
    "\n",
    "Follow the instructions given in each cell.\n",
    "\n",
    "## Due date\n",
    "Labs are due each week on Wednesday at 10pm (**Nov 23, 10pm**)"
   ]
  },
  {
   "cell_type": "markdown",
   "metadata": {},
   "source": [
    "# Assignment\n",
    "\n",
    "Let's set this lab up a little bit, shall we?\n",
    "\n",
    "Using techniques  familiar to you from previous weeks, we added a `polarity` column to the CSAL metadata file (the one with the `gender_signal` information added). This polarity column records the (lexicon-based) TextBlob polarity score for the *entire text* in that row.\n",
    "\n",
    "In the below cell, we\n",
    "- load the CSAL metadata file (`csal_meta_gender_signal_polarity.csv`, which we've placed for you in the same folder as this notebook) with the added `polarity` column\n",
    "- group it by `Author`\n",
    "- sort all authors by their mean polarity score, from lowest to highest"
   ]
  },
  {
   "cell_type": "code",
   "execution_count": null,
   "metadata": {},
   "outputs": [],
   "source": [
    "# Run this cell\n",
    "\n",
    "import pandas as pd\n",
    "\n",
    "csal_meta_gs_polarity_df = pd.read_csv('csal_meta_gender_signal_polarity.csv')\n",
    "\n",
    "csal_meta_gs_polarity_df.sort_values(by='polarity', ascending=True)\n",
    "\n",
    "mean_polarity_by_author_df = csal_meta_gs_polarity_df.groupby('Author')[['polarity']].mean().sort_values(by='polarity', ascending=True)\n",
    "mean_polarity_by_author_df"
   ]
  },
  {
   "cell_type": "markdown",
   "metadata": {},
   "source": [
    "As you can see, Virginia Woolf's huband [Leonard Woolf](https://en.wikipedia.org/wiki/Leonard_Woolf) is (by some margin) the author identified as the most consistently negative, and [Henry Louis Vivian Derozio](https://en.wikipedia.org/wiki/Henry_Louis_Vivian_Derozio) is the author identified as the most consistently positive. (Click on the links if you'd like to know a bit more about each of them...)\n",
    "\n",
    "For our lab today, we're going to shift from the very \"distant\" scale of calculating sentiment scores for entire texts to look quite closely at some passages from those two writers, Derozio and Woolf."
   ]
  },
  {
   "cell_type": "markdown",
   "metadata": {},
   "source": [
    "## Task 1: Load and Blob the Texts\n",
    "\n",
    "In the same folder as the one in which this notebook lives, there are UTF-8-encoded text files named `derozio.txt` and `woolf.txt`. \n",
    "\n",
    "- Load each, into variables named `derozio` and `woolf` respectively\n",
    "- \"Blob\" each with TextBlob, storing the resulting TextBlob objects in variables called `derozio_blob` and `woolf_blob` respectively"
   ]
  },
  {
   "cell_type": "code",
   "execution_count": null,
   "metadata": {},
   "outputs": [],
   "source": [
    "# Write your code here\n"
   ]
  },
  {
   "cell_type": "markdown",
   "metadata": {},
   "source": [
    "## Task 2: Read and Rank the Texts\n",
    "\n",
    "If you've completed the above steps successfully, the below code should print out the two passages we're discussing in this lab."
   ]
  },
  {
   "cell_type": "code",
   "execution_count": null,
   "metadata": {
    "scrolled": true
   },
   "outputs": [],
   "source": [
    "# Run this code\n",
    "\n",
    "print('\"ITALY\" by HENRY LOUIS VIVIAN DEROZIO (1827)\\n ')\n",
    "print(derozio_blob)\n",
    "print(\"\\n\\n\")\n",
    "print(\"From THE VILLAGE IN THE JUNGLE by LEONARD WOOLF (1913)\\n\")\n",
    "print(woolf_blob)"
   ]
  },
  {
   "cell_type": "markdown",
   "metadata": {},
   "source": [
    "In the Markdown cell below, give each passage a score between -1.0 (extremely negative) and 1.0 (extremely positive). How did you arrive at this score? What particular words or phrases influenced your score?"
   ]
  },
  {
   "cell_type": "markdown",
   "metadata": {},
   "source": [
    "**(Delete this text and write your answer here.)**"
   ]
  },
  {
   "cell_type": "markdown",
   "metadata": {},
   "source": [
    "## Task 3: Make Three Parallel Sentence-Level Lists with Sentiment Information\n",
    "\n",
    "Using the techniques learned in lecture, make three parallel lists for each text:\n",
    "- a list of sentences (each a string, extracted using the `blob.sentences` method, then using the `\" \".join(blob.words)` technique\n",
    "- a list of polarity values (floating point numbers) for each sentence\n",
    "- a list of subjectivity values (floating point numbers) for each sentence\n",
    "\n",
    "Call these variables `woolf_sentences`, `woolf_polarities`, `woolf_subjectivities`, `derozio_sentences`, `derozio_polarities`, and `derozio_subjectivities`."
   ]
  },
  {
   "cell_type": "code",
   "execution_count": null,
   "metadata": {},
   "outputs": [],
   "source": [
    "# Write your code here\n"
   ]
  },
  {
   "cell_type": "markdown",
   "metadata": {},
   "source": [
    "## Task 4: Create Two DataFrames From Your Parallel Lists\n",
    "\n",
    "Load Pandas as `pd` and create two DataFrames each with three columns: `sentence`, `polarity`, and `subjectivity`. Load the corresponding data for Derozio into a DataFrame named `derozio_df` and the corresponding data for Woolf into a DataFrame named `woolf_df`."
   ]
  },
  {
   "cell_type": "code",
   "execution_count": null,
   "metadata": {
    "scrolled": true
   },
   "outputs": [],
   "source": [
    "# Write your code here\n"
   ]
  },
  {
   "cell_type": "markdown",
   "metadata": {},
   "source": [
    "## Task 5: Interpret and Reflect on the Results\n",
    "\n",
    "Run the below cells in order to display the results of your analysis. (They will all work properly if you've completed the work to this point as instructed)."
   ]
  },
  {
   "cell_type": "code",
   "execution_count": null,
   "metadata": {},
   "outputs": [],
   "source": [
    "# Run this code: TextBlob's analysis of the entire Woolf passage\n",
    "\n",
    "woolf_blob.sentiment"
   ]
  },
  {
   "cell_type": "code",
   "execution_count": null,
   "metadata": {},
   "outputs": [],
   "source": [
    "# Run this code: TextBlob's sentence-by-sentence analysis of the Woolf passage\n",
    "\n",
    "pd.set_option('display.max_colwidth', 0)\n",
    "woolf_df"
   ]
  },
  {
   "cell_type": "code",
   "execution_count": null,
   "metadata": {},
   "outputs": [],
   "source": [
    "# Run this code: TextBlob's analysis of the entire Derozio poem\n",
    "\n",
    "derozio_blob.sentiment"
   ]
  },
  {
   "cell_type": "code",
   "execution_count": null,
   "metadata": {},
   "outputs": [],
   "source": [
    "# Run this code: TextBlob's \"sentence-by-sentence\" analysis of the Derozio poem\n",
    "\n",
    "derozio_df"
   ]
  },
  {
   "cell_type": "markdown",
   "metadata": {},
   "source": [
    "In the MarkDown cell below, reflect on the results you've obtained. Do the overall TextBlob polarity values for the Derozio and Woolf passages align with your reading of the passages? Do the polarity values of individual \"sentences\" seem any more accurate? Pick one sentence from Woolf and one from Derozio and comment on the polarity value: Is the score accurate? Why do you think TextBlob assigned that score to that sentence? Does this give you any ideas as to how TextBlob's lexicon-based approach could be improved?"
   ]
  },
  {
   "cell_type": "markdown",
   "metadata": {},
   "source": [
    "**(Delete this text and write your answer here.)**"
   ]
  },
  {
   "cell_type": "markdown",
   "metadata": {},
   "source": [
    "## How to Submit\n",
    "1. Download this notebook to your local computer and save it as `W10-lab.ipynb`.\n",
    "\n",
    "2. Log into MarkUs using the link on Quercus.\n",
    "\n",
    "3. Submit your homework to `lab10: Lab 10`."
   ]
  }
 ],
 "metadata": {
  "kernelspec": {
   "display_name": "Python 3",
   "language": "python",
   "name": "python3"
  },
  "language_info": {
   "codemirror_mode": {
    "name": "ipython",
    "version": 3
   },
   "file_extension": ".py",
   "mimetype": "text/x-python",
   "name": "python",
   "nbconvert_exporter": "python",
   "pygments_lexer": "ipython3",
   "version": "3.7.4"
  },
  "vscode": {
   "interpreter": {
    "hash": "901b79e026e03396fd1ffa7133844e9ea80e258ce34c66e1aabb5896bcb18463"
   }
  }
 },
 "nbformat": 4,
 "nbformat_minor": 2
}
