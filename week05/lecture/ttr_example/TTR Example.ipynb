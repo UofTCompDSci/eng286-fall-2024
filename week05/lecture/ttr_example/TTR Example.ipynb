{
 "cells": [
  {
   "cell_type": "code",
   "execution_count": null,
   "id": "9a4fcd0f",
   "metadata": {},
   "outputs": [],
   "source": [
    "#open the text of the lyrics to the Fiona Apple albums Tidal and Extraordinary Machine \n",
    "#in variables \"tidal_words\" and \"em_words\" & split them according to the words \n",
    "\n",
    "# The code below shows the operations chained together. You can also separate them.  For example:\n",
    "# tidal_text = open(\"tidal.txt\", encoding='utf-8').read()\n",
    "# tidal_words = tidal_text.split()\n",
    "\n",
    "\n",
    "tidal_words = open(\"tidal.txt\", encoding='utf-8').read().split()\n",
    "em_words = open(\"extraordinary_machine.txt\", encoding='utf-8').read().split()\n",
    "\n",
    "# The reason to print the first twenty words is to make sure that our previous statements did what we expect\n",
    "print(tidal_words[0:20])\n",
    "print(em_words[0:20])\n"
   ]
  },
  {
   "cell_type": "code",
   "execution_count": null,
   "id": "0de5c958",
   "metadata": {
    "slideshow": {
     "slide_type": "subslide"
    }
   },
   "outputs": [],
   "source": [
    "# write a \"for\" loop to change all the words in each album to upper case, store those in a \n",
    "# variable \"tidal_words_clean\" and \"em_words_clean\"\n",
    "\n",
    "tidal_words_clean = []\n",
    "\n",
    "for word in tidal_words:\n",
    "    word = word.upper()\n",
    "    tidal_words_clean.append(word)\n",
    "    \n",
    "em_words_clean = []\n",
    "\n",
    "for word in em_words:\n",
    "    word = word.upper()\n",
    "    em_words_clean.append(word)\n",
    "\n",
    "\n",
    "print(tidal_words_clean [0:20])\n",
    "print(em_words_clean [0:20])\n"
   ]
  },
  {
   "cell_type": "code",
   "execution_count": null,
   "id": "a98a38fd",
   "metadata": {},
   "outputs": [],
   "source": [
    "#create a variable out of the new \"unique\" cleaned up words \"tidal_unique_words\" and \n",
    "# \"em_unique_words\" using a for loop\n",
    "\n",
    "\n",
    "\n",
    "tidal_unique_words = []\n",
    "\n",
    "for word in tidal_words_clean:\n",
    "    if word not in tidal_unique_words:\n",
    "        tidal_unique_words.append(word)\n",
    "        \n",
    "em_unique_words = []\n",
    "\n",
    "for word in em_words_clean:\n",
    "    if word not in em_unique_words:\n",
    "        em_unique_words.append(word)\n",
    "\n",
    "print(tidal_unique_words[0:20])\n",
    "print(em_unique_words[0:20])\n",
    "\n"
   ]
  },
  {
   "cell_type": "code",
   "execution_count": null,
   "id": "9607a5b2",
   "metadata": {},
   "outputs": [],
   "source": [
    "#count the total words, count the unique words, create a new variable called \"tidal_ttr\" \n",
    "# and \"em_ttr\"\n",
    "\n",
    "tidal_ttr = (len(tidal_unique_words)/len(tidal_words_clean))*100\n",
    "\n",
    "print(tidal_ttr)\n",
    "\n",
    "em_ttr = (len(em_unique_words)/len(em_words_clean))*100\n",
    "             \n",
    "print(em_ttr)\n",
    "\n",
    "\n",
    "\n",
    "if tidal_ttr > em_ttr: \n",
    "    print (\"I don't care what the TTRs say. People have no taste and they are wrong.\")\n",
    "elif em_ttr > tidal_ttr: \n",
    "     print (\"Yes, Extraordinary Machine is more lyrically diverse, people are wrong.\")"
   ]
  }
 ],
 "metadata": {
  "kernelspec": {
   "display_name": "Python 3 (ipykernel)",
   "language": "python",
   "name": "python3"
  },
  "language_info": {
   "codemirror_mode": {
    "name": "ipython",
    "version": 3
   },
   "file_extension": ".py",
   "mimetype": "text/x-python",
   "name": "python",
   "nbconvert_exporter": "python",
   "pygments_lexer": "ipython3",
   "version": "3.11.6"
  }
 },
 "nbformat": 4,
 "nbformat_minor": 5
}
