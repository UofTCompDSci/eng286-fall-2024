{
 "cells": [
  {
   "cell_type": "markdown",
   "id": "5133b3d9",
   "metadata": {},
   "source": [
    "# Week 9 Homework\n",
    "\n",
    "## Instructions\n",
    "For each task, write your code in the cell below the comment. (Unlike in labs, there are no per-task tests provided, though you can write your own small tests as you go.) When all of the code is complete, upload it to Markus. \n",
    "\n",
    "## Due date\n",
    "Homeworks are due on the following Monday of each week at 10pm."
   ]
  },
  {
   "cell_type": "markdown",
   "id": "f4c32d96",
   "metadata": {},
   "source": [
    "# Assignment\n",
    "This week we're revisiting the TTRs we calculated for the U.S. presidential addresses in week 5, but using Pandas to work with the data. ✼"
   ]
  },
  {
   "cell_type": "markdown",
   "id": "26bfa2a1",
   "metadata": {},
   "source": [
    "## Task 1: Modify the lecture code to generate TTR CSVs\n",
    "\n",
    "Copy and paste the code from the Week 9 lecture notebook that generates the TTR CSV files. You will need to modify the line that instructs Python where to look for the U.S. presidential addresses. We have placed these in a folder named `speeches`, which is located in the same folder as this notebook.\n",
    "\n",
    "Be sure to also copy in the part of the code that imports the `re` and `Path` libraries, which are needed for this task.\n",
    "\n",
    "After running the code, you should see CSV files named `ttr-overall.csv` and `ttr-standardized.csv` in the same folder as this notebook.\n",
    "\n",
    "**Note**: Do not use the code in the Week 5 lecture notebook — be sure to use the code from the **Week 9** lecture notebook."
   ]
  },
  {
   "cell_type": "code",
   "execution_count": null,
   "id": "9006c0c1",
   "metadata": {},
   "outputs": [],
   "source": [
    "# Write your code here\n"
   ]
  },
  {
   "cell_type": "markdown",
   "id": "1865d941",
   "metadata": {},
   "source": [
    "## Task 2: Load the CSV files generated in the previous step as Pandas DataFrames\n",
    "\n",
    "First, import `pandas` as `pd`, then load the `ttr-overall.csv` file generated in the previous step into a variable named `ttr_overall_df`. You may wish to check your work by calling the newly-created variable."
   ]
  },
  {
   "cell_type": "code",
   "execution_count": null,
   "id": "1cb68b79",
   "metadata": {},
   "outputs": [],
   "source": [
    "# Write your code here\n"
   ]
  },
  {
   "cell_type": "markdown",
   "id": "34817b03",
   "metadata": {},
   "source": [
    "Now, load the `ttr-standardized.csv` file generated in the previous step into a variable named `ttr_standardized_df`. You may wish to check your work by calling the newly-created variable."
   ]
  },
  {
   "cell_type": "code",
   "execution_count": null,
   "id": "7c8bd853",
   "metadata": {},
   "outputs": [],
   "source": [
    "# Write your code here\n"
   ]
  },
  {
   "cell_type": "markdown",
   "id": "40650937",
   "metadata": {},
   "source": [
    "## Task 3: Merge the two TTR DataFrames\n",
    "\n",
    "Merge the two DataFrames you've just created, merging \"on\" the `Text` column. Store the merged DataFrame in a variable named `ttr_merged_df`. You may wish to check your work by calling the newly-created variable."
   ]
  },
  {
   "cell_type": "code",
   "execution_count": null,
   "id": "8bd1cda8",
   "metadata": {},
   "outputs": [],
   "source": [
    "# Write your code here\n"
   ]
  },
  {
   "cell_type": "markdown",
   "id": "8c5d834d",
   "metadata": {},
   "source": [
    "## Task 4: Plot the length of U.S. Presidential Addresses by year\n",
    "\n",
    "Generate a line plot that plots the **total length (in tokens)** of all the U.S. Presidential Addresses in the `ttr_merged_df` DataFrame. \n",
    "\n",
    "If you've followed the previous steps correctly, these will already be organized in chronological order. By default, the y axis will be the length of the address in tokens, and the x axis will be the number of texts (0-57); leave both that way. \n",
    "\n",
    "For the purposes of autograding, store the plot in a variable named `address_length_plot`, set the `figsize` parameter to `(15,5)` and give the plot the title `Total length of U.S. Presidential Addresses, 1789 to 2021`."
   ]
  },
  {
   "cell_type": "code",
   "execution_count": null,
   "id": "dc10d854",
   "metadata": {},
   "outputs": [],
   "source": [
    "# Write your code here\n"
   ]
  },
  {
   "cell_type": "markdown",
   "id": "a03def85",
   "metadata": {},
   "source": [
    "## Task 5: Calculate the average length of U.S. Presidential Addresses\n",
    "\n",
    "Above, you generated a plot of the total length of the U.S. Presidential Addresses in our dataset. \n",
    "\n",
    "Now, use Pandas's `.mean()` function to calculate the **average length** of these U.S. Presidential Addresses (in tokens). Store the result in a variable named `address_mean_length`."
   ]
  },
  {
   "cell_type": "code",
   "execution_count": null,
   "id": "38c1dffe",
   "metadata": {},
   "outputs": [],
   "source": [
    "# Write your code here\n"
   ]
  },
  {
   "cell_type": "markdown",
   "id": "49279f0f",
   "metadata": {},
   "source": [
    "## Task 6: Sort the `ttr_merged_df` DataFrame by Standardized Types\n",
    "\n",
    "Sort the `ttr_merged_df` DataFrame by the number of standardized types, **from highest to lowest**. Store the results in a variable named `ttr_sorted_df`."
   ]
  },
  {
   "cell_type": "code",
   "execution_count": null,
   "id": "d751bedd",
   "metadata": {},
   "outputs": [],
   "source": [
    "# Type your code here\n"
   ]
  },
  {
   "cell_type": "markdown",
   "id": "d35d7f10",
   "metadata": {},
   "source": [
    "## Marking Rubric\n",
    "This assignment will be autograded in Markus, and your mark fully determined by the \"correctness\" of the code as measured by the autograder. For example, if it says that 60% of the tests passed successfully, your mark on the assignment will be 60%. You will be able to see your mark right away and can resubmit the assignment as many times as you like to improve your mark.\n",
    "\n",
    "## How to Submit\n",
    "1. Download your homework to your local computer and save it as `W09_hw.ipynb`.\n",
    "2. Log into MarkUs using the link on Quercus.\n",
    "3. Submit your homework to `hw9: Homework 9`."
   ]
  }
 ],
 "metadata": {
  "kernelspec": {
   "display_name": "Python 3",
   "language": "python",
   "name": "python3"
  },
  "language_info": {
   "codemirror_mode": {
    "name": "ipython",
    "version": 3
   },
   "file_extension": ".py",
   "mimetype": "text/x-python",
   "name": "python",
   "nbconvert_exporter": "python",
   "pygments_lexer": "ipython3",
   "version": "3.7.4"
  },
  "vscode": {
   "interpreter": {
    "hash": "901b79e026e03396fd1ffa7133844e9ea80e258ce34c66e1aabb5896bcb18463"
   }
  }
 },
 "nbformat": 4,
 "nbformat_minor": 5
}
