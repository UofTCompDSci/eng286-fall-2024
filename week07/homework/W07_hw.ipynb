{
 "cells": [
  {
   "cell_type": "markdown",
   "id": "0b3f796a",
   "metadata": {},
   "source": [
    "# Week 7 Homework\n",
    "\n",
    "## Instructions\n",
    "For each task, write your code in the cell below the comment. (Unlike in labs, there are no per-task tests provided, though you can write your own small tests as you go.) When all of the code is complete, upload it to Markus. \n",
    "\n",
    "\n",
    "## Due date\n",
    "Homeworks are due each week on Monday at 10pm."
   ]
  },
  {
   "cell_type": "markdown",
   "id": "3e8d54ed",
   "metadata": {},
   "source": [
    "## Assignment"
   ]
  },
  {
   "cell_type": "markdown",
   "id": "bc80c7b6",
   "metadata": {},
   "source": [
    "### Task 1: Loading a TSV as a Pandas DataFrame\n",
    "Import `pandas` as `pd` and read in `nyt_full.tsv` as a DataFrame called `nyt_df`."
   ]
  },
  {
   "cell_type": "code",
   "execution_count": null,
   "id": "f9952d5f",
   "metadata": {},
   "outputs": [],
   "source": [
    "# Write your code here\n"
   ]
  },
  {
   "cell_type": "markdown",
   "id": "49d69f78",
   "metadata": {},
   "source": [
    "Create a variable called `summary` and use it to store a new DataFrame containing ONLY the year, title, and author columns of the dataset."
   ]
  },
  {
   "cell_type": "code",
   "execution_count": null,
   "id": "e0ae0fa7",
   "metadata": {},
   "outputs": [],
   "source": [
    "# Write your code here\n"
   ]
  },
  {
   "cell_type": "markdown",
   "id": "1614f9b8",
   "metadata": {},
   "source": [
    "### Task 2: Making a Bar Chart\n",
    "Which titles spent the most weeks on the list? Make a bar chart of the top ten titles by value count, and store it in a variable called `top_titles_chart`. For the purposes of autograding, don't give it a title or caption."
   ]
  },
  {
   "cell_type": "code",
   "execution_count": null,
   "id": "fb046a35",
   "metadata": {
    "scrolled": false
   },
   "outputs": [],
   "source": [
    "# Write your code here\n"
   ]
  },
  {
   "cell_type": "markdown",
   "id": "9e4265cb",
   "metadata": {},
   "source": [
    "### Task 3: Filtering Data\n",
    "Which of Stephen King's bestsellers spent the most weeks on the list? Create a variable called `king_nyt` that contains only the rows of `nyt_df` with books by Stephen King."
   ]
  },
  {
   "cell_type": "code",
   "execution_count": null,
   "id": "67314d62",
   "metadata": {},
   "outputs": [],
   "source": [
    "# Write your code here\n"
   ]
  },
  {
   "cell_type": "markdown",
   "id": "f743b76c",
   "metadata": {},
   "source": [
    "Now, create a variable called `top_king_titles` with the value counts of the books in the `king_nyt` DataFrame."
   ]
  },
  {
   "cell_type": "code",
   "execution_count": null,
   "id": "8e2f1c0c",
   "metadata": {},
   "outputs": [],
   "source": [
    "# Write your code here\n"
   ]
  },
  {
   "cell_type": "markdown",
   "id": "da09e127",
   "metadata": {},
   "source": [
    "## Marking Rubric\n",
    "This assignment will be autograded in Markus, and your mark fully determined by the \"correctness\" of the code as measured by the autograder. For example, if it says that 60% of the tests passed successfully, your mark on the assignment will be 60%. You will be able to see your mark right away and can resubmit the assignment as many times as you like to improve your mark.\n",
    "\n",
    "## How to Submit\n",
    "1. Download your homework to your local computer and save it as `W07_hw.ipynb`.\n",
    "2. Log into MarkUs using the link on Quercus.\n",
    "3. Submit your homework to `hw7: Homework 7`."
   ]
  }
 ],
 "metadata": {
  "kernelspec": {
   "display_name": "Python 3 (ipykernel)",
   "language": "python",
   "name": "python3"
  },
  "language_info": {
   "codemirror_mode": {
    "name": "ipython",
    "version": 3
   },
   "file_extension": ".py",
   "mimetype": "text/x-python",
   "name": "python",
   "nbconvert_exporter": "python",
   "pygments_lexer": "ipython3",
   "version": "3.10.8"
  },
  "vscode": {
   "interpreter": {
    "hash": "901b79e026e03396fd1ffa7133844e9ea80e258ce34c66e1aabb5896bcb18463"
   }
  }
 },
 "nbformat": 4,
 "nbformat_minor": 5
}
