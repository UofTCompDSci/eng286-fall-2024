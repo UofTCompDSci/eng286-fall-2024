{
 "cells": [
  {
   "cell_type": "markdown",
   "metadata": {},
   "source": [
    "# Pandas Quick Reference Guide"
   ]
  },
  {
   "cell_type": "markdown",
   "metadata": {},
   "source": [
    "### Import the Pandas library\n",
    "\n",
    "The typical way to import the Pandas library is the following:"
   ]
  },
  {
   "cell_type": "code",
   "execution_count": 3,
   "metadata": {},
   "outputs": [],
   "source": [
    "import pandas as pd"
   ]
  },
  {
   "cell_type": "markdown",
   "metadata": {},
   "source": [
    "This allows you to access Pandas functions by using `pd.<function name>`."
   ]
  },
  {
   "cell_type": "markdown",
   "metadata": {},
   "source": [
    "### Read a dataset from a CSV (.csv) file\n",
    "\n",
    "Use the `read_csv` function to read in a dataset from a CSV file.\n",
    "This function returns a Pandas `DataFrame`. ([Further Reading](https://pandas.pydata.org/docs/user_guide/io.html#csv-text-files))\n",
    "\n",
    "In this reference, we will be using `degrees.csv` as our example dataset. [^dataset]\n",
    "\n",
    "Examples:"
   ]
  },
  {
   "cell_type": "code",
   "execution_count": 4,
   "metadata": {},
   "outputs": [],
   "source": [
    "# When the data file is in the same folder as your notebook, write the file name.\n",
    "data = pd.read_csv('degrees.csv')\n",
    "\n",
    "# When the data file is in a different folder as your notebook, you need\n",
    "# to write the path to the file.\n",
    "# other_data = pd.read_csv('data/degrees.csv')"
   ]
  },
  {
   "cell_type": "markdown",
   "metadata": {},
   "source": [
    "### Get an overview of a `DataFrame`\n",
    "The datasets we will be working with are often quite large. The `pandas` library has a few methods that help us take a quick glance at our data or retrieve information about it."
   ]
  },
  {
   "cell_type": "markdown",
   "metadata": {},
   "source": [
    "#### `.info` and `.head`\n",
    "Use `.head()` to view the first few rows of the table.\n",
    "On the other hand, use `.info` to print out more detailed information about the `DataFrame`. ([Further Reading](https://pandas.pydata.org/docs/user_guide/basics.html#head-and-tail))\n",
    "\n",
    "Example:"
   ]
  },
  {
   "cell_type": "code",
   "execution_count": 33,
   "metadata": {},
   "outputs": [
    {
     "data": {
      "text/html": [
       "<div>\n",
       "<style scoped>\n",
       "    .dataframe tbody tr th:only-of-type {\n",
       "        vertical-align: middle;\n",
       "    }\n",
       "\n",
       "    .dataframe tbody tr th {\n",
       "        vertical-align: top;\n",
       "    }\n",
       "\n",
       "    .dataframe thead th {\n",
       "        text-align: right;\n",
       "    }\n",
       "</style>\n",
       "<table border=\"1\" class=\"dataframe\">\n",
       "  <thead>\n",
       "    <tr style=\"text-align: right;\">\n",
       "      <th></th>\n",
       "      <th>Name</th>\n",
       "      <th>Degree</th>\n",
       "      <th>Absentia</th>\n",
       "      <th>Spring</th>\n",
       "      <th>Fall</th>\n",
       "      <th>Total</th>\n",
       "    </tr>\n",
       "  </thead>\n",
       "  <tbody>\n",
       "    <tr>\n",
       "      <th>0</th>\n",
       "      <td>Honours Bachelor of Arts</td>\n",
       "      <td>HBA</td>\n",
       "      <td>NaN</td>\n",
       "      <td>1599.0</td>\n",
       "      <td>345.0</td>\n",
       "      <td>1944.0</td>\n",
       "    </tr>\n",
       "    <tr>\n",
       "      <th>1</th>\n",
       "      <td>Bachelor of Arts - 4 Yr.</td>\n",
       "      <td>BA-4</td>\n",
       "      <td>NaN</td>\n",
       "      <td>NaN</td>\n",
       "      <td>NaN</td>\n",
       "      <td>NaN</td>\n",
       "    </tr>\n",
       "    <tr>\n",
       "      <th>2</th>\n",
       "      <td>Bachelor of Arts</td>\n",
       "      <td>BA</td>\n",
       "      <td>NaN</td>\n",
       "      <td>31.0</td>\n",
       "      <td>12.0</td>\n",
       "      <td>43.0</td>\n",
       "    </tr>\n",
       "    <tr>\n",
       "      <th>3</th>\n",
       "      <td>Honours Bachelor of Science</td>\n",
       "      <td>HBSC</td>\n",
       "      <td>3.0</td>\n",
       "      <td>2737.0</td>\n",
       "      <td>447.0</td>\n",
       "      <td>3187.0</td>\n",
       "    </tr>\n",
       "    <tr>\n",
       "      <th>4</th>\n",
       "      <td>Bachelor of Science</td>\n",
       "      <td>BSC</td>\n",
       "      <td>NaN</td>\n",
       "      <td>40.0</td>\n",
       "      <td>23.0</td>\n",
       "      <td>63.0</td>\n",
       "    </tr>\n",
       "  </tbody>\n",
       "</table>\n",
       "</div>"
      ],
      "text/plain": [
       "                          Name Degree  Absentia  Spring   Fall   Total\n",
       "0     Honours Bachelor of Arts    HBA       NaN  1599.0  345.0  1944.0\n",
       "1     Bachelor of Arts - 4 Yr.   BA-4       NaN     NaN    NaN     NaN\n",
       "2             Bachelor of Arts     BA       NaN    31.0   12.0    43.0\n",
       "3  Honours Bachelor of Science   HBSC       3.0  2737.0  447.0  3187.0\n",
       "4          Bachelor of Science    BSC       NaN    40.0   23.0    63.0"
      ]
     },
     "execution_count": 33,
     "metadata": {},
     "output_type": "execute_result"
    }
   ],
   "source": [
    "data.head()"
   ]
  },
  {
   "cell_type": "code",
   "execution_count": 34,
   "metadata": {},
   "outputs": [
    {
     "name": "stdout",
     "output_type": "stream",
     "text": [
      "<class 'pandas.core.frame.DataFrame'>\n",
      "RangeIndex: 6 entries, 0 to 5\n",
      "Data columns (total 6 columns):\n",
      " #   Column    Non-Null Count  Dtype  \n",
      "---  ------    --------------  -----  \n",
      " 0   Name      6 non-null      object \n",
      " 1   Degree    6 non-null      object \n",
      " 2   Absentia  1 non-null      float64\n",
      " 3   Spring    5 non-null      float64\n",
      " 4   Fall      5 non-null      float64\n",
      " 5   Total     5 non-null      float64\n",
      "dtypes: float64(4), object(2)\n",
      "memory usage: 416.0+ bytes\n"
     ]
    }
   ],
   "source": [
    "data.info()"
   ]
  },
  {
   "cell_type": "markdown",
   "metadata": {},
   "source": [
    "#### `.columns`\n",
    "Use `.columns` to return a set of the column labels in the `DataFrame`. ([Further Reading](https://pandas.pydata.org/docs/user_guide/10min.html#viewing-data))\n",
    "\n",
    "Example:"
   ]
  },
  {
   "cell_type": "code",
   "execution_count": 35,
   "metadata": {},
   "outputs": [
    {
     "name": "stdout",
     "output_type": "stream",
     "text": [
      "Index(['Name', 'Degree', 'Absentia', 'Spring', 'Fall', 'Total'], dtype='object')\n",
      "['Name', 'Degree', 'Absentia', 'Spring', 'Fall', 'Total']\n"
     ]
    }
   ],
   "source": [
    "print(data.columns)\n",
    "\n",
    "# You can use list() to make the output cleaner\n",
    "print(list(data.columns))"
   ]
  },
  {
   "cell_type": "markdown",
   "metadata": {},
   "source": [
    "#### `.dtypes`\n",
    "Use the `.dtypes` attribute to find the datatypes of each column. It returns a `Series`, where the index is the original column name. ([Further Reading](https://pandas.pydata.org/docs/user_guide/basics.html#dtypes))\n",
    "\n",
    "Example:"
   ]
  },
  {
   "cell_type": "code",
   "execution_count": 36,
   "metadata": {},
   "outputs": [
    {
     "data": {
      "text/plain": [
       "Name         object\n",
       "Degree       object\n",
       "Absentia    float64\n",
       "Spring      float64\n",
       "Fall        float64\n",
       "Total       float64\n",
       "dtype: object"
      ]
     },
     "execution_count": 36,
     "metadata": {},
     "output_type": "execute_result"
    }
   ],
   "source": [
    "data.dtypes"
   ]
  },
  {
   "cell_type": "markdown",
   "metadata": {},
   "source": [
    "#### `.size`\n",
    "The `.size` attribute returns how many elements are in the `DataFrame` or `Series` as an `int`. This\n",
    "means it returns the number of rows multiplied by the number of columns.\n",
    "\n",
    "Example:"
   ]
  },
  {
   "cell_type": "code",
   "execution_count": 37,
   "metadata": {},
   "outputs": [
    {
     "data": {
      "text/plain": [
       "36"
      ]
     },
     "execution_count": 37,
     "metadata": {},
     "output_type": "execute_result"
    }
   ],
   "source": [
    "# this returns 36\n",
    "data.size"
   ]
  },
  {
   "cell_type": "markdown",
   "metadata": {},
   "source": [
    "#### `.shape`\n",
    "The `.shape` attribute tells us the dimensions of our `DataFrame`, returned as the tuple:\n",
    "`(number of rows, number of columns)`\n",
    "\n",
    "Example:"
   ]
  },
  {
   "cell_type": "code",
   "execution_count": 38,
   "metadata": {},
   "outputs": [
    {
     "data": {
      "text/plain": [
       "(6, 6)"
      ]
     },
     "execution_count": 38,
     "metadata": {},
     "output_type": "execute_result"
    }
   ],
   "source": [
    "# this returns (6, 6), since our table has 6 rows and 6 columns, respectively\n",
    "data.shape"
   ]
  },
  {
   "cell_type": "markdown",
   "metadata": {},
   "source": [
    "### Extract `DataFrame` columns by name\n",
    "\n",
    "To extract certain columns from the `DataFrame`, you can use the names of the columns like so: `df[['col1', 'col2', ...]]` ([Further Reading](https://pandas.pydata.org/docs/user_guide/10min.html#selection))\n",
    "\n",
    "Example:"
   ]
  },
  {
   "cell_type": "code",
   "execution_count": 39,
   "metadata": {},
   "outputs": [
    {
     "data": {
      "text/html": [
       "<div>\n",
       "<style scoped>\n",
       "    .dataframe tbody tr th:only-of-type {\n",
       "        vertical-align: middle;\n",
       "    }\n",
       "\n",
       "    .dataframe tbody tr th {\n",
       "        vertical-align: top;\n",
       "    }\n",
       "\n",
       "    .dataframe thead th {\n",
       "        text-align: right;\n",
       "    }\n",
       "</style>\n",
       "<table border=\"1\" class=\"dataframe\">\n",
       "  <thead>\n",
       "    <tr style=\"text-align: right;\">\n",
       "      <th></th>\n",
       "      <th>Name</th>\n",
       "      <th>Fall</th>\n",
       "    </tr>\n",
       "  </thead>\n",
       "  <tbody>\n",
       "    <tr>\n",
       "      <th>0</th>\n",
       "      <td>Honours Bachelor of Arts</td>\n",
       "      <td>345.0</td>\n",
       "    </tr>\n",
       "    <tr>\n",
       "      <th>1</th>\n",
       "      <td>Bachelor of Arts - 4 Yr.</td>\n",
       "      <td>NaN</td>\n",
       "    </tr>\n",
       "    <tr>\n",
       "      <th>2</th>\n",
       "      <td>Bachelor of Arts</td>\n",
       "      <td>12.0</td>\n",
       "    </tr>\n",
       "    <tr>\n",
       "      <th>3</th>\n",
       "      <td>Honours Bachelor of Science</td>\n",
       "      <td>447.0</td>\n",
       "    </tr>\n",
       "    <tr>\n",
       "      <th>4</th>\n",
       "      <td>Bachelor of Science</td>\n",
       "      <td>23.0</td>\n",
       "    </tr>\n",
       "    <tr>\n",
       "      <th>5</th>\n",
       "      <td>Bachelor of Commerce</td>\n",
       "      <td>71.0</td>\n",
       "    </tr>\n",
       "  </tbody>\n",
       "</table>\n",
       "</div>"
      ],
      "text/plain": [
       "                          Name   Fall\n",
       "0     Honours Bachelor of Arts  345.0\n",
       "1     Bachelor of Arts - 4 Yr.    NaN\n",
       "2             Bachelor of Arts   12.0\n",
       "3  Honours Bachelor of Science  447.0\n",
       "4          Bachelor of Science   23.0\n",
       "5         Bachelor of Commerce   71.0"
      ]
     },
     "execution_count": 39,
     "metadata": {},
     "output_type": "execute_result"
    }
   ],
   "source": [
    "data[['Name', 'Fall']]"
   ]
  },
  {
   "cell_type": "markdown",
   "metadata": {},
   "source": [
    "### Extract `DataFrame` rows by criteria\n",
    "\n",
    "You can extract rows using conditions, using the following syntax: `df[df['col1'] > 0]`. ([Further Reading](https://pandas.pydata.org/docs/user_guide/indexing.html#boolean-indexing))\n",
    "\n",
    "Example:"
   ]
  },
  {
   "cell_type": "code",
   "execution_count": 40,
   "metadata": {},
   "outputs": [
    {
     "data": {
      "text/html": [
       "<div>\n",
       "<style scoped>\n",
       "    .dataframe tbody tr th:only-of-type {\n",
       "        vertical-align: middle;\n",
       "    }\n",
       "\n",
       "    .dataframe tbody tr th {\n",
       "        vertical-align: top;\n",
       "    }\n",
       "\n",
       "    .dataframe thead th {\n",
       "        text-align: right;\n",
       "    }\n",
       "</style>\n",
       "<table border=\"1\" class=\"dataframe\">\n",
       "  <thead>\n",
       "    <tr style=\"text-align: right;\">\n",
       "      <th></th>\n",
       "      <th>Name</th>\n",
       "      <th>Degree</th>\n",
       "      <th>Absentia</th>\n",
       "      <th>Spring</th>\n",
       "      <th>Fall</th>\n",
       "      <th>Total</th>\n",
       "    </tr>\n",
       "  </thead>\n",
       "  <tbody>\n",
       "    <tr>\n",
       "      <th>0</th>\n",
       "      <td>Honours Bachelor of Arts</td>\n",
       "      <td>HBA</td>\n",
       "      <td>NaN</td>\n",
       "      <td>1599.0</td>\n",
       "      <td>345.0</td>\n",
       "      <td>1944.0</td>\n",
       "    </tr>\n",
       "    <tr>\n",
       "      <th>3</th>\n",
       "      <td>Honours Bachelor of Science</td>\n",
       "      <td>HBSC</td>\n",
       "      <td>3.0</td>\n",
       "      <td>2737.0</td>\n",
       "      <td>447.0</td>\n",
       "      <td>3187.0</td>\n",
       "    </tr>\n",
       "    <tr>\n",
       "      <th>5</th>\n",
       "      <td>Bachelor of Commerce</td>\n",
       "      <td>BCOM</td>\n",
       "      <td>NaN</td>\n",
       "      <td>612.0</td>\n",
       "      <td>71.0</td>\n",
       "      <td>683.0</td>\n",
       "    </tr>\n",
       "  </tbody>\n",
       "</table>\n",
       "</div>"
      ],
      "text/plain": [
       "                          Name Degree  Absentia  Spring   Fall   Total\n",
       "0     Honours Bachelor of Arts    HBA       NaN  1599.0  345.0  1944.0\n",
       "3  Honours Bachelor of Science   HBSC       3.0  2737.0  447.0  3187.0\n",
       "5         Bachelor of Commerce   BCOM       NaN   612.0   71.0   683.0"
      ]
     },
     "execution_count": 40,
     "metadata": {},
     "output_type": "execute_result"
    }
   ],
   "source": [
    "data[data['Fall'] > 50]"
   ]
  },
  {
   "cell_type": "markdown",
   "metadata": {},
   "source": [
    "#### More Complex Criteria\n",
    "You can combine diffeent conditions using boolean operators:\n",
    "- Use `|` for `or`, meaning you want at least one of the conditions to be true\n",
    "- Use `&` for `and`, meaning you want both conditions to be true\n",
    "- Use `~` for `not`, meaning you want the condition to be false\n",
    "\n",
    "If you want to filter out null (or `NaN`) values, you can use the `.notnull()` or `.isnull()` functions.\n",
    "\n",
    "Also, use paranthesis `()` to signify which conditions should be evaluated first.\n",
    "\n",
    "Example:"
   ]
  },
  {
   "cell_type": "code",
   "execution_count": 41,
   "metadata": {},
   "outputs": [
    {
     "data": {
      "text/html": [
       "<div>\n",
       "<style scoped>\n",
       "    .dataframe tbody tr th:only-of-type {\n",
       "        vertical-align: middle;\n",
       "    }\n",
       "\n",
       "    .dataframe tbody tr th {\n",
       "        vertical-align: top;\n",
       "    }\n",
       "\n",
       "    .dataframe thead th {\n",
       "        text-align: right;\n",
       "    }\n",
       "</style>\n",
       "<table border=\"1\" class=\"dataframe\">\n",
       "  <thead>\n",
       "    <tr style=\"text-align: right;\">\n",
       "      <th></th>\n",
       "      <th>Name</th>\n",
       "      <th>Degree</th>\n",
       "      <th>Absentia</th>\n",
       "      <th>Spring</th>\n",
       "      <th>Fall</th>\n",
       "      <th>Total</th>\n",
       "    </tr>\n",
       "  </thead>\n",
       "  <tbody>\n",
       "    <tr>\n",
       "      <th>0</th>\n",
       "      <td>Honours Bachelor of Arts</td>\n",
       "      <td>HBA</td>\n",
       "      <td>NaN</td>\n",
       "      <td>1599.0</td>\n",
       "      <td>345.0</td>\n",
       "      <td>1944.0</td>\n",
       "    </tr>\n",
       "    <tr>\n",
       "      <th>5</th>\n",
       "      <td>Bachelor of Commerce</td>\n",
       "      <td>BCOM</td>\n",
       "      <td>NaN</td>\n",
       "      <td>612.0</td>\n",
       "      <td>71.0</td>\n",
       "      <td>683.0</td>\n",
       "    </tr>\n",
       "  </tbody>\n",
       "</table>\n",
       "</div>"
      ],
      "text/plain": [
       "                       Name Degree  Absentia  Spring   Fall   Total\n",
       "0  Honours Bachelor of Arts    HBA       NaN  1599.0  345.0  1944.0\n",
       "5      Bachelor of Commerce   BCOM       NaN   612.0   71.0   683.0"
      ]
     },
     "execution_count": 41,
     "metadata": {},
     "output_type": "execute_result"
    }
   ],
   "source": [
    "# this will return the rows with a Null absentia and more than 50 Fall certificates.\n",
    "data[(data['Absentia'].isnull()) & (data['Fall'] > 50)]"
   ]
  },
  {
   "cell_type": "code",
   "execution_count": 42,
   "metadata": {},
   "outputs": [
    {
     "data": {
      "text/html": [
       "<div>\n",
       "<style scoped>\n",
       "    .dataframe tbody tr th:only-of-type {\n",
       "        vertical-align: middle;\n",
       "    }\n",
       "\n",
       "    .dataframe tbody tr th {\n",
       "        vertical-align: top;\n",
       "    }\n",
       "\n",
       "    .dataframe thead th {\n",
       "        text-align: right;\n",
       "    }\n",
       "</style>\n",
       "<table border=\"1\" class=\"dataframe\">\n",
       "  <thead>\n",
       "    <tr style=\"text-align: right;\">\n",
       "      <th></th>\n",
       "      <th>Name</th>\n",
       "      <th>Degree</th>\n",
       "      <th>Absentia</th>\n",
       "      <th>Spring</th>\n",
       "      <th>Fall</th>\n",
       "      <th>Total</th>\n",
       "    </tr>\n",
       "  </thead>\n",
       "  <tbody>\n",
       "    <tr>\n",
       "      <th>0</th>\n",
       "      <td>Honours Bachelor of Arts</td>\n",
       "      <td>HBA</td>\n",
       "      <td>NaN</td>\n",
       "      <td>1599.0</td>\n",
       "      <td>345.0</td>\n",
       "      <td>1944.0</td>\n",
       "    </tr>\n",
       "    <tr>\n",
       "      <th>2</th>\n",
       "      <td>Bachelor of Arts</td>\n",
       "      <td>BA</td>\n",
       "      <td>NaN</td>\n",
       "      <td>31.0</td>\n",
       "      <td>12.0</td>\n",
       "      <td>43.0</td>\n",
       "    </tr>\n",
       "    <tr>\n",
       "      <th>4</th>\n",
       "      <td>Bachelor of Science</td>\n",
       "      <td>BSC</td>\n",
       "      <td>NaN</td>\n",
       "      <td>40.0</td>\n",
       "      <td>23.0</td>\n",
       "      <td>63.0</td>\n",
       "    </tr>\n",
       "    <tr>\n",
       "      <th>5</th>\n",
       "      <td>Bachelor of Commerce</td>\n",
       "      <td>BCOM</td>\n",
       "      <td>NaN</td>\n",
       "      <td>612.0</td>\n",
       "      <td>71.0</td>\n",
       "      <td>683.0</td>\n",
       "    </tr>\n",
       "  </tbody>\n",
       "</table>\n",
       "</div>"
      ],
      "text/plain": [
       "                       Name Degree  Absentia  Spring   Fall   Total\n",
       "0  Honours Bachelor of Arts    HBA       NaN  1599.0  345.0  1944.0\n",
       "2          Bachelor of Arts     BA       NaN    31.0   12.0    43.0\n",
       "4       Bachelor of Science    BSC       NaN    40.0   23.0    63.0\n",
       "5      Bachelor of Commerce   BCOM       NaN   612.0   71.0   683.0"
      ]
     },
     "execution_count": 42,
     "metadata": {},
     "output_type": "execute_result"
    }
   ],
   "source": [
    "# this will return rows with a Null absentia and either less than 1,000 spring certificates or mroe than 50 fall certificates\n",
    "data[(data['Absentia'].isnull()) & ((data['Spring'] < 1000) | (data['Fall'] > 50))]"
   ]
  },
  {
   "cell_type": "markdown",
   "metadata": {},
   "source": [
    "### Sort `DataFrame` rows\n",
    "\n",
    "Use the `.sort_values` function to sort your `DataFrame` by the value of its columns or rows. ([Further Reading](https://pandas.pydata.org/docs/user_guide/basics.html#by-values))\n",
    "\n",
    "Example:"
   ]
  },
  {
   "cell_type": "code",
   "execution_count": 43,
   "metadata": {},
   "outputs": [
    {
     "data": {
      "text/html": [
       "<div>\n",
       "<style scoped>\n",
       "    .dataframe tbody tr th:only-of-type {\n",
       "        vertical-align: middle;\n",
       "    }\n",
       "\n",
       "    .dataframe tbody tr th {\n",
       "        vertical-align: top;\n",
       "    }\n",
       "\n",
       "    .dataframe thead th {\n",
       "        text-align: right;\n",
       "    }\n",
       "</style>\n",
       "<table border=\"1\" class=\"dataframe\">\n",
       "  <thead>\n",
       "    <tr style=\"text-align: right;\">\n",
       "      <th></th>\n",
       "      <th>Name</th>\n",
       "      <th>Degree</th>\n",
       "      <th>Absentia</th>\n",
       "      <th>Spring</th>\n",
       "      <th>Fall</th>\n",
       "      <th>Total</th>\n",
       "    </tr>\n",
       "  </thead>\n",
       "  <tbody>\n",
       "    <tr>\n",
       "      <th>2</th>\n",
       "      <td>Bachelor of Arts</td>\n",
       "      <td>BA</td>\n",
       "      <td>NaN</td>\n",
       "      <td>31.0</td>\n",
       "      <td>12.0</td>\n",
       "      <td>43.0</td>\n",
       "    </tr>\n",
       "    <tr>\n",
       "      <th>4</th>\n",
       "      <td>Bachelor of Science</td>\n",
       "      <td>BSC</td>\n",
       "      <td>NaN</td>\n",
       "      <td>40.0</td>\n",
       "      <td>23.0</td>\n",
       "      <td>63.0</td>\n",
       "    </tr>\n",
       "    <tr>\n",
       "      <th>5</th>\n",
       "      <td>Bachelor of Commerce</td>\n",
       "      <td>BCOM</td>\n",
       "      <td>NaN</td>\n",
       "      <td>612.0</td>\n",
       "      <td>71.0</td>\n",
       "      <td>683.0</td>\n",
       "    </tr>\n",
       "    <tr>\n",
       "      <th>0</th>\n",
       "      <td>Honours Bachelor of Arts</td>\n",
       "      <td>HBA</td>\n",
       "      <td>NaN</td>\n",
       "      <td>1599.0</td>\n",
       "      <td>345.0</td>\n",
       "      <td>1944.0</td>\n",
       "    </tr>\n",
       "    <tr>\n",
       "      <th>3</th>\n",
       "      <td>Honours Bachelor of Science</td>\n",
       "      <td>HBSC</td>\n",
       "      <td>3.0</td>\n",
       "      <td>2737.0</td>\n",
       "      <td>447.0</td>\n",
       "      <td>3187.0</td>\n",
       "    </tr>\n",
       "    <tr>\n",
       "      <th>1</th>\n",
       "      <td>Bachelor of Arts - 4 Yr.</td>\n",
       "      <td>BA-4</td>\n",
       "      <td>NaN</td>\n",
       "      <td>NaN</td>\n",
       "      <td>NaN</td>\n",
       "      <td>NaN</td>\n",
       "    </tr>\n",
       "  </tbody>\n",
       "</table>\n",
       "</div>"
      ],
      "text/plain": [
       "                          Name Degree  Absentia  Spring   Fall   Total\n",
       "2             Bachelor of Arts     BA       NaN    31.0   12.0    43.0\n",
       "4          Bachelor of Science    BSC       NaN    40.0   23.0    63.0\n",
       "5         Bachelor of Commerce   BCOM       NaN   612.0   71.0   683.0\n",
       "0     Honours Bachelor of Arts    HBA       NaN  1599.0  345.0  1944.0\n",
       "3  Honours Bachelor of Science   HBSC       3.0  2737.0  447.0  3187.0\n",
       "1     Bachelor of Arts - 4 Yr.   BA-4       NaN     NaN    NaN     NaN"
      ]
     },
     "execution_count": 43,
     "metadata": {},
     "output_type": "execute_result"
    }
   ],
   "source": [
    "data.sort_values(by=[\"Total\"])"
   ]
  },
  {
   "cell_type": "markdown",
   "metadata": {},
   "source": [
    "### Obtain the \"n largest\" or \"n smallest\" rows from a `DataFrame`\n",
    "Use the `.nlargest` function to return the first `n` rows sorted by certain columns in descending order. ([Further Reading](https://pandas.pydata.org/docs/user_guide/basics.html#smallest-largest-values))\n",
    "\n",
    "Example:"
   ]
  },
  {
   "cell_type": "code",
   "execution_count": 44,
   "metadata": {},
   "outputs": [
    {
     "data": {
      "text/html": [
       "<div>\n",
       "<style scoped>\n",
       "    .dataframe tbody tr th:only-of-type {\n",
       "        vertical-align: middle;\n",
       "    }\n",
       "\n",
       "    .dataframe tbody tr th {\n",
       "        vertical-align: top;\n",
       "    }\n",
       "\n",
       "    .dataframe thead th {\n",
       "        text-align: right;\n",
       "    }\n",
       "</style>\n",
       "<table border=\"1\" class=\"dataframe\">\n",
       "  <thead>\n",
       "    <tr style=\"text-align: right;\">\n",
       "      <th></th>\n",
       "      <th>Name</th>\n",
       "      <th>Degree</th>\n",
       "      <th>Absentia</th>\n",
       "      <th>Spring</th>\n",
       "      <th>Fall</th>\n",
       "      <th>Total</th>\n",
       "    </tr>\n",
       "  </thead>\n",
       "  <tbody>\n",
       "    <tr>\n",
       "      <th>3</th>\n",
       "      <td>Honours Bachelor of Science</td>\n",
       "      <td>HBSC</td>\n",
       "      <td>3.0</td>\n",
       "      <td>2737.0</td>\n",
       "      <td>447.0</td>\n",
       "      <td>3187.0</td>\n",
       "    </tr>\n",
       "    <tr>\n",
       "      <th>0</th>\n",
       "      <td>Honours Bachelor of Arts</td>\n",
       "      <td>HBA</td>\n",
       "      <td>NaN</td>\n",
       "      <td>1599.0</td>\n",
       "      <td>345.0</td>\n",
       "      <td>1944.0</td>\n",
       "    </tr>\n",
       "    <tr>\n",
       "      <th>5</th>\n",
       "      <td>Bachelor of Commerce</td>\n",
       "      <td>BCOM</td>\n",
       "      <td>NaN</td>\n",
       "      <td>612.0</td>\n",
       "      <td>71.0</td>\n",
       "      <td>683.0</td>\n",
       "    </tr>\n",
       "  </tbody>\n",
       "</table>\n",
       "</div>"
      ],
      "text/plain": [
       "                          Name Degree  Absentia  Spring   Fall   Total\n",
       "3  Honours Bachelor of Science   HBSC       3.0  2737.0  447.0  3187.0\n",
       "0     Honours Bachelor of Arts    HBA       NaN  1599.0  345.0  1944.0\n",
       "5         Bachelor of Commerce   BCOM       NaN   612.0   71.0   683.0"
      ]
     },
     "execution_count": 44,
     "metadata": {},
     "output_type": "execute_result"
    }
   ],
   "source": [
    "# You can sort using one column, like so:\n",
    "data.nlargest(3, 'Total')\n",
    "\n",
    "# Or with multiple columns. This will order by largest in 'Spring' then in 'Fall'\n",
    "data.nlargest(3, ['Spring', 'Fall'])"
   ]
  },
  {
   "cell_type": "markdown",
   "metadata": {},
   "source": [
    "Similarly, use the `.nsmallest` function to return the first `n` rows sorted by certain columns in ascending order.\n",
    "\n",
    "Example:"
   ]
  },
  {
   "cell_type": "code",
   "execution_count": 45,
   "metadata": {},
   "outputs": [
    {
     "data": {
      "text/html": [
       "<div>\n",
       "<style scoped>\n",
       "    .dataframe tbody tr th:only-of-type {\n",
       "        vertical-align: middle;\n",
       "    }\n",
       "\n",
       "    .dataframe tbody tr th {\n",
       "        vertical-align: top;\n",
       "    }\n",
       "\n",
       "    .dataframe thead th {\n",
       "        text-align: right;\n",
       "    }\n",
       "</style>\n",
       "<table border=\"1\" class=\"dataframe\">\n",
       "  <thead>\n",
       "    <tr style=\"text-align: right;\">\n",
       "      <th></th>\n",
       "      <th>Name</th>\n",
       "      <th>Degree</th>\n",
       "      <th>Absentia</th>\n",
       "      <th>Spring</th>\n",
       "      <th>Fall</th>\n",
       "      <th>Total</th>\n",
       "    </tr>\n",
       "  </thead>\n",
       "  <tbody>\n",
       "    <tr>\n",
       "      <th>2</th>\n",
       "      <td>Bachelor of Arts</td>\n",
       "      <td>BA</td>\n",
       "      <td>NaN</td>\n",
       "      <td>31.0</td>\n",
       "      <td>12.0</td>\n",
       "      <td>43.0</td>\n",
       "    </tr>\n",
       "    <tr>\n",
       "      <th>4</th>\n",
       "      <td>Bachelor of Science</td>\n",
       "      <td>BSC</td>\n",
       "      <td>NaN</td>\n",
       "      <td>40.0</td>\n",
       "      <td>23.0</td>\n",
       "      <td>63.0</td>\n",
       "    </tr>\n",
       "    <tr>\n",
       "      <th>5</th>\n",
       "      <td>Bachelor of Commerce</td>\n",
       "      <td>BCOM</td>\n",
       "      <td>NaN</td>\n",
       "      <td>612.0</td>\n",
       "      <td>71.0</td>\n",
       "      <td>683.0</td>\n",
       "    </tr>\n",
       "  </tbody>\n",
       "</table>\n",
       "</div>"
      ],
      "text/plain": [
       "                   Name Degree  Absentia  Spring  Fall  Total\n",
       "2      Bachelor of Arts     BA       NaN    31.0  12.0   43.0\n",
       "4   Bachelor of Science    BSC       NaN    40.0  23.0   63.0\n",
       "5  Bachelor of Commerce   BCOM       NaN   612.0  71.0  683.0"
      ]
     },
     "execution_count": 45,
     "metadata": {},
     "output_type": "execute_result"
    }
   ],
   "source": [
    "# You can sort using one column, like so:\n",
    "data.nsmallest(3, 'Total')\n",
    "\n",
    "# Or with multiple columns. This will order by largest in 'Spring' then in 'Fall'\n",
    "data.nsmallest(3, ['Spring', 'Fall'])"
   ]
  },
  {
   "cell_type": "markdown",
   "metadata": {},
   "source": [
    "### Renaming `DataFrame` columns\n",
    "\n",
    "Use the function `.rename(columns={'col1': 'new col1', ...})` to rename columns in a `DataFrame`. ([Further Reading](https://pandas.pydata.org/docs/user_guide/basics.html#basics-rename))\n",
    "\n",
    "Example:"
   ]
  },
  {
   "cell_type": "code",
   "execution_count": 46,
   "metadata": {},
   "outputs": [
    {
     "data": {
      "text/html": [
       "<div>\n",
       "<style scoped>\n",
       "    .dataframe tbody tr th:only-of-type {\n",
       "        vertical-align: middle;\n",
       "    }\n",
       "\n",
       "    .dataframe tbody tr th {\n",
       "        vertical-align: top;\n",
       "    }\n",
       "\n",
       "    .dataframe thead th {\n",
       "        text-align: right;\n",
       "    }\n",
       "</style>\n",
       "<table border=\"1\" class=\"dataframe\">\n",
       "  <thead>\n",
       "    <tr style=\"text-align: right;\">\n",
       "      <th></th>\n",
       "      <th>Name</th>\n",
       "      <th>Degree Code</th>\n",
       "      <th>Absentia</th>\n",
       "      <th>Spring</th>\n",
       "      <th>Fall</th>\n",
       "      <th>Total</th>\n",
       "    </tr>\n",
       "  </thead>\n",
       "  <tbody>\n",
       "    <tr>\n",
       "      <th>0</th>\n",
       "      <td>Honours Bachelor of Arts</td>\n",
       "      <td>HBA</td>\n",
       "      <td>NaN</td>\n",
       "      <td>1599.0</td>\n",
       "      <td>345.0</td>\n",
       "      <td>1944.0</td>\n",
       "    </tr>\n",
       "    <tr>\n",
       "      <th>1</th>\n",
       "      <td>Bachelor of Arts - 4 Yr.</td>\n",
       "      <td>BA-4</td>\n",
       "      <td>NaN</td>\n",
       "      <td>NaN</td>\n",
       "      <td>NaN</td>\n",
       "      <td>NaN</td>\n",
       "    </tr>\n",
       "    <tr>\n",
       "      <th>2</th>\n",
       "      <td>Bachelor of Arts</td>\n",
       "      <td>BA</td>\n",
       "      <td>NaN</td>\n",
       "      <td>31.0</td>\n",
       "      <td>12.0</td>\n",
       "      <td>43.0</td>\n",
       "    </tr>\n",
       "    <tr>\n",
       "      <th>3</th>\n",
       "      <td>Honours Bachelor of Science</td>\n",
       "      <td>HBSC</td>\n",
       "      <td>3.0</td>\n",
       "      <td>2737.0</td>\n",
       "      <td>447.0</td>\n",
       "      <td>3187.0</td>\n",
       "    </tr>\n",
       "    <tr>\n",
       "      <th>4</th>\n",
       "      <td>Bachelor of Science</td>\n",
       "      <td>BSC</td>\n",
       "      <td>NaN</td>\n",
       "      <td>40.0</td>\n",
       "      <td>23.0</td>\n",
       "      <td>63.0</td>\n",
       "    </tr>\n",
       "    <tr>\n",
       "      <th>5</th>\n",
       "      <td>Bachelor of Commerce</td>\n",
       "      <td>BCOM</td>\n",
       "      <td>NaN</td>\n",
       "      <td>612.0</td>\n",
       "      <td>71.0</td>\n",
       "      <td>683.0</td>\n",
       "    </tr>\n",
       "  </tbody>\n",
       "</table>\n",
       "</div>"
      ],
      "text/plain": [
       "                          Name Degree Code  Absentia  Spring   Fall   Total\n",
       "0     Honours Bachelor of Arts         HBA       NaN  1599.0  345.0  1944.0\n",
       "1     Bachelor of Arts - 4 Yr.        BA-4       NaN     NaN    NaN     NaN\n",
       "2             Bachelor of Arts          BA       NaN    31.0   12.0    43.0\n",
       "3  Honours Bachelor of Science        HBSC       3.0  2737.0  447.0  3187.0\n",
       "4          Bachelor of Science         BSC       NaN    40.0   23.0    63.0\n",
       "5         Bachelor of Commerce        BCOM       NaN   612.0   71.0   683.0"
      ]
     },
     "execution_count": 46,
     "metadata": {},
     "output_type": "execute_result"
    }
   ],
   "source": [
    "data.rename(columns={'Degree': 'Degree Code'})"
   ]
  },
  {
   "cell_type": "markdown",
   "metadata": {},
   "source": [
    "### Calculating descriptive statistics for a `DataFrame`\n",
    "You can read more about the following operations [here](https://pandas.pydata.org/docs/user_guide/basics.html#descriptive-statistics)"
   ]
  },
  {
   "cell_type": "markdown",
   "metadata": {},
   "source": [
    "Use the `.count` function to return how many non-NaN values there are on one axis.\n",
    "\n",
    "Example:"
   ]
  },
  {
   "cell_type": "code",
   "execution_count": 47,
   "metadata": {},
   "outputs": [
    {
     "data": {
      "text/plain": [
       "Name        6\n",
       "Degree      6\n",
       "Absentia    1\n",
       "Spring      5\n",
       "Fall        5\n",
       "Total       5\n",
       "dtype: int64"
      ]
     },
     "execution_count": 47,
     "metadata": {},
     "output_type": "execute_result"
    }
   ],
   "source": [
    "data.count()"
   ]
  },
  {
   "cell_type": "markdown",
   "metadata": {},
   "source": [
    "Use the `.sum` function to sum up values on one axis.\n",
    "\n",
    "Example:"
   ]
  },
  {
   "cell_type": "code",
   "execution_count": 6,
   "metadata": {},
   "outputs": [
    {
     "data": {
      "text/plain": [
       "Absentia       3.0\n",
       "Spring      5019.0\n",
       "Fall         898.0\n",
       "Total       5920.0\n",
       "dtype: float64"
      ]
     },
     "execution_count": 6,
     "metadata": {},
     "output_type": "execute_result"
    }
   ],
   "source": [
    "data.sum(numeric_only=True)"
   ]
  },
  {
   "cell_type": "markdown",
   "metadata": {},
   "source": [
    "Use the `.mean` function to find the mean of values on one axis\n",
    "\n",
    "Example:"
   ]
  },
  {
   "cell_type": "code",
   "execution_count": 5,
   "metadata": {},
   "outputs": [
    {
     "data": {
      "text/plain": [
       "Absentia       3.0\n",
       "Spring      1003.8\n",
       "Fall         179.6\n",
       "Total       1184.0\n",
       "dtype: float64"
      ]
     },
     "execution_count": 5,
     "metadata": {},
     "output_type": "execute_result"
    }
   ],
   "source": [
    "data.mean(numeric_only=True)"
   ]
  },
  {
   "cell_type": "markdown",
   "metadata": {},
   "source": [
    "Use the `.median` function to find the median of values on one axis.\n",
    "\n",
    "Example:"
   ]
  },
  {
   "cell_type": "code",
   "execution_count": 7,
   "metadata": {},
   "outputs": [
    {
     "data": {
      "text/plain": [
       "Absentia      3.0\n",
       "Spring      612.0\n",
       "Fall         71.0\n",
       "Total       683.0\n",
       "dtype: float64"
      ]
     },
     "execution_count": 7,
     "metadata": {},
     "output_type": "execute_result"
    }
   ],
   "source": [
    "data.median(numeric_only=True)"
   ]
  },
  {
   "cell_type": "markdown",
   "metadata": {},
   "source": [
    "Use the `.min` and `.max` functions to find the minimum/maximum values respectively on one axis.\n",
    "\n",
    "Example:"
   ]
  },
  {
   "cell_type": "code",
   "execution_count": 51,
   "metadata": {},
   "outputs": [
    {
     "data": {
      "text/plain": [
       "Name        Bachelor of Arts\n",
       "Degree                    BA\n",
       "Absentia                 3.0\n",
       "Spring                  31.0\n",
       "Fall                    12.0\n",
       "Total                   43.0\n",
       "dtype: object"
      ]
     },
     "execution_count": 51,
     "metadata": {},
     "output_type": "execute_result"
    }
   ],
   "source": [
    "data.min()"
   ]
  },
  {
   "cell_type": "markdown",
   "metadata": {},
   "source": [
    "The `.describe` function provides the descriptive statistics listed above, and a few more: ([Further Reading](https://pandas.pydata.org/docs/user_guide/basics.html#summarizing-data-describe))"
   ]
  },
  {
   "cell_type": "code",
   "execution_count": 52,
   "metadata": {},
   "outputs": [
    {
     "data": {
      "text/html": [
       "<div>\n",
       "<style scoped>\n",
       "    .dataframe tbody tr th:only-of-type {\n",
       "        vertical-align: middle;\n",
       "    }\n",
       "\n",
       "    .dataframe tbody tr th {\n",
       "        vertical-align: top;\n",
       "    }\n",
       "\n",
       "    .dataframe thead th {\n",
       "        text-align: right;\n",
       "    }\n",
       "</style>\n",
       "<table border=\"1\" class=\"dataframe\">\n",
       "  <thead>\n",
       "    <tr style=\"text-align: right;\">\n",
       "      <th></th>\n",
       "      <th>Absentia</th>\n",
       "      <th>Spring</th>\n",
       "      <th>Fall</th>\n",
       "      <th>Total</th>\n",
       "    </tr>\n",
       "  </thead>\n",
       "  <tbody>\n",
       "    <tr>\n",
       "      <th>count</th>\n",
       "      <td>1.0</td>\n",
       "      <td>5.000000</td>\n",
       "      <td>5.000000</td>\n",
       "      <td>5.000000</td>\n",
       "    </tr>\n",
       "    <tr>\n",
       "      <th>mean</th>\n",
       "      <td>3.0</td>\n",
       "      <td>1003.800000</td>\n",
       "      <td>179.600000</td>\n",
       "      <td>1184.000000</td>\n",
       "    </tr>\n",
       "    <tr>\n",
       "      <th>std</th>\n",
       "      <td>NaN</td>\n",
       "      <td>1160.495885</td>\n",
       "      <td>202.031681</td>\n",
       "      <td>1360.067278</td>\n",
       "    </tr>\n",
       "    <tr>\n",
       "      <th>min</th>\n",
       "      <td>3.0</td>\n",
       "      <td>31.000000</td>\n",
       "      <td>12.000000</td>\n",
       "      <td>43.000000</td>\n",
       "    </tr>\n",
       "    <tr>\n",
       "      <th>25%</th>\n",
       "      <td>3.0</td>\n",
       "      <td>40.000000</td>\n",
       "      <td>23.000000</td>\n",
       "      <td>63.000000</td>\n",
       "    </tr>\n",
       "    <tr>\n",
       "      <th>50%</th>\n",
       "      <td>3.0</td>\n",
       "      <td>612.000000</td>\n",
       "      <td>71.000000</td>\n",
       "      <td>683.000000</td>\n",
       "    </tr>\n",
       "    <tr>\n",
       "      <th>75%</th>\n",
       "      <td>3.0</td>\n",
       "      <td>1599.000000</td>\n",
       "      <td>345.000000</td>\n",
       "      <td>1944.000000</td>\n",
       "    </tr>\n",
       "    <tr>\n",
       "      <th>max</th>\n",
       "      <td>3.0</td>\n",
       "      <td>2737.000000</td>\n",
       "      <td>447.000000</td>\n",
       "      <td>3187.000000</td>\n",
       "    </tr>\n",
       "  </tbody>\n",
       "</table>\n",
       "</div>"
      ],
      "text/plain": [
       "       Absentia       Spring        Fall        Total\n",
       "count       1.0     5.000000    5.000000     5.000000\n",
       "mean        3.0  1003.800000  179.600000  1184.000000\n",
       "std         NaN  1160.495885  202.031681  1360.067278\n",
       "min         3.0    31.000000   12.000000    43.000000\n",
       "25%         3.0    40.000000   23.000000    63.000000\n",
       "50%         3.0   612.000000   71.000000   683.000000\n",
       "75%         3.0  1599.000000  345.000000  1944.000000\n",
       "max         3.0  2737.000000  447.000000  3187.000000"
      ]
     },
     "execution_count": 52,
     "metadata": {},
     "output_type": "execute_result"
    }
   ],
   "source": [
    "data.describe()"
   ]
  },
  {
   "cell_type": "markdown",
   "metadata": {},
   "source": [
    "### Adding a computed column to a `DataFrame`\n",
    "To add a new column to a `DataFrame`, use `df['new column'] = new_column_content`. ([Further Reading](https://pandas.pydata.org/docs/user_guide/dsintro.html#column-selection-addition-deletion))\n",
    "\n",
    "Example:"
   ]
  },
  {
   "cell_type": "code",
   "execution_count": 53,
   "metadata": {},
   "outputs": [
    {
     "data": {
      "text/html": [
       "<div>\n",
       "<style scoped>\n",
       "    .dataframe tbody tr th:only-of-type {\n",
       "        vertical-align: middle;\n",
       "    }\n",
       "\n",
       "    .dataframe tbody tr th {\n",
       "        vertical-align: top;\n",
       "    }\n",
       "\n",
       "    .dataframe thead th {\n",
       "        text-align: right;\n",
       "    }\n",
       "</style>\n",
       "<table border=\"1\" class=\"dataframe\">\n",
       "  <thead>\n",
       "    <tr style=\"text-align: right;\">\n",
       "      <th></th>\n",
       "      <th>Name</th>\n",
       "      <th>Degree</th>\n",
       "      <th>Absentia</th>\n",
       "      <th>Spring</th>\n",
       "      <th>Fall</th>\n",
       "      <th>Total</th>\n",
       "      <th>Non-absentia Total</th>\n",
       "    </tr>\n",
       "  </thead>\n",
       "  <tbody>\n",
       "    <tr>\n",
       "      <th>0</th>\n",
       "      <td>Honours Bachelor of Arts</td>\n",
       "      <td>HBA</td>\n",
       "      <td>NaN</td>\n",
       "      <td>1599.0</td>\n",
       "      <td>345.0</td>\n",
       "      <td>1944.0</td>\n",
       "      <td>1944.0</td>\n",
       "    </tr>\n",
       "    <tr>\n",
       "      <th>1</th>\n",
       "      <td>Bachelor of Arts - 4 Yr.</td>\n",
       "      <td>BA-4</td>\n",
       "      <td>NaN</td>\n",
       "      <td>NaN</td>\n",
       "      <td>NaN</td>\n",
       "      <td>NaN</td>\n",
       "      <td>NaN</td>\n",
       "    </tr>\n",
       "    <tr>\n",
       "      <th>2</th>\n",
       "      <td>Bachelor of Arts</td>\n",
       "      <td>BA</td>\n",
       "      <td>NaN</td>\n",
       "      <td>31.0</td>\n",
       "      <td>12.0</td>\n",
       "      <td>43.0</td>\n",
       "      <td>43.0</td>\n",
       "    </tr>\n",
       "    <tr>\n",
       "      <th>3</th>\n",
       "      <td>Honours Bachelor of Science</td>\n",
       "      <td>HBSC</td>\n",
       "      <td>3.0</td>\n",
       "      <td>2737.0</td>\n",
       "      <td>447.0</td>\n",
       "      <td>3187.0</td>\n",
       "      <td>3184.0</td>\n",
       "    </tr>\n",
       "    <tr>\n",
       "      <th>4</th>\n",
       "      <td>Bachelor of Science</td>\n",
       "      <td>BSC</td>\n",
       "      <td>NaN</td>\n",
       "      <td>40.0</td>\n",
       "      <td>23.0</td>\n",
       "      <td>63.0</td>\n",
       "      <td>63.0</td>\n",
       "    </tr>\n",
       "  </tbody>\n",
       "</table>\n",
       "</div>"
      ],
      "text/plain": [
       "                          Name Degree  Absentia  Spring   Fall   Total  \\\n",
       "0     Honours Bachelor of Arts    HBA       NaN  1599.0  345.0  1944.0   \n",
       "1     Bachelor of Arts - 4 Yr.   BA-4       NaN     NaN    NaN     NaN   \n",
       "2             Bachelor of Arts     BA       NaN    31.0   12.0    43.0   \n",
       "3  Honours Bachelor of Science   HBSC       3.0  2737.0  447.0  3187.0   \n",
       "4          Bachelor of Science    BSC       NaN    40.0   23.0    63.0   \n",
       "\n",
       "   Non-absentia Total  \n",
       "0              1944.0  \n",
       "1                 NaN  \n",
       "2                43.0  \n",
       "3              3184.0  \n",
       "4                63.0  "
      ]
     },
     "execution_count": 53,
     "metadata": {},
     "output_type": "execute_result"
    }
   ],
   "source": [
    "data['Non-absentia Total'] = data['Spring'] + data['Fall']\n",
    "\n",
    "data.head()"
   ]
  },
  {
   "cell_type": "markdown",
   "metadata": {},
   "source": [
    "[^dataset]: The dataset we are using in this notebook is extracted from the [2021 Annual Report on Degrees Diplomas and Certificates](https://governingcouncil.utoronto.ca/system/files/2022-01/Annual%20Report%20on%20Degrees%20Diplomas%20and%20Certificates%20%282021%29.pdf), specifically for the Faculty of Arts & Science."
   ]
  }
 ],
 "metadata": {
  "kernelspec": {
   "display_name": "Python 3.9.1 64-bit",
   "language": "python",
   "name": "python3"
  },
  "language_info": {
   "codemirror_mode": {
    "name": "ipython",
    "version": 3
   },
   "file_extension": ".py",
   "mimetype": "text/x-python",
   "name": "python",
   "nbconvert_exporter": "python",
   "pygments_lexer": "ipython3",
   "version": "3.9.1"
  },
  "orig_nbformat": 4,
  "vscode": {
   "interpreter": {
    "hash": "440dd12f919b48e435ef15d7652bb5c9f2f802a3e9de582e9da805c841a6f459"
   }
  }
 },
 "nbformat": 4,
 "nbformat_minor": 2
}
