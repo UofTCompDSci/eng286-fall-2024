{
 "cells": [
  {
   "cell_type": "markdown",
   "id": "4eca3fc8",
   "metadata": {},
   "source": [
    "# Sentiment Analysis demo\n",
    "\n",
    "## TextBlob (Default, Lexicon-based)\n",
    "\n",
    "The [documentation for TextBlob](https://textblob.readthedocs.io/en/dev/) isn't the best, but the default sentiment system is based on a tool called [pattern](https://github.com/clips/pattern), which is based on a sentiment lexicon. You can see the source code [here](https://github.com/sloria/TextBlob/blob/6396e24e85af7462cbed648fee21db5082a1f3fb/textblob/en/__init__.py#L8) (around line 80): it basically averages the sentiment scores for the all the words in the span, and applies some rule-based heuristics to identify negations. You can see the full lexicon [here](https://github.com/sloria/TextBlob/blob/6396e24e85af7462cbed648fee21db5082a1f3fb/textblob/en/__init__.py#L8); it's mostly adjective-based. "
   ]
  },
  {
   "cell_type": "code",
   "execution_count": 1,
   "id": "7a37fbf9",
   "metadata": {},
   "outputs": [],
   "source": [
    "from textblob import TextBlob"
   ]
  },
  {
   "cell_type": "code",
   "execution_count": null,
   "id": "23f7706e",
   "metadata": {},
   "outputs": [],
   "source": [
    "TextBlob(\"Neil Young is the greatest artist to come out of this country\").polarity"
   ]
  },
  {
   "cell_type": "code",
   "execution_count": null,
   "id": "13955ba8",
   "metadata": {},
   "outputs": [],
   "source": [
    "TextBlob(\"I hate Neil Young and his stupid, whiny voice\").polarity"
   ]
  },
  {
   "cell_type": "code",
   "execution_count": null,
   "id": "11ce3fb7",
   "metadata": {},
   "outputs": [],
   "source": [
    "TextBlob(\"Sometimes I feel like Neil Young is the greatest singer of his generation\").polarity"
   ]
  },
  {
   "cell_type": "code",
   "execution_count": null,
   "id": "8a003998",
   "metadata": {},
   "outputs": [],
   "source": [
    "TextBlob(\"Neil Young isn’t the worst Canadian musician\").polarity"
   ]
  },
  {
   "cell_type": "code",
   "execution_count": null,
   "id": "83a3b410",
   "metadata": {},
   "outputs": [],
   "source": [
    "TextBlob(\"Oh yeah, Neil Young’s voice is as lovely as Josh Groban’s\").polarity"
   ]
  },
  {
   "cell_type": "code",
   "execution_count": null,
   "id": "36acf0ed",
   "metadata": {},
   "outputs": [],
   "source": [
    "TextBlob(\"Hating on amazing music isn’t something I’m known for\").polarity"
   ]
  },
  {
   "cell_type": "code",
   "execution_count": null,
   "id": "4748890f",
   "metadata": {},
   "outputs": [],
   "source": [
    "TextBlob(\"Neil Young\").polarity"
   ]
  },
  {
   "cell_type": "markdown",
   "id": "0c3188a0",
   "metadata": {},
   "source": [
    "## TextBlob (Naive Bayes Classifier)\n",
    "\n",
    "TextBlob has a second sentiment system, which uses a machine learning approach: a naive Bayes classifier trained on a set of movie reviews. \n",
    "\n",
    "TextBlob actually allows us to make our OWN naive Bayes classifiers... so let's make one to get a sense of how they work. (This example is from Nick Montfort's book *Exploratory Programming for the Arts and Humanities*, and it follows TextBlob's [tutorial \"Building a Text Classification system\"](https://textblob.readthedocs.io/en/dev/classifiers.html).)\n",
    "\n",
    "First, we create our \"training data\" — a list containing a bunch of *tuples*, which are like two-item mini lists, each of which here contains some text and a label, `pos` or `neg`. Then we run the classifier on this training data."
   ]
  },
  {
   "cell_type": "code",
   "execution_count": null,
   "id": "c656cb99",
   "metadata": {},
   "outputs": [],
   "source": [
    "sentiments = [\n",
    "    ('Wittgenstein wrote one of the greatest philosophical works ever, an incredible contribution.', 'pos'),\n",
    "    ('The Oulipo is a radical, pioneering group that has shaped literary history.', 'pos'),\n",
    "    ('What an awesome sunset.', 'pos'),\n",
    "    ('I love it!', 'pos'),\n",
    "    ('Very good plan.', 'pos'),\n",
    "    ('The final season of Game of Thrones made my eyes bleed.', 'neg'),\n",
    "    ('Movies based on DC comic books are extremely tiresome.', 'neg'),\n",
    "    ('That is a horrible idea.', 'neg'),\n",
    "    ('I hate that sort of thing.', 'neg'),\n",
    "    ('You lack imagination.', 'neg')]"
   ]
  },
  {
   "cell_type": "code",
   "execution_count": null,
   "id": "19935d45",
   "metadata": {},
   "outputs": [],
   "source": [
    "from textblob.classifiers import NaiveBayesClassifier\n",
    "cl = NaiveBayesClassifier(sentiments)"
   ]
  },
  {
   "cell_type": "markdown",
   "id": "60b38d0c",
   "metadata": {},
   "source": [
    "TextBlob will tell us what it considers the \"most imfortmative features\" (aka words) in our training data. What do you think they will be?"
   ]
  },
  {
   "cell_type": "code",
   "execution_count": null,
   "id": "aabbd095",
   "metadata": {},
   "outputs": [],
   "source": [
    "cl.show_informative_features(10)"
   ]
  },
  {
   "cell_type": "code",
   "execution_count": null,
   "id": "74e71c77",
   "metadata": {},
   "outputs": [],
   "source": [
    "cl.classify(\"Neil Young is the greatest artist to come out of this country\")"
   ]
  },
  {
   "cell_type": "code",
   "execution_count": null,
   "id": "9804cc43",
   "metadata": {},
   "outputs": [],
   "source": [
    "cl.classify(\"I hate Neil Young and his stupid, whiny voice.\")"
   ]
  },
  {
   "cell_type": "code",
   "execution_count": null,
   "id": "64d7cc65",
   "metadata": {},
   "outputs": [],
   "source": [
    "cl.classify(\"Hating on amazing music isn’t something I’m known for.\")"
   ]
  },
  {
   "cell_type": "markdown",
   "id": "b2f3a068",
   "metadata": {},
   "source": [
    "To use TextBlob's sentiment system based on a naive Bayes classifier model of a [movie reviews dataset](https://github.com/mrc03/Movie-Reviews-NLTK-Sentiment-Analysis-), we need to import it and then pass the `analyzer=NaiveBayesAnalyzer()` parameter to the commands we used above."
   ]
  },
  {
   "cell_type": "code",
   "execution_count": null,
   "id": "7a01d8e2",
   "metadata": {},
   "outputs": [],
   "source": [
    "from textblob.sentiments import NaiveBayesAnalyzer"
   ]
  },
  {
   "cell_type": "code",
   "execution_count": null,
   "id": "9c2fdd1b",
   "metadata": {},
   "outputs": [],
   "source": [
    "TextBlob(\"Neil Young is the greatest artist to come out of this country\", analyzer=NaiveBayesAnalyzer()).sentiment"
   ]
  },
  {
   "cell_type": "code",
   "execution_count": null,
   "id": "b2289fac",
   "metadata": {},
   "outputs": [],
   "source": [
    "TextBlob(\"I hate Neil Young and his stupid, whiny voice.\", analyzer=NaiveBayesAnalyzer()).sentiment"
   ]
  },
  {
   "cell_type": "code",
   "execution_count": null,
   "id": "fd267bc6",
   "metadata": {},
   "outputs": [],
   "source": [
    "TextBlob(\"Sometimes I feel like Neil Young is the greatest singer of his generation\", analyzer=NaiveBayesAnalyzer()).sentiment"
   ]
  },
  {
   "cell_type": "code",
   "execution_count": null,
   "id": "30d15bce",
   "metadata": {},
   "outputs": [],
   "source": [
    "TextBlob(\"Neil Young isn’t the worst Canadian musician\", analyzer=NaiveBayesAnalyzer()).sentiment"
   ]
  },
  {
   "cell_type": "code",
   "execution_count": null,
   "id": "1bebc56d",
   "metadata": {},
   "outputs": [],
   "source": [
    "TextBlob(\"Oh yeah, Neil Young’s voice is as lovely as Josh Groban’s\", analyzer=NaiveBayesAnalyzer()).sentiment"
   ]
  },
  {
   "cell_type": "code",
   "execution_count": null,
   "id": "c554aa4b",
   "metadata": {},
   "outputs": [],
   "source": [
    "TextBlob(\"Hating on amazing music isn’t something I’m known for\", analyzer=NaiveBayesAnalyzer()).sentiment"
   ]
  }
 ],
 "metadata": {
  "kernelspec": {
   "display_name": "Python 3 (ipykernel)",
   "language": "python",
   "name": "python3"
  },
  "language_info": {
   "codemirror_mode": {
    "name": "ipython",
    "version": 3
   },
   "file_extension": ".py",
   "mimetype": "text/x-python",
   "name": "python",
   "nbconvert_exporter": "python",
   "pygments_lexer": "ipython3",
   "version": "3.9.7"
  }
 },
 "nbformat": 4,
 "nbformat_minor": 5
}
