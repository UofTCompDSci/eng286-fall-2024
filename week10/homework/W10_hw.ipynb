{
 "cells": [
  {
   "cell_type": "markdown",
   "metadata": {},
   "source": [
    "# Week 10 Homework\n",
    "\n",
    "## Instructions\n",
    "For each task, write your code in the cell below the comment. (Unlike in labs, there are no per-task tests provided, though you can write your own small tests as you go.) When all of the code is complete, upload it to Markus. \n",
    "\n",
    "## Due date\n",
    "Homeworks are due each week on Monday at 10pm."
   ]
  },
  {
   "cell_type": "markdown",
   "metadata": {},
   "source": [
    "# Assignment\n",
    "\n",
    "In this Homework, your task is to do something similar to what we did with *The Sign of the Four*, but with a different novel — Jane Austen's *Pride and Prejudice* — and with some slightly different instructions. Read the instructions carefully!"
   ]
  },
  {
   "cell_type": "markdown",
   "metadata": {},
   "source": [
    "Import TextBlob and resources first!"
   ]
  },
  {
   "cell_type": "code",
   "execution_count": null,
   "metadata": {},
   "outputs": [],
   "source": [
    "from textblob import TextBlob\n",
    "nltk.download('punkt_tab')\n",
    "nltk.download('punkt')"
   ]
  },
  {
   "cell_type": "markdown",
   "metadata": {},
   "source": [
    "## Task 1: Load and Blob *Pride and Prejudice*\n",
    "\n",
    "Open `pride-and-prejudice.txt` and blob it with TextBlob, storing the resulting TextBlob object in a variable called `pride_blob`."
   ]
  },
  {
   "cell_type": "code",
   "execution_count": null,
   "metadata": {},
   "outputs": [],
   "source": [
    "# Write your code here\n"
   ]
  },
  {
   "cell_type": "markdown",
   "metadata": {},
   "source": [
    "## Task 2: Make Lists of Sentences, Sentiment Polarities, and Subjectivity Scores\n",
    "\n",
    "Create three parallel lists:\n",
    "\n",
    "- `pride_sentences`: a list of strings produced using Python's `\" \".join()` method to join (with spaces) the individual words in each sentence in *Pride and Prejudice*, as divided by TextBlob's `blob.sentences`\n",
    "- `pride_polarities`: a list of floating point numbers, each containing (in order) the TextBlob sentiment polarity score for the sentences in *Pride and Prejudice*, as divided by TextBlob's `blob.sentences`\n",
    "- `pride_subjectivities`: a list of floating point numbers, each containing (in order) the TextBlob subjectivity score for the sentences in *Pride and Prejudice*, as divided by TextBlob's `blob.sentences`"
   ]
  },
  {
   "cell_type": "code",
   "execution_count": null,
   "metadata": {},
   "outputs": [],
   "source": [
    "# Write your code here\n"
   ]
  },
  {
   "cell_type": "markdown",
   "metadata": {},
   "source": [
    "## Task 3: Make a DataFrame Out of Those Three Lists\n",
    "\n",
    "Create a Pandas DataFrame named `pride_sentence_sentiment_df`, with three columns called `sentence`, `polarity`, and `subjectivity`, containing the data from the three lists produced in the previous step."
   ]
  },
  {
   "cell_type": "code",
   "execution_count": null,
   "metadata": {},
   "outputs": [],
   "source": [
    "# Write your code here\n"
   ]
  },
  {
   "cell_type": "markdown",
   "metadata": {},
   "source": [
    "## Task 4: Create Four Results DataFrames\n",
    "\n",
    "Create four Pandas DataFrames by sorting and slicing the DataFrame created in the previous step. \n",
    "\n",
    "Each of the four new DataFrames should have three columns (`sentence`, `polarity`, and `subjectivity`) and 10 rows. \n",
    "\n",
    "The variable names indicate what should be stored in these variables:\n",
    "- `pride_top10_sentence_polarity`\n",
    "- `pride_bottom10_sentence_polarity`\n",
    "- `pride_top10_sentence_subjectivity`\n",
    "- `pride_bottom10_sentence_subjectivity`"
   ]
  },
  {
   "cell_type": "code",
   "execution_count": null,
   "metadata": {},
   "outputs": [],
   "source": [
    "# Write your code here\n"
   ]
  },
  {
   "cell_type": "markdown",
   "metadata": {},
   "source": [
    "\n",
    "## Marking Rubric\n",
    "This assignment will be autograded in Markus, and your mark fully determined by the \"correctness\" of the code as measured by the autograder. For example, if it says that 60% of the tests passed successfully, your mark on the assignment will be 60%. You will be able to see your mark right away and can resubmit the assignment as many times as you like to improve your mark.\n",
    "\n",
    "## How to Submit\n",
    "1. Download your homework to your local computer and save it as `W10_hw.ipynb`.\n",
    "2. Log into MarkUs using the link on Quercus.\n",
    "3. Submit your homework to `hw10: Homework 10`.\n"
   ]
  }
 ],
 "metadata": {
  "kernelspec": {
   "display_name": "Python 3",
   "language": "python",
   "name": "python3"
  },
  "language_info": {
   "codemirror_mode": {
    "name": "ipython",
    "version": 3
   },
   "file_extension": ".py",
   "mimetype": "text/x-python",
   "name": "python",
   "nbconvert_exporter": "python",
   "pygments_lexer": "ipython3",
   "version": "3.7.4"
  },
  "vscode": {
   "interpreter": {
    "hash": "901b79e026e03396fd1ffa7133844e9ea80e258ce34c66e1aabb5896bcb18463"
   }
  }
 },
 "nbformat": 4,
 "nbformat_minor": 4
}
