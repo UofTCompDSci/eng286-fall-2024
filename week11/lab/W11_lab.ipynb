{
 "cells": [
  {
   "cell_type": "markdown",
   "id": "1c958d42",
   "metadata": {},
   "source": [
    "# Week 11 Lab\n",
    "\n",
    "\n",
    "## Instructions\n",
    "\n",
    "Follow the instructions given in each cell.\n",
    "\n",
    "## Due date\n",
    "Labs are due each week on Wednesday at 8pm (**Nov 29, 8pm**)"
   ]
  },
  {
   "cell_type": "markdown",
   "id": "1ec1d817",
   "metadata": {},
   "source": [
    "## Task 1: Make sentiment curve predictions\n",
    "\n",
    "Pick any book that you know well and for which you can find a plain text file online.\n",
    "\n",
    "Before doing any computational analysis, describe what you think the sentiment curve is for this book, including a brief explanation of why. Does the novel's sentiment curve fall into any of Kurt Vonnegut's eight archetypal shapes (see PDF lecture slides)? Write your answers in the MarkDown cell below."
   ]
  },
  {
   "cell_type": "markdown",
   "id": "d05bedf9",
   "metadata": {},
   "source": [
    "**(Delete this text and write your response here.)**"
   ]
  },
  {
   "cell_type": "markdown",
   "id": "be68ce5e",
   "metadata": {},
   "source": [
    "## Task 2: Import your novel into Python, perform sentiment calculations, and generate plots\n",
    "\n",
    "Upload your chosen text file to the JupyterHub folder in which this notebook lives. Then load your chosen novel into Python and follow the procedure outlined in the W10 and W11 lectures for generating sentiment curve plots. Call the variables whatever you like.\n",
    "* Make a list containing the text of every sentence in the novel\n",
    "* Make a parallel list containing the sentiment polarity values for each of those sentences\n",
    "* Make another parallel list containing the subjectivity scores for each sentence\n",
    "* Make a DataFrame from these three lists\n",
    "* Add three columns to this DataFrame, containing rolling average of sentiment polarity with window sizes of 10, 50, and 100 sentences\n",
    "* Plot the raw polarity values and the rolling average polarity values for the 10-, 50-, and 100- sentence window sizes. "
   ]
  },
  {
   "cell_type": "code",
   "execution_count": null,
   "id": "2ef11fa7",
   "metadata": {},
   "outputs": [],
   "source": [
    "# Use as many code cells as necessary to carry out the above steps."
   ]
  },
  {
   "cell_type": "markdown",
   "id": "57e36777",
   "metadata": {},
   "source": [
    "## Task 3: Reflect on the sentiment curves you generated\n",
    "\n",
    "In the Markdown cell below, reflect on the sentiment curves you generated in the previous step. How well do they correspond to your predictions in Task 1? Which of the four plots (raw, 10-, 50-, or 100-sentence rolling average) seems most accurate, given your knowledge of the text? Do these curves force you to reevaluate your understanding of the novel in any way? How useful or promising are automatically-generated sentiment curve plots such as these? How might they change the way we study or read literature?"
   ]
  },
  {
   "cell_type": "markdown",
   "id": "61341967",
   "metadata": {},
   "source": [
    "**(Delete this text and write your response here.)**"
   ]
  },
  {
   "cell_type": "markdown",
   "id": "205113c7",
   "metadata": {},
   "source": [
    "## How to Submit\n",
    "1. Download this notebook to your local computer and save it as `W11_lab.ipynb`.\n",
    "\n",
    "2. Log into MarkUs using the link on Quercus.\n",
    "\n",
    "3. Submit your homework to `lab11: Lab 11`."
   ]
  }
 ],
 "metadata": {
  "kernelspec": {
   "display_name": "Python 3",
   "language": "python",
   "name": "python3"
  },
  "language_info": {
   "codemirror_mode": {
    "name": "ipython",
    "version": 3
   },
   "file_extension": ".py",
   "mimetype": "text/x-python",
   "name": "python",
   "nbconvert_exporter": "python",
   "pygments_lexer": "ipython3",
   "version": "3.7.4"
  }
 },
 "nbformat": 4,
 "nbformat_minor": 5
}
