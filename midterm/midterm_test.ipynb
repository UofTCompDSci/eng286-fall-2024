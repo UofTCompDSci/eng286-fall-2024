{
 "cells": [
  {
   "cell_type": "markdown",
   "id": "86ccdfa9",
   "metadata": {},
   "source": [
    "# ENG286 Midterm Test\n",
    "\n",
    "### Duration: 1 hour 50 minutes (110 minutes)\n",
    "### Three Parts, 40 Total Points Possible\n"
   ]
  },
  {
   "cell_type": "markdown",
   "id": "25849790",
   "metadata": {},
   "source": [
    "# Part 1: Coding Exercises (12 points, ~30 minutes)\n",
    "\n",
    "Part 1 of the exam asks you to perform a variety of coding tasks."
   ]
  },
  {
   "cell_type": "markdown",
   "id": "c57c9bd9",
   "metadata": {},
   "source": [
    "### Task 1 (5 points)\n",
    "\n",
    "**Create the following five variables:**\n",
    "\n",
    "- **`string1`: a string that is 10 to 20 characters long**\n",
    "- **`string2`: last 5 characters of `string1`**\n",
    "- **`num1` : an integer between 1 to 10**\n",
    "- **`string3`: `string2` multiplied by `num1`**\n",
    "- **`boolean1` which checks to see if the length of `string1` is greater than `string3`**\n",
    "\n",
    "You may wish to verify your work by running `print()` on each of your newly created variables, and using `type()` to verify the type of each."
   ]
  },
  {
   "cell_type": "code",
   "execution_count": 1,
   "id": "dbf33a75",
   "metadata": {},
   "outputs": [],
   "source": []
  },
  {
   "cell_type": "markdown",
   "id": "e889f218",
   "metadata": {},
   "source": [
    "### Task 2 (4 points)\n",
    "\n",
    "**In the same folder as this notebook is Frankenstein.txt, which contains parts of the text of Mary Shelley's *Frankenstein* encoded in UTF-8 format.**\n",
    "\n",
    "**Using the text file, complete the following tasks to prepare for task 3:**\n",
    "- **Store the contents of `Frankenstein.txt` in a variable called `frankenstein`.**\n",
    "- **Split `frankenstein` into sentences using periods and store the result in a variable called`frankenstein_sentences`.**\n",
    "- **Create a variable named `frankenstein_first` that contains the first sentence of `frankenstein_sentences`.**\n",
    "- **Store the length of `frankenstein_first` in a variable called `frankenstein_first_len`**\n",
    "\n",
    "You may wish to verify your work by running print() on `frankenstein_first`."
   ]
  },
  {
   "cell_type": "code",
   "execution_count": 4,
   "id": "c960e2de",
   "metadata": {},
   "outputs": [],
   "source": [
    "\n"
   ]
  },
  {
   "cell_type": "markdown",
   "id": "40937c56",
   "metadata": {},
   "source": [
    "### Task 3 (3 points)\n",
    "\n",
    "**Create a list called `words_list` to store all the lowercase words in `frankenstein_first`. Then count how many times the word 'you' appears in `words_list`.**\n",
    "- **Convert each word in `frankenstein_first` to lowercase.**\n",
    "-  **Split the now lowercase contents of `frankenstein_first` into words and store them in a new variable called `words_list`.**\n",
    "- **Next, Create a variable called `count` that equals 0.**\n",
    "- **Then use a for loop to iterate through each word in `words_list`. Use an if statement to check if each word equals “you.” If the word equals \"you\" add 1 to the `count` variable.**\n",
    "\n",
    "(If you are wondering how to add 1 to `count`, remember that you can carry out an operation using a variable and then assign the result to the same variable to update it.)  \n",
    "\n",
    "\n",
    "You may wish to verify your work by running print() on `words_list` and `count`."
   ]
  },
  {
   "cell_type": "code",
   "execution_count": 5,
   "id": "e8d55a8d",
   "metadata": {},
   "outputs": [],
   "source": [
    "\n"
   ]
  },
  {
   "cell_type": "markdown",
   "metadata": {},
   "source": [
    "# Part 2: Type-Token Ratios Short Answer (18 points, ~45 minutes)\n",
    "\n",
    "Part 2 of this exam consists of a TTR experiment on the chapters of Sir Arthur Conan Doyle's *The Sign of the Four*. For your answers, aim for a length of 1-3 sentences."
   ]
  },
  {
   "cell_type": "markdown",
   "metadata": {},
   "source": [
    "### Tasks 4-6: Code Rationale\n",
    "This section consists of short answer questions related to the code used below to calculate non-standardized and standardized TTRs for the chapters of The Sign of the Four."
   ]
  },
  {
   "cell_type": "markdown",
   "metadata": {},
   "source": [
    "The code cell below calculates non-standardized and standardized Type-Token Ratios for each of the chapters in *The Sign of the Four*.\n",
    "\n",
    "Run the cell to complete tasks 5-7."
   ]
  },
  {
   "cell_type": "code",
   "execution_count": 1,
   "metadata": {},
   "outputs": [],
   "source": [
    "import re\n",
    "from pathlib import Path\n",
    "\n",
    "folder_path = \"sot4chaps/\"\n",
    "\n",
    "sample_size = 0\n",
    "\n",
    "file = open(\"ttr-overall.csv\", mode=\"w\", encoding=\"utf-8\")\n",
    "\n",
    "file.write('\"Text\",\"Types\",\"Tokens\",\"TTR\"\\n')\n",
    "\n",
    "for file_path in sorted(Path(folder_path).glob('*.txt')):\n",
    "    \n",
    "    text = open(file_path, encoding='utf-8').read()\n",
    "    text = re.sub(\"[^a-zA-Z0-9]\", \" \", text)\n",
    "    \n",
    "    text_words = text.split()\n",
    "    tokens = len(text_words)  \n",
    "    \n",
    "    if sample_size == 0 or tokens < sample_size:\n",
    "        sample_size = tokens\n",
    "    \n",
    "    unique_words = []\n",
    "    \n",
    "    for word in text_words:\n",
    "        word = word.lower()  \n",
    "        if word not in unique_words:\n",
    "            unique_words.append(word)\n",
    "            \n",
    "    types = len(unique_words)\n",
    "    \n",
    "    ttr = (types / tokens) * 100\n",
    "    \n",
    "    file.write(f'\"{file_path.stem}\",{types},{tokens},{ttr}\\n')\n",
    "\n",
    "file.close()\n",
    "\n",
    "\n",
    "\n",
    "file = open(\"ttr-standardized.csv\", mode=\"w\", encoding=\"utf-8\")\n",
    "\n",
    "file.write('\"Text\",\"Types\",\"Tokens\",\"TTR\"\\n')\n",
    "\n",
    "for file_path in sorted(Path(folder_path).glob('*.txt')):\n",
    "    text = open(file_path, encoding='utf-8').read()\n",
    "    text = re.sub(\"[^a-zA-Z0-9]\", \" \", text)\n",
    "    \n",
    "    text_words = text.split()\n",
    "    text_words_standardized = text_words[:sample_size]\n",
    "    tokens_standardized = len(text_words_standardized)\n",
    "\n",
    "    unique_words_standardized = []\n",
    "    \n",
    "    for word in text_words_standardized:\n",
    "        word = word.lower()\n",
    "        if word not in unique_words_standardized:\n",
    "            unique_words_standardized.append(word)\n",
    "            \n",
    "    types_standardized = len(unique_words_standardized)\n",
    "    \n",
    "    ttr_standardized = (types_standardized / tokens_standardized) * 100\n",
    "    \n",
    "    file.write(f'\"{file_path.stem}\",{types_standardized},{tokens_standardized},{ttr_standardized}\\n')\n",
    "\n",
    "file.close()"
   ]
  },
  {
   "cell_type": "markdown",
   "metadata": {},
   "source": [
    "### Task 4 (3 points)\n",
    "This code contains a regex that removes uppercase letters, punctuation, and special characters. Why? How might the TTR results differ without this expression?"
   ]
  },
  {
   "cell_type": "markdown",
   "metadata": {},
   "source": [
    "(REPLACE THIS TEXT AND ENTER YOUR ANSWER HERE.)\n"
   ]
  },
  {
   "cell_type": "markdown",
   "metadata": {},
   "source": [
    "### Task 5 (3 points)\n",
    "In the code above, we created a `unique_words` variable. Why do we need to store the `unique_words` in order to calculate the TTR? \n"
   ]
  },
  {
   "cell_type": "markdown",
   "metadata": {},
   "source": [
    "(REPLACE THIS TEXT AND ENTER YOUR ANSWER HERE.)\n"
   ]
  },
  {
   "cell_type": "markdown",
   "metadata": {},
   "source": [
    "### Task 6 (3 points)\n",
    "\n",
    "The following line of code differentiates standardized from non-standardized TTR calculation: `text_words_standardized = text_words[:sample_size]`. Explain what this code does to standardize the sample. \n"
   ]
  },
  {
   "cell_type": "markdown",
   "metadata": {},
   "source": [
    "(REPLACE THIS TEXT AND ENTER YOUR ANSWER HERE.)\n"
   ]
  },
  {
   "cell_type": "markdown",
   "metadata": {},
   "source": [
    "## Tasks 7–9: TTR Interpretation\n",
    "This section asks questions related to the results of the TTR experiment, displayed in the tables below. \n",
    "\n",
    "Read all 3 of the following tasks before you begin answering in order to avoid overlap in your responses."
   ]
  },
  {
   "cell_type": "markdown",
   "metadata": {},
   "source": [
    "**The two code cells below load the CSV files created above and display them as tables.**\n",
    "\n",
    "**The first cell gives non-standardized values, and the second gives standardized values.**\n",
    "\n",
    "**Run both cells.**\n"
   ]
  },
  {
   "cell_type": "code",
   "execution_count": null,
   "metadata": {},
   "outputs": [],
   "source": [
    "import pandas as pd \n",
    "sot4chaps_overall = pd.read_csv('ttr-overall.csv')\n",
    "sot4chaps_overall"
   ]
  },
  {
   "cell_type": "code",
   "execution_count": null,
   "metadata": {},
   "outputs": [],
   "source": [
    "sot4chaps_standardized = pd.read_csv('ttr-standardized.csv')\n",
    "sot4chaps_standardized"
   ]
  },
  {
   "cell_type": "markdown",
   "metadata": {},
   "source": [
    "### Task 7 (3 points)\n",
    "Reflect on the significance of TTR analysis in the context of  these chapters. How can TTR values provide insights into the text's linguistic characteristics and literary qualities?\n"
   ]
  },
  {
   "cell_type": "markdown",
   "metadata": {},
   "source": [
    "(REPLACE THIS TEXT AND ENTER YOUR ANSWER HERE.)\n"
   ]
  },
  {
   "cell_type": "markdown",
   "metadata": {},
   "source": [
    "### Task 8 (3 points)\n",
    "Are the standardized and non-standardized results similar? What are the main differences between the two? Is there a context when we might prefer one over the other?"
   ]
  },
  {
   "cell_type": "markdown",
   "metadata": {},
   "source": [
    "(REPLACE THIS TEXT AND ENTER YOUR ANSWER HERE.)\n"
   ]
  },
  {
   "cell_type": "markdown",
   "metadata": {},
   "source": [
    "### Task 9 (3 points)\n",
    "What are some limitations of this experiment? What further data or information would you require to interpret these numbers more fully?\n"
   ]
  },
  {
   "cell_type": "markdown",
   "metadata": {},
   "source": [
    "\n",
    "(REPLACE THIS TEXT AND ENTER YOUR ANSWER HERE.)"
   ]
  },
  {
   "cell_type": "markdown",
   "metadata": {},
   "source": [
    "# Part 3: Reading Response (10 points, ~20 minutes) "
   ]
  },
  {
   "cell_type": "markdown",
   "metadata": {},
   "source": [
    "In Chapter 1 of The Sign of the Four, Sherlock Holmes criticizes Dr. Watson's written description of an earlier case. He says that: \n",
    "\n",
    "> Detection is, or ought to be, an exact science, and should be treated in the same cold and unemotional manner. You have attempted to tinge it with romanticism [...] Some facts should be suppressed, or at least a just sense of proportion should be observed in treating them. The only point in the case which deserved mention was the curious analytical reasoning from effects to causes by which I succeeded in unraveling it.\n",
    "\n",
    "The concept of objectivity is important in data science and in the course more broadly. In a **well-organized response of 1-2 paragraphs**, please answer one of the following questions. You will be graded on the quality of your response rather than the length.\n",
    "\n",
    "### Task 10 (10 points)\n",
    "Choose **ONE** of the following questions to answer:\n",
    "\n",
    "1. **Using the course readings (reference at least one in your response), explain what information is needed in order for us to evaluate whether a programming tool we use in this course is \"objective.\"**\n",
    "\n",
    "2. **From our course readings, various authors explore the intersection of technology, data, and literature. Consider how the texts collectively address the idea of \"distant reading\" and the impact of technology on our understanding of language and culture. What are the potential benefits and drawbacks of distant reading as discussed in these texts, and how do they relate to broader discussions about how technology shapes our relationship with literature and language?**\n",
    "\n",
    "3. **Is data neutral in the humanities? Explain your reasoning by drawing on examples from lecture material or course readings. What are the implications of your position?** "
   ]
  },
  {
   "cell_type": "markdown",
   "metadata": {},
   "source": [
    "(REPLACE THIS TEXT AND ENTER YOUR ANSWER HERE)"
   ]
  },
  {
   "cell_type": "markdown",
   "metadata": {},
   "source": [
    "## How to Submit\n",
    "1. Download your midterm Jupyter notebook to your local computer and save it as `midterm_test.ipynb`.\n",
    "2. Log in here: https://markus.teach.cs.toronto.edu/markus\n",
    "3. Submit your notebook to `midterm-test`."
   ]
  }
 ],
 "metadata": {
  "kernelspec": {
   "display_name": "Python 3 (ipykernel)",
   "language": "python",
   "name": "python3"
  },
  "language_info": {
   "codemirror_mode": {
    "name": "ipython",
    "version": 3
   },
   "file_extension": ".py",
   "mimetype": "text/x-python",
   "name": "python",
   "nbconvert_exporter": "python",
   "pygments_lexer": "ipython3",
   "version": "3.7.3"
  }
 },
 "nbformat": 4,
 "nbformat_minor": 5
}
