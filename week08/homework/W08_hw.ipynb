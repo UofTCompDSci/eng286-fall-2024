{
 "cells": [
  {
   "cell_type": "markdown",
   "id": "e8732e99",
   "metadata": {
    "id": "7a7614d2"
   },
   "source": [
    "# Week 8 Homework\n",
    "\n",
    "## Instructions\n",
    "For each task, write your code in the cell below the comment. (Unlike in labs, there are no per-task tests provided, though you can write your own small tests as you go.) When all of the code is complete, upload it to Markus. \n",
    "\n",
    "## Due date\n",
    "Assignments are due on the Monday of each week, except for Reading week, at 10p.m."
   ]
  },
  {
   "cell_type": "markdown",
   "id": "af9da1d8",
   "metadata": {
    "id": "430a1ff8"
   },
   "source": [
    "# Assignment"
   ]
  },
  {
   "cell_type": "markdown",
   "id": "b1a1ee28",
   "metadata": {},
   "source": [
    "## Task 1: Setting up the DataFrames\n",
    "\n",
    "In this folder is a TSV file named `seattle_checkouts_gender_signal.tsv`. This is a version of the Seattle Checkouts dataset introduced in last week's lab, to which we have added two new columns — `first_name` and `gender_signal` – using the exact processes in the W8 Supplementary Lecture notebook.\n",
    "\n",
    "Import Pandas and read `seattle_checkouts_gender_signal.tsv` into a dataframe called `checkouts_gender_signal_df`."
   ]
  },
  {
   "cell_type": "code",
   "execution_count": null,
   "id": "090d770d",
   "metadata": {},
   "outputs": [],
   "source": [
    "# Write your code here\n"
   ]
  },
  {
   "cell_type": "code",
   "execution_count": null,
   "id": "f594120b",
   "metadata": {},
   "outputs": [],
   "source": [
    "checkouts_gender_signal_df"
   ]
  },
  {
   "cell_type": "markdown",
   "id": "2e55d69e",
   "metadata": {},
   "source": [
    "## Task 2: Storing the Value Counts for Each Gender Signal Category\n",
    "\n",
    "Create a variable called `gender_signal_counts` in which you store the value counts for each category in the `gender_signal_signal` column of the `checkouts_gender_signal_df` DataFrame created in the previous step.\n",
    "\n",
    "You may wish to check your work by printing `gender_signal_counts` and confirming that its type is a Pandas Series."
   ]
  },
  {
   "cell_type": "code",
   "execution_count": null,
   "id": "f9c0dcca",
   "metadata": {},
   "outputs": [],
   "source": [
    "# Write your code here\n"
   ]
  },
  {
   "cell_type": "markdown",
   "id": "ef78d3e4",
   "metadata": {},
   "source": [
    "# Task 3: Create a Pie Chart\n",
    "\n",
    "Create a pie chart plot of the values stored in the `gender_signal_counts` variable, and store that plot in a variable called `gender_signal_counts_pie`. Set the `figsize` parameter of the pie chart to `(10, 10)`.\n",
    "\n",
    "You may wish to check your work by printing `gender_signal_counts_pie`."
   ]
  },
  {
   "cell_type": "code",
   "execution_count": null,
   "id": "a264644a",
   "metadata": {},
   "outputs": [],
   "source": [
    "# Write your code here\n"
   ]
  },
  {
   "cell_type": "markdown",
   "id": "4727089b",
   "metadata": {},
   "source": [
    "## Task 4: Create a DataFrame of Gender Signal Information by Publication Year\n",
    "\n",
    "Below is the line of code from lecture in which we produced a dataframe of gender signal information for each year in the New York Times Best Seller List.\n",
    "\n",
    "Modify this line of code so that:\n",
    "* The code applies to the `checkouts_gender_signal_df` dataframe rather that `nytg_df`\n",
    "* The DataFrame is grouped first by the `PublicationYear` column and then by the `gender_signal` column\n",
    "* The resulting DataFrame is stored in a variable `checkout_year_counts`"
   ]
  },
  {
   "cell_type": "code",
   "execution_count": null,
   "id": "f8c31506",
   "metadata": {},
   "outputs": [],
   "source": [
    "# Modify this code for the task\n",
    "nytg_df.groupby(['year', 'gender_signal']).size().unstack(fill_value=0)"
   ]
  },
  {
   "cell_type": "markdown",
   "id": "e8888248",
   "metadata": {},
   "source": [
    "## Task 5: Calculating the Percentage of Female-Signalled Authorship for Each Publication Year\n",
    "\n",
    "Adapt the code from lecture to add a `total` column (a sum of all values for in each row) and a `prop-F` column (proprtion of creators predicted as female in that year) to `checkout_year_counts`.\n",
    "\n",
    "Check your work by printing `checkout_year_counts`."
   ]
  },
  {
   "cell_type": "code",
   "execution_count": null,
   "id": "bf081288",
   "metadata": {},
   "outputs": [],
   "source": [
    "# Write your code here\n"
   ]
  },
  {
   "cell_type": "markdown",
   "id": "d174571c",
   "metadata": {},
   "source": [
    "## Task 6: Creating a Bar Chart for Percentage of Female-Signalled Authorship by Year\n",
    "\n",
    "In a variable called `bar_plot`, store a bar plot that displays the percentage of female-predicted authorship by year, as stored in the `prop-F` columns of the `checkout_year_counts` DataFrame created above. \n",
    "\n",
    "For the purposes of autograding, **do not give this bar plot a title** and **set the figsize parameter to (15,8), as in the lecture code**.\n",
    "\n",
    "Check your work by printing `bar_plot`."
   ]
  },
  {
   "cell_type": "code",
   "execution_count": null,
   "id": "6a05a73a",
   "metadata": {},
   "outputs": [],
   "source": [
    "# Write your code here\n"
   ]
  },
  {
   "cell_type": "markdown",
   "id": "68f670a9",
   "metadata": {},
   "source": [
    "## Marking Rubric\n",
    "This assignment will be autograded in Markus, and your mark fully determined by the \"correctness\" of the code as measured by the autograder. For example, if it says that 60% of the tests passed successfully, your mark on the assignment will be 60%. You will be able to see your mark right away and can resubmit the assignment as many times as you like to improve your mark.\n",
    "\n",
    "## How to Submit\n",
    "1. Download your homework to your local computer and save it as `W08_hw.ipynb`.\n",
    "2. Log into MarkUs using the link on Quercus.\n",
    "3. Submit your homework to `hw8: Homework 8`."
   ]
  }
 ],
 "metadata": {
  "colab": {
   "name": "Week 8.ipynb",
   "provenance": []
  },
  "kernelspec": {
   "display_name": "Python 3",
   "language": "python",
   "name": "python3"
  },
  "language_info": {
   "codemirror_mode": {
    "name": "ipython",
    "version": 3
   },
   "file_extension": ".py",
   "mimetype": "text/x-python",
   "name": "python",
   "nbconvert_exporter": "python",
   "pygments_lexer": "ipython3",
   "version": "3.7.4"
  },
  "vscode": {
   "interpreter": {
    "hash": "901b79e026e03396fd1ffa7133844e9ea80e258ce34c66e1aabb5896bcb18463"
   }
  }
 },
 "nbformat": 4,
 "nbformat_minor": 5
}
